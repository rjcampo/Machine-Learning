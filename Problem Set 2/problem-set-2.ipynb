{
 "cells": [
  {
   "cell_type": "markdown",
   "metadata": {},
   "source": [
    "# Machine Learning - Problem Set 2\n",
    "## Richard Campo in collaboration with Julia Klauss"
   ]
  },
  {
   "cell_type": "code",
   "execution_count": 1,
   "metadata": {},
   "outputs": [],
   "source": [
    "import pandas as pd\n",
    "import numpy as np\n",
    "import os\n",
    "import matplotlib.pyplot as plt\n",
    "import seaborn as sns\n",
    "import statsmodels.api as sm"
   ]
  },
  {
   "cell_type": "markdown",
   "metadata": {},
   "source": [
    "### Chapter 4 - Question 5\n",
    "#### (a.)\n",
    "If the Bayes decision boundary is linear, then we would expect QDA to perform better on the training set because it is more flexible. However, we would expect LDA to perform better on the test set because the true decision boundary is linear, so QDA would overfit the data."
   ]
  },
  {
   "cell_type": "markdown",
   "metadata": {},
   "source": [
    "#### (b.)"
   ]
  },
  {
   "cell_type": "markdown",
   "metadata": {},
   "source": [
    "If the Bayes decision boundary is non-linear, we expect QDA to perform better on the training set because it can accurately model the non-linear boundary and thus better fit the data. We also expect QDA to perform better on the test set because LDA would not accurately model the true non-linear boundary."
   ]
  },
  {
   "cell_type": "markdown",
   "metadata": {},
   "source": [
    "#### (c.)\n",
    "\n",
    "As the sample size $n$ increases, we expect the test prediction accuracy of QDA relative to LDA to improve. This is because QDA can fit the true, likely non-linear, decision boundary more closely, resulting in lower bias than LDA. Additionally, QDA's variance will decrease as $n$ increases, alleviating concerns about the QDA model being too unstable."
   ]
  },
  {
   "cell_type": "markdown",
   "metadata": {},
   "source": [
    "#### (d.)"
   ]
  },
  {
   "cell_type": "markdown",
   "metadata": {},
   "source": [
    "False. If the Bayes decision boundary is linear, then we will probably achieve a lower test error rate using LDA rather than QDA. This is because QDA will overfit the training data and add non-linearity to the boundary where none exists, so QDA will likely perform worse on the test set than LDA."
   ]
  },
  {
   "cell_type": "markdown",
   "metadata": {},
   "source": [
    "### Chapter 4 - Question 6"
   ]
  },
  {
   "cell_type": "markdown",
   "metadata": {},
   "source": [
    "Our estimated model is: $$\\ln\\left(\\frac{\\hat{p}(X)}{1-\\hat{p}(X)}\\right) = -6 + 0.05 X_1 + 1 X_2$$\n",
    "\n",
    "#### (a.)\n",
    "\n",
    "The estimated probability that a student who studies for 40 hours a week and has an undergrad GPA of 3.5 will receive an A is:\n",
    "\n",
    "$$\\hat{p}(X) = \\frac{\\exp(-6 + 0.05(40) + 1(3.5))}{1 + \\exp(-6 + 0.05(40) + 1(3.5))} = 0.3775$$\n",
    "\n",
    "or about 37.5%."
   ]
  },
  {
   "cell_type": "markdown",
   "metadata": {},
   "source": [
    "#### (b.)"
   ]
  },
  {
   "cell_type": "markdown",
   "metadata": {},
   "source": [
    "To have a 50% chance of getting an A, the student would need to study:\n",
    "\n",
    "$$0.50 = \\frac{\\exp(-6 + 0.05(X_1) + 1(3.5))}{1 + \\exp(-6 + 0.05(X_1) + 1(3.5))}$$\n",
    "$$0.5 = \\frac{\\exp(0.05(X_1) - 2.5)}{1 + \\exp(0.05(X_1) - 2.5)}$$\n",
    "$$0.5 + 0.5(\\exp(0.05(X_1) - 2.5)) = \\exp(0.05(X_1) - 2.5)$$\n",
    "$$0.5 = 1\\exp(0.05(X_1) - 2.5) - 0.5(\\exp(0.05(X_1) - 2.5))$$\n",
    "$$0.5 = 0.5(\\exp(0.05(X_1) - 2.5))$$\n",
    "$$1 = \\exp(0.05(X_1) - 2.5)$$\n",
    "$$\\ln(1) = 0.05(X_1) - 2.5$$\n",
    "$$0 = 0.05(X_1) - 2.5$$\n",
    "$$2.5 = 0.05(X_1)$$\n",
    "$$ X_1 = 50$$\n",
    "or 50 hours."
   ]
  },
  {
   "cell_type": "markdown",
   "metadata": {},
   "source": [
    "### Chapter 5: Question 7"
   ]
  },
  {
   "cell_type": "markdown",
   "metadata": {},
   "source": [
    "Given:\n",
    "- $\\bar{X} = 10$ is the mean value of X for comapnies that issued a dividend\n",
    "- $\\bar{X} = 0$ is the mean value of X for companies that did not issue a dividend\n",
    "- $\\sigma^2 = 36$ is the variance of X for both types of companies\n",
    "- Pr(Y=1) = 0.80 is the proportion of companies that issued a dividend, which we can think of as a probability\n",
    "\n",
    "We want to find the probability that a company issued a dividend given its X value was 4, or Pr(D|X).\n",
    "\n",
    "Bayes' Theorem states:\n",
    "$$\\Pr(Y=1|X) = \\frac{\\Pr(X|Y=1)\\Pr(Y=1)}{\\Pr(X)}$$\n",
    "\n",
    "We can calculate Pr(X|D) using the normal density function:\n",
    "$$f(x) = \\frac{1}{\\sqrt{2\\pi\\sigma^2}} e^{-\\frac{(x - \\mu)^2}{2\\sigma^2}}$$\n",
    "$$Pr(X|Y=1) = \\frac{1}{\\sqrt{2\\pi(36)}} e^{-\\frac{(4 - 10)^2}{2 \\cdot 36}}$$\n",
    "$$Pr(X|Y=1) = \\frac{1}{\\sqrt{72\\pi}} e^{-\\frac{(-6)^2}{72}}$$\n",
    "$$Pr(X|Y=1) = \\frac{1}{6\\sqrt{2\\pi}} e^{-\\frac{36}{72}}$$\n",
    "$$Pr(X|Y=1) = \\frac{1}{6\\sqrt{2\\pi}} e^{-\\frac{1}{2}}$$\n",
    "$$Pr(X|Y=1) = \\frac{1}{6\\sqrt{2e\\pi}}$$\n",
    "$$Pr(X|Y=1) \\approx 0.04 $$"
   ]
  },
  {
   "cell_type": "code",
   "execution_count": null,
   "metadata": {},
   "outputs": [],
   "source": []
  },
  {
   "cell_type": "code",
   "execution_count": null,
   "metadata": {},
   "outputs": [],
   "source": []
  },
  {
   "cell_type": "markdown",
   "metadata": {},
   "source": []
  }
 ],
 "metadata": {
  "kernelspec": {
   "display_name": "base",
   "language": "python",
   "name": "python3"
  },
  "language_info": {
   "codemirror_mode": {
    "name": "ipython",
    "version": 3
   },
   "file_extension": ".py",
   "mimetype": "text/x-python",
   "name": "python",
   "nbconvert_exporter": "python",
   "pygments_lexer": "ipython3",
   "version": "3.10.9"
  }
 },
 "nbformat": 4,
 "nbformat_minor": 2
}
