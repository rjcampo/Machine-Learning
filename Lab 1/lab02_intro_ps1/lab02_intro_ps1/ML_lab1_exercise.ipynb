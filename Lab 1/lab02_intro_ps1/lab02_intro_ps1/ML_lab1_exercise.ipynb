{
 "cells": [
  {
   "cell_type": "markdown",
   "metadata": {},
   "source": [
    "# lab 1 | Regressions"
   ]
  },
  {
   "cell_type": "markdown",
   "metadata": {},
   "source": [
    "For your very first exercise in this course, you will try to predict the grades of students in a Portuguese school. For this, we will use (simplified) questionnaire data that you will first need to clean (a little).\n",
    "\n",
    "Credit: [data source](https://archive.ics.uci.edu/ml/datasets/Student+Performance)"
   ]
  },
  {
   "cell_type": "code",
   "execution_count": null,
   "metadata": {},
   "outputs": [
    {
     "name": "stdout",
     "output_type": "stream",
     "text": [
      "Requirement already satisfied: numpy in /opt/homebrew/lib/python3.11/site-packages (1.26.3)\n",
      "Requirement already satisfied: pandas in /opt/homebrew/lib/python3.11/site-packages (2.1.4)\n",
      "Requirement already satisfied: numpy<2,>=1.23.2 in /opt/homebrew/lib/python3.11/site-packages (from pandas) (1.26.3)\n",
      "Requirement already satisfied: python-dateutil>=2.8.2 in /Users/Harsh/Library/Python/3.11/lib/python/site-packages (from pandas) (2.8.2)\n",
      "Requirement already satisfied: pytz>=2020.1 in /opt/homebrew/lib/python3.11/site-packages (from pandas) (2023.3.post1)\n",
      "Requirement already satisfied: tzdata>=2022.1 in /opt/homebrew/lib/python3.11/site-packages (from pandas) (2023.4)\n",
      "Requirement already satisfied: six>=1.5 in /Users/Harsh/Library/Python/3.11/lib/python/site-packages (from python-dateutil>=2.8.2->pandas) (1.16.0)\n",
      "Requirement already satisfied: matplotlib in /opt/homebrew/lib/python3.11/site-packages (3.8.2)\n",
      "Requirement already satisfied: contourpy>=1.0.1 in /opt/homebrew/lib/python3.11/site-packages (from matplotlib) (1.2.0)\n",
      "Requirement already satisfied: cycler>=0.10 in /opt/homebrew/lib/python3.11/site-packages (from matplotlib) (0.12.1)\n",
      "Requirement already satisfied: fonttools>=4.22.0 in /opt/homebrew/lib/python3.11/site-packages (from matplotlib) (4.47.2)\n",
      "Requirement already satisfied: kiwisolver>=1.3.1 in /opt/homebrew/lib/python3.11/site-packages (from matplotlib) (1.4.5)\n",
      "Requirement already satisfied: numpy<2,>=1.21 in /opt/homebrew/lib/python3.11/site-packages (from matplotlib) (1.26.3)\n",
      "Requirement already satisfied: packaging>=20.0 in /Users/Harsh/Library/Python/3.11/lib/python/site-packages (from matplotlib) (23.1)\n",
      "Requirement already satisfied: pillow>=8 in /opt/homebrew/lib/python3.11/site-packages (from matplotlib) (10.2.0)\n",
      "Requirement already satisfied: pyparsing>=2.3.1 in /opt/homebrew/lib/python3.11/site-packages (from matplotlib) (3.1.1)\n",
      "Requirement already satisfied: python-dateutil>=2.7 in /Users/Harsh/Library/Python/3.11/lib/python/site-packages (from matplotlib) (2.8.2)\n",
      "Requirement already satisfied: six>=1.5 in /Users/Harsh/Library/Python/3.11/lib/python/site-packages (from python-dateutil>=2.7->matplotlib) (1.16.0)\n",
      "Requirement already satisfied: statsmodels in /opt/homebrew/lib/python3.11/site-packages (0.14.1)\n",
      "Requirement already satisfied: numpy<2,>=1.18 in /opt/homebrew/lib/python3.11/site-packages (from statsmodels) (1.26.3)\n",
      "Requirement already satisfied: scipy!=1.9.2,>=1.4 in /opt/homebrew/lib/python3.11/site-packages (from statsmodels) (1.11.4)\n",
      "Requirement already satisfied: pandas!=2.1.0,>=1.0 in /opt/homebrew/lib/python3.11/site-packages (from statsmodels) (2.1.4)\n",
      "Requirement already satisfied: patsy>=0.5.4 in /opt/homebrew/lib/python3.11/site-packages (from statsmodels) (0.5.6)\n",
      "Requirement already satisfied: packaging>=21.3 in /Users/Harsh/Library/Python/3.11/lib/python/site-packages (from statsmodels) (23.1)\n",
      "Requirement already satisfied: python-dateutil>=2.8.2 in /Users/Harsh/Library/Python/3.11/lib/python/site-packages (from pandas!=2.1.0,>=1.0->statsmodels) (2.8.2)\n",
      "Requirement already satisfied: pytz>=2020.1 in /opt/homebrew/lib/python3.11/site-packages (from pandas!=2.1.0,>=1.0->statsmodels) (2023.3.post1)\n",
      "Requirement already satisfied: tzdata>=2022.1 in /opt/homebrew/lib/python3.11/site-packages (from pandas!=2.1.0,>=1.0->statsmodels) (2023.4)\n",
      "Requirement already satisfied: six in /Users/Harsh/Library/Python/3.11/lib/python/site-packages (from patsy>=0.5.4->statsmodels) (1.16.0)\n",
      "Requirement already satisfied: scikit-learn in /opt/homebrew/lib/python3.11/site-packages (1.3.2)\n",
      "Requirement already satisfied: numpy<2.0,>=1.17.3 in /opt/homebrew/lib/python3.11/site-packages (from scikit-learn) (1.26.3)\n",
      "Requirement already satisfied: scipy>=1.5.0 in /opt/homebrew/lib/python3.11/site-packages (from scikit-learn) (1.11.4)\n",
      "Requirement already satisfied: joblib>=1.1.1 in /opt/homebrew/lib/python3.11/site-packages (from scikit-learn) (1.3.2)\n",
      "Requirement already satisfied: threadpoolctl>=2.0.0 in /opt/homebrew/lib/python3.11/site-packages (from scikit-learn) (3.2.0)\n"
     ]
    }
   ],
   "source": [
    "#install packages if needed\n",
    "!pip3 install numpy\n",
    "!pip3 install pandas\n",
    "!pip3 install matplotlib\n",
    "!pip3 install statsmodels\n",
    "!pip3 install scikit-learn"
   ]
  },
  {
   "cell_type": "code",
   "execution_count": null,
   "metadata": {},
   "outputs": [
    {
     "data": {
      "text/html": [
       "<div>\n",
       "<style scoped>\n",
       "    .dataframe tbody tr th:only-of-type {\n",
       "        vertical-align: middle;\n",
       "    }\n",
       "\n",
       "    .dataframe tbody tr th {\n",
       "        vertical-align: top;\n",
       "    }\n",
       "\n",
       "    .dataframe thead th {\n",
       "        text-align: right;\n",
       "    }\n",
       "</style>\n",
       "<table border=\"1\" class=\"dataframe\">\n",
       "  <thead>\n",
       "    <tr style=\"text-align: right;\">\n",
       "      <th></th>\n",
       "      <th>male</th>\n",
       "      <th>age</th>\n",
       "      <th>address</th>\n",
       "      <th>parents_together</th>\n",
       "      <th>parents_avg_edu</th>\n",
       "      <th>classes_failed</th>\n",
       "      <th>school_support</th>\n",
       "      <th>absences</th>\n",
       "      <th>grade</th>\n",
       "    </tr>\n",
       "  </thead>\n",
       "  <tbody>\n",
       "    <tr>\n",
       "      <th>0</th>\n",
       "      <td>0</td>\n",
       "      <td>18</td>\n",
       "      <td>U</td>\n",
       "      <td>0</td>\n",
       "      <td>4</td>\n",
       "      <td>0</td>\n",
       "      <td>yes</td>\n",
       "      <td>6.0</td>\n",
       "      <td>6</td>\n",
       "    </tr>\n",
       "    <tr>\n",
       "      <th>1</th>\n",
       "      <td>0</td>\n",
       "      <td>17</td>\n",
       "      <td>U</td>\n",
       "      <td>1</td>\n",
       "      <td>1</td>\n",
       "      <td>0</td>\n",
       "      <td>no</td>\n",
       "      <td>4.0</td>\n",
       "      <td>6</td>\n",
       "    </tr>\n",
       "    <tr>\n",
       "      <th>2</th>\n",
       "      <td>0</td>\n",
       "      <td>15</td>\n",
       "      <td>U</td>\n",
       "      <td>1</td>\n",
       "      <td>1</td>\n",
       "      <td>3</td>\n",
       "      <td>yes</td>\n",
       "      <td>10.0</td>\n",
       "      <td>10</td>\n",
       "    </tr>\n",
       "    <tr>\n",
       "      <th>3</th>\n",
       "      <td>0</td>\n",
       "      <td>15</td>\n",
       "      <td>U</td>\n",
       "      <td>1</td>\n",
       "      <td>3</td>\n",
       "      <td>0</td>\n",
       "      <td>no</td>\n",
       "      <td>2.0</td>\n",
       "      <td>15</td>\n",
       "    </tr>\n",
       "    <tr>\n",
       "      <th>4</th>\n",
       "      <td>0</td>\n",
       "      <td>16</td>\n",
       "      <td>U</td>\n",
       "      <td>1</td>\n",
       "      <td>3</td>\n",
       "      <td>0</td>\n",
       "      <td>no</td>\n",
       "      <td>4.0</td>\n",
       "      <td>10</td>\n",
       "    </tr>\n",
       "  </tbody>\n",
       "</table>\n",
       "</div>"
      ],
      "text/plain": [
       "   male  age address  parents_together  parents_avg_edu  classes_failed  \\\n",
       "0     0   18       U                 0                4               0   \n",
       "1     0   17       U                 1                1               0   \n",
       "2     0   15       U                 1                1               3   \n",
       "3     0   15       U                 1                3               0   \n",
       "4     0   16       U                 1                3               0   \n",
       "\n",
       "  school_support  absences  grade  \n",
       "0            yes       6.0      6  \n",
       "1             no       4.0      6  \n",
       "2            yes      10.0     10  \n",
       "3             no       2.0     15  \n",
       "4             no       4.0     10  "
      ]
     },
     "metadata": {},
     "output_type": "display_data"
    },
    {
     "data": {
      "text/plain": [
       "(349, 9)"
      ]
     },
     "execution_count": 5,
     "metadata": {},
     "output_type": "execute_result"
    }
   ],
   "source": [
    "import numpy as np\n",
    "import pandas as pd\n",
    "import matplotlib.pyplot as plt\n",
    "import statsmodels.formula.api as smf\n",
    "from sklearn.linear_model import LinearRegression\n",
    "from sklearn.model_selection import train_test_split\n",
    "from sklearn.metrics import mean_absolute_error, r2_score, mean_squared_error\n",
    "\n",
    "# Load the dataset\n",
    "students = pd.read_csv('student_grades.csv')\n",
    "display(students.head())\n",
    "students.shape"
   ]
  },
  {
   "cell_type": "markdown",
   "metadata": {},
   "source": [
    "The dataset contains the following information:\n",
    "- `male`: whether the student's sex is M or F (0, 1)\n",
    "- `age`: the student's age (15-22)\n",
    "- `address`: whether the student lives in an urban (U) or rural (R) setting\n",
    "- `parents_together`: whether the parents live together or not\n",
    "- `parents_avg_edu`: the rounded average of parental education\n",
    "    - 0: none\n",
    "    - 1: primary education (4th grade)\n",
    "    - 2: 5th to 9th grade\n",
    "    - 3: secondary education\n",
    "    - 4: higher education\n",
    "- `classes_failed`: the number of classes failed (n if 1 <= n < 3, else 4)\n",
    "- `school_support`: extra educational support (yes, no)\n",
    "- `absences`: number of school absences (0-93)\n",
    "- `grade`: The student's grade (0-20)"
   ]
  },
  {
   "cell_type": "code",
   "execution_count": null,
   "metadata": {},
   "outputs": [],
   "source": [
    "# Q1: What is the type of data of each variable?\n",
    "\"\"\"\n",
    "Numerical discrete: age, classes_failed, absences, grade\n",
    "Numerical continuous: ...\n",
    "Categorical ordinal: parents_avg_edu\n",
    "Categorical nominal: male, address, parents_together\n",
    "\"\"\""
   ]
  },
  {
   "cell_type": "markdown",
   "metadata": {},
   "source": [
    "Alright, now we can start with the EDA and data cleaning.\n",
    "\n",
    "First, we notice that `address` and `school_support` are binary variables but do not have (1, 0) as their values. Do the following:\n",
    "- Replace the `address` column with a binary column named `rural` that takes the value 1 if a students comes from a rural setting and 0 otherwise.\n",
    "- In the `school_support` column, replace `yes` with `1` and `no` with `0`.\n",
    "\n",
    "Make sure to double-check that the datatypes (of the entire dataframe) are correct once you are done. Is there any column that is not yet in the datatype it should be?"
   ]
  },
  {
   "cell_type": "code",
   "execution_count": null,
   "metadata": {},
   "outputs": [],
   "source": [
    "# Q2: Treat the binary columns that need to be formatted\n",
    "# address to rural\n",
    "students['rural'] = ...\n",
    "students.drop('address', axis=1, inplace=True)\n",
    "\n",
    "# school_support value transformation\n",
    "students['school_support'] = ...\n",
    "\n",
    "# Print the datatypes\n",
    "print(students.dtypes)\n",
    "\n",
    "# Display the dataframe\n",
    "students.head()"
   ]
  },
  {
   "cell_type": "markdown",
   "metadata": {},
   "source": [
    "Now, look if there are missing values. If there are, replace them with the median value of the column."
   ]
  },
  {
   "cell_type": "code",
   "execution_count": null,
   "metadata": {},
   "outputs": [],
   "source": [
    "# Q3: Treat the missing values\n",
    "# Lookup the missing values\n",
    "...\n",
    "\n",
    "# Input the median if needed\n",
    "..."
   ]
  },
  {
   "cell_type": "markdown",
   "metadata": {},
   "source": [
    "Now, look up summary statistics for all variables and plot a histogram for them. Do you find any outliers? If so, remove the observation they occur in?\n",
    "\n",
    "Hint: you should find exactly 1 outlier and it is easy to spot as it is outside of the possible values."
   ]
  },
  {
   "cell_type": "code",
   "execution_count": null,
   "metadata": {},
   "outputs": [],
   "source": [
    "# Q4: Remove outliers\n",
    "...\n",
    "\n",
    "# Plot all variables\n",
    "...\n",
    "\n",
    "# Remove the outlier\n",
    "..."
   ]
  },
  {
   "cell_type": "markdown",
   "metadata": {},
   "source": [
    "We would like to log-transform the dependent variable (i.e., `grade`). Since there are some students who received a 0, you will need to replace those values with an infinitely small positive number. Also, make sure the rename the `grade` column to `ln_grade`"
   ]
  },
  {
   "cell_type": "code",
   "execution_count": null,
   "metadata": {},
   "outputs": [],
   "source": [
    "# Q5: Log-transform the dependent variable\n",
    "# Replace 0 with 0.0000001 in grades\n",
    "...\n",
    "\n",
    "# Log-transform grade\n",
    "...\n",
    "\n",
    "# Rename grade to ln_grade\n",
    "...\n",
    "\n",
    "students"
   ]
  },
  {
   "cell_type": "markdown",
   "metadata": {},
   "source": [
    "Finally, create two dummy variables out of `absences`:\n",
    "- `some_abs`: 1 if `absences` is between 10 and 20 (included), 0 otherwise\n",
    "- `many_abs`: 1 if `absences` is larger than 20, 0 otherwise\n",
    "\n",
    "Think about why we do not create a third dummy variable for students with less than 10 absences.\n",
    "\n",
    "Note: you are essentially asked to create two binary variables"
   ]
  },
  {
   "cell_type": "code",
   "execution_count": null,
   "metadata": {},
   "outputs": [],
   "source": [
    "# Q6: Create a dummy variable from 'absences'\n",
    "# Create the some_abs column\n",
    "students['some_abs'] = np.where(\n",
    "    (students['absences'] ...) & (students['absences'] ...),\n",
    "    1,\n",
    "    0\n",
    ")\n",
    "\n",
    "# Create the many_abs column\n",
    "...\n",
    "\n",
    "# Delete the absences column\n",
    "...\n",
    "\n",
    "students.head()"
   ]
  },
  {
   "cell_type": "markdown",
   "metadata": {},
   "source": [
    "Alright, now we have a clean dataset that is ready for the actual machine learning part.\n",
    "\n",
    "First, use the `statsmodels` library to compute a simple regression. In this case, we want you to regress `ln_grade` on all other variables without splitting the dataset. Hence, it should be just the way you ran regressions in your core statistics classes.\n",
    "\n",
    "Interpret the results. Which coefficients are statistically significant? How do you interpret the coefficients?"
   ]
  },
  {
   "cell_type": "code",
   "execution_count": null,
   "metadata": {},
   "outputs": [],
   "source": [
    "# Q7: Regression\n",
    "# Regress the log-grade on all variables and a constant\n",
    "regression = ...\n",
    "print(regression.summary())"
   ]
  },
  {
   "cell_type": "markdown",
   "metadata": {},
   "source": [
    "Finally, we will try to determine which two features predict the grade the best. To do so, we will train the model iteratively over every pair of features and retain the ones with the best test MSE.\n",
    "\n",
    "Simply complete the code below to determine which model is the best.\n",
    "\n",
    "Note: This is an oversimplified version of determining the best model. In reality, there is no indication that 2 is the correct number of features and you might want to use more metrics than just the MSE to determine the best model. This is just so that you can get a first exposure to what this process looks like and gain intuition."
   ]
  },
  {
   "cell_type": "code",
   "execution_count": null,
   "metadata": {},
   "outputs": [],
   "source": [
    "# Q8: Find the best 2-feature model\n",
    "# Array to save the test errors\n",
    "test_mse = pd.DataFrame(columns=['features', 'test_mse'])\n",
    "\n",
    "# Feature pairs to evaluate\n",
    "features = list(students.columns)\n",
    "features.remove('ln_grade')\n",
    "feature_pairs = []\n",
    "for i, feature_1 in enumerate(features):\n",
    "    for feature_2 in features[i+1:]:\n",
    "        feature_pairs.append([feature_1, feature_2])\n",
    "\n",
    "# Define the target\n",
    "y = students['ln_grade']\n",
    "\n",
    "# Iterate over the number of features\n",
    "for feature_pair in feature_pairs:\n",
    "    # Select features\n",
    "    X_temp = students[feature_pair]\n",
    "\n",
    "    # Split the dat set\n",
    "    X_train, X_test, y_train, y_test = train_test_split(\n",
    "        X_temp,\n",
    "        y,\n",
    "        test_size=0.2,\n",
    "        random_state=12\n",
    "    )\n",
    "\n",
    "    # Create the linear model\n",
    "    LR = ...\n",
    "\n",
    "    # Fit the linear model\n",
    "    ...\n",
    "    \n",
    "    # Compute the MSEs\n",
    "    obs = pd.DataFrame({\n",
    "        'features': [', '.join(feature_pair)],\n",
    "        'test_mse': [mean_squared_error(y_test, LR.predict(X_test))]\n",
    "    })\n",
    "\n",
    "    test_mse = pd.concat([test_mse, obs], axis=0, ignore_index=True)\n",
    "\n",
    "# Sort by MSEs\n",
    "test_mse.sort_values(by='test_mse', axis=0, ascending=True, inplace=True)\n",
    "test_mse"
   ]
  }
 ],
 "metadata": {
  "kernelspec": {
   "display_name": "Python 3 (ipykernel)",
   "language": "python",
   "name": "python3"
  },
  "language_info": {
   "codemirror_mode": {
    "name": "ipython",
    "version": 3
   },
   "file_extension": ".py",
   "mimetype": "text/x-python",
   "name": "python",
   "nbconvert_exporter": "python",
   "pygments_lexer": "ipython3",
   "version": "3.11.6"
  },
  "vscode": {
   "interpreter": {
    "hash": "26de051ba29f2982a8de78e945f0abaf191376122a1563185a90213a26c5da77"
   }
  }
 },
 "nbformat": 4,
 "nbformat_minor": 2
}
