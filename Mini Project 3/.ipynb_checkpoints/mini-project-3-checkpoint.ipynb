{
 "cells": [
  {
   "cell_type": "markdown",
   "metadata": {},
   "source": [
    "# Machine Learning Mini Project 3\n",
    "### Richard Campo in collaboration with Julia Klauss"
   ]
  },
  {
   "cell_type": "markdown",
   "metadata": {},
   "source": [
    "## Data Analysis"
   ]
  },
  {
   "cell_type": "code",
   "execution_count": 85,
   "metadata": {},
   "outputs": [],
   "source": [
    "import pandas as pd\n",
    "import numpy as np\n",
    "import matplotlib.pyplot as plt\n",
    "from sklearn.model_selection import train_test_split\n",
    "from sklearn.model_selection import GridSearchCV, KFold\n",
    "from sklearn.linear_model import LinearRegression\n",
    "from sklearn.linear_model import Ridge\n",
    "from sklearn.linear_model import Lasso\n",
    "from sklearn.metrics import mean_squared_error\n",
    "from sklearn.preprocessing import StandardScaler\n",
    "\n",
    "pd.set_option('display.max_columns', None)\n",
    "pd.set_option('display.max_rows', None)"
   ]
  },
  {
   "cell_type": "markdown",
   "metadata": {},
   "source": [
    "### (1.)"
   ]
  },
  {
   "cell_type": "code",
   "execution_count": 86,
   "metadata": {},
   "outputs": [
    {
     "name": "stdout",
     "output_type": "stream",
     "text": [
      "Index(['county', 'state', 'fips', 'cases', 'deaths', 'population', 'casespc',\n",
      "       'deathspc', 'cty', 'county_name', 'cty_pop2000', 'cz', 'cz_name',\n",
      "       'cz_pop2000', 'statename', 'state_id', 'stateabbrv', 'csa', 'csa_name',\n",
      "       'cbsa', 'cbsa_name', 'intersects_msa', 'cur_smoke_q1', 'cur_smoke_q2',\n",
      "       'cur_smoke_q3', 'cur_smoke_q4', 'bmi_obese_q1', 'bmi_obese_q2',\n",
      "       'bmi_obese_q3', 'bmi_obese_q4', 'exercise_any_q1', 'exercise_any_q2',\n",
      "       'exercise_any_q3', 'exercise_any_q4', 'brfss_mia', 'puninsured2010',\n",
      "       'reimb_penroll_adj10', 'mort_30day_hosp_z', 'adjmortmeas_amiall30day',\n",
      "       'adjmortmeas_chfall30day', 'adjmortmeas_pnall30day', 'med_prev_qual_z',\n",
      "       'primcarevis_10', 'diab_hemotest_10', 'diab_eyeexam_10',\n",
      "       'diab_lipids_10', 'mammogram_10', 'amb_disch_per1000_10',\n",
      "       'cs00_seg_inc', 'cs00_seg_inc_pov25', 'cs00_seg_inc_aff75',\n",
      "       'cs_race_theil_2000', 'gini99', 'poor_share', 'inc_share_1perc',\n",
      "       'frac_middleclass', 'scap_ski90pcm', 'rel_tot', 'cs_frac_black',\n",
      "       'cs_frac_hisp', 'unemp_rate', 'pop_d_2000_1980', 'lf_d_2000_1980',\n",
      "       'cs_labforce', 'cs_elf_ind_man', 'cs_born_foreign', 'mig_inflow',\n",
      "       'mig_outflow', 'pop_density', 'frac_traveltime_lt15', 'hhinc00',\n",
      "       'median_house_value', 'ccd_exp_tot', 'ccd_pup_tch_ratio', 'score_r',\n",
      "       'dropout_r', 'cs_educ_ba', 'tuition', 'gradrate_r', 'e_rank_b',\n",
      "       'cs_fam_wkidsinglemom', 'crime_total', 'subcty_exp_pc', 'taxrate',\n",
      "       'tax_st_diff_top20', 'summer_tmmx', 'summer_rmax', 'winter_tmmx',\n",
      "       'winter_rmax', 'pm25', 'bmdeaths', 'bmcruderate', 'pm25_mia'],\n",
      "      dtype='object')\n"
     ]
    }
   ],
   "source": [
    "variable_names = pd.read_excel(\"PPHA_30546_MP03-Variable_Description.xlsx\")\n",
    "\n",
    "data = pd.read_csv(\"Data-Covid002.csv\", encoding='latin1')\n",
    "\n",
    "print(data.columns)\n",
    "\n",
    "var_names = variable_names[\"Variable\"].tolist()\n",
    "\n",
    "var_names.remove(\"casespc\")\n",
    "\n",
    "selected_columns = var_names + [\"county\", \"state\"]\n",
    "\n",
    "clean_data = data.loc[:, selected_columns]\n",
    "\n",
    "clean_data = clean_data.set_index(\"county\")"
   ]
  },
  {
   "cell_type": "markdown",
   "metadata": {},
   "source": [
    "### (2.)"
   ]
  },
  {
   "cell_type": "code",
   "execution_count": 87,
   "metadata": {},
   "outputs": [
    {
     "name": "stdout",
     "output_type": "stream",
     "text": [
      "          deathspc  intersects_msa  cur_smoke_q1  cur_smoke_q2  cur_smoke_q3  \\\n",
      "count  3107.000000     3107.000000   3107.000000   3107.000000   3107.000000   \n",
      "mean     23.790131        0.596717      0.212659      0.171048      0.134467   \n",
      "std      67.852145        0.490636      0.149348      0.128130      0.132181   \n",
      "min       0.000000        0.000000      0.000000      0.000000      0.000000   \n",
      "25%       0.000000        0.000000      0.000000      0.000000      0.000000   \n",
      "50%       3.802303        1.000000      0.250000      0.198718      0.142857   \n",
      "75%      21.461759        1.000000      0.310931      0.250000      0.200000   \n",
      "max    2279.610600        1.000000      1.000000      1.000000      1.000000   \n",
      "\n",
      "       cur_smoke_q4  bmi_obese_q1  bmi_obese_q2  bmi_obese_q3  bmi_obese_q4  \\\n",
      "count   3107.000000   3107.000000   3107.000000   3107.000000   3107.000000   \n",
      "mean       0.098316      0.239166      0.214580      0.209621      0.186739   \n",
      "std        0.110110      0.165928      0.153237      0.175849      0.167227   \n",
      "min        0.000000      0.000000      0.000000      0.000000      0.000000   \n",
      "25%        0.000000      0.080128      0.000000      0.000000      0.000000   \n",
      "50%        0.096535      0.272076      0.241590      0.223124      0.194118   \n",
      "75%        0.148719      0.335532      0.304348      0.297220      0.266667   \n",
      "max        1.000000      1.000000      1.000000      1.000000      1.000000   \n",
      "\n",
      "       exercise_any_q1  exercise_any_q2  exercise_any_q3  exercise_any_q4  \\\n",
      "count      3107.000000      3107.000000      3107.000000      3107.000000   \n",
      "mean          0.455995         0.555671         0.603792         0.638727   \n",
      "std           0.273874         0.322336         0.357861         0.376922   \n",
      "min           0.000000         0.000000         0.000000         0.000000   \n",
      "25%           0.312500         0.444444         0.354167         0.400000   \n",
      "50%           0.566563         0.707143         0.778364         0.833333   \n",
      "75%           0.641509         0.769231         0.841804         0.890497   \n",
      "max           1.000000         1.000000         1.000000         1.000000   \n",
      "\n",
      "         brfss_mia  puninsured2010  reimb_penroll_adj10  mort_30day_hosp_z  \\\n",
      "count  3107.000000     3107.000000          3103.000000        3106.000000   \n",
      "mean      0.249437       18.469460          9302.737743           0.457806   \n",
      "std       0.432757        5.536651          1590.926253           1.206493   \n",
      "min       0.000000        3.625483          3663.530000          -7.778000   \n",
      "25%       0.000000       14.410248          8159.340000          -0.255867   \n",
      "50%       0.000000       18.147072          9193.770000           0.400088   \n",
      "75%       0.000000       21.961417         10285.430000           1.147822   \n",
      "max       1.000000       41.366287         18443.220000           8.472745   \n",
      "\n",
      "       adjmortmeas_amiall30day  adjmortmeas_chfall30day  med_prev_qual_z  \\\n",
      "count              3106.000000              3107.000000      3012.000000   \n",
      "mean                  0.165483                 0.108969        -0.148547   \n",
      "std                   0.039408                 0.023565         0.863881   \n",
      "min                   0.000000                 0.000000        -4.853847   \n",
      "25%                   0.145312                 0.096301        -0.615591   \n",
      "50%                   0.162727                 0.107242        -0.090228   \n",
      "75%                   0.183402                 0.120155         0.444429   \n",
      "max                   0.444663                 0.344451         3.478521   \n",
      "\n",
      "       primcarevis_10  diab_hemotest_10  diab_eyeexam_10  diab_lipids_10  \\\n",
      "count     3098.000000       3069.000000      3054.000000     3057.000000   \n",
      "mean        80.865348         83.706025        66.080221       78.307420   \n",
      "std          7.401457          6.594153         7.598549        7.854145   \n",
      "min         18.331749         16.911765        31.372549       19.661336   \n",
      "25%         78.803466         81.108462        61.258165       75.000000   \n",
      "50%         82.202779         84.782609        65.977073       79.759036   \n",
      "75%         84.957865         87.679083        70.906526       83.342526   \n",
      "max         95.665079        100.000000        90.000000       94.482759   \n",
      "\n",
      "       mammogram_10  cs00_seg_inc  cs00_seg_inc_pov25  cs00_seg_inc_aff75  \\\n",
      "count   3029.000000   3107.000000         3107.000000         3107.000000   \n",
      "mean      63.110073      0.025892            0.024278            0.026463   \n",
      "std        8.397699      0.030576            0.030757            0.032920   \n",
      "min       30.000000     -0.013363           -0.019502           -0.001993   \n",
      "25%       57.943925      0.005047            0.004164            0.003455   \n",
      "50%       63.618290      0.013647            0.013136            0.012577   \n",
      "75%       68.907563      0.036453            0.034737            0.037337   \n",
      "max       95.238095      0.438241            0.749106            0.196959   \n",
      "\n",
      "       cs_race_theil_2000       gini99   poor_share  inc_share_1perc  \\\n",
      "count         3107.000000  3008.000000  3107.000000      3008.000000   \n",
      "mean             0.075402     0.379021     0.141739         0.094808   \n",
      "std              0.084131     0.086677     0.065460         0.050631   \n",
      "min              0.000000     0.160954     0.000000         0.018570   \n",
      "25%              0.015591     0.317518     0.095383         0.062577   \n",
      "50%              0.047192     0.369998     0.129621         0.083600   \n",
      "75%              0.104508     0.429472     0.175282         0.113570   \n",
      "max              0.712014     1.091437     0.569170         0.734770   \n",
      "\n",
      "       frac_middleclass  scap_ski90pcm      rel_tot  cs_frac_black  \\\n",
      "count       3106.000000    3107.000000  3106.000000    3107.000000   \n",
      "mean           0.554244       0.000182    53.224564       8.744503   \n",
      "std            0.093099       1.347960    18.502524      14.483719   \n",
      "min            0.215630      -4.258739     1.816347       0.000000   \n",
      "25%            0.491883      -0.964225    39.669796       0.264501   \n",
      "50%            0.559830      -0.091105    51.328668       1.691121   \n",
      "75%            0.622758       0.818039    64.786780      10.031043   \n",
      "max            0.875000       9.911112   164.527310      85.965088   \n",
      "\n",
      "       cs_frac_hisp   unemp_rate  cs_labforce  cs_elf_ind_man  \\\n",
      "count   3107.000000  3107.000000  3107.000000     3107.000000   \n",
      "mean       6.209190     0.049871     0.609344        0.159118   \n",
      "std       12.050404     0.017738     0.070393        0.090862   \n",
      "min        0.082034     0.016092     0.319209        0.000000   \n",
      "25%        0.917235     0.037422     0.567037        0.088637   \n",
      "50%        1.783438     0.046908     0.616551        0.149391   \n",
      "75%        5.107685     0.058742     0.657982        0.219933   \n",
      "max       97.539047     0.176995     0.860937        0.485540   \n",
      "\n",
      "       cs_born_foreign   mig_inflow  mig_outflow   pop_density  \\\n",
      "count      3107.000000  3017.000000  3017.000000   3107.000000   \n",
      "mean          3.441958     0.028677     0.027522    244.325026   \n",
      "std           4.836270     0.019034     0.013780   1676.096088   \n",
      "min           0.000000     0.000000     0.000000      0.099542   \n",
      "25%           0.898505     0.016502     0.018767     17.479568   \n",
      "50%           1.727323     0.024430     0.025111     43.130142   \n",
      "75%           3.922074     0.036320     0.033038    104.991115   \n",
      "max          50.935669     0.168671     0.153256  66940.078000   \n",
      "\n",
      "       frac_traveltime_lt15       hhinc00  median_house_value  ccd_exp_tot  \\\n",
      "count           3107.000000   3107.000000        3.107000e+03  3080.000000   \n",
      "mean               0.403803  32853.502978        1.121801e+05     6.092697   \n",
      "std                0.137215   6975.837500        6.318905e+04     2.103573   \n",
      "min                0.099878  10511.805000        0.000000e+00     3.032457   \n",
      "25%                0.299927  28733.524500        7.704740e+04     5.027049   \n",
      "50%                0.385816  32234.641000        1.007748e+05     5.785282   \n",
      "75%                0.499088  36039.471000        1.285012e+05     6.735288   \n",
      "max                0.817636  77942.648000        1.333001e+06    53.258174   \n",
      "\n",
      "           score_r  cs_fam_wkidsinglemom  subcty_exp_pc      taxrate  \\\n",
      "count  3069.000000           3107.000000    3107.000000  3107.000000   \n",
      "mean      0.077348              0.194598    2119.407531     0.023089   \n",
      "std       9.007980              0.067828     999.833466     0.013848   \n",
      "min     -38.687138              0.024793       0.000000     0.000000   \n",
      "25%      -4.969633              0.152436    1510.192750     0.014993   \n",
      "50%       0.834938              0.182469    1935.919400     0.020339   \n",
      "75%       5.990181              0.221578    2505.411100     0.027164   \n",
      "max      32.985218              0.543878   20541.918000     0.209907   \n",
      "\n",
      "       tax_st_diff_top20         pm25     pm25_mia  summer_tmmx  summer_rmax  \\\n",
      "count        3106.000000  3107.000000  3107.000000  3107.000000  3107.000000   \n",
      "mean            0.775634     8.371871     0.003540   303.126997    88.970517   \n",
      "std             1.470989     2.565927     0.059405     3.173950     9.689271   \n",
      "min             0.000000     0.000000     0.000000   290.455540    31.643282   \n",
      "25%             0.000000     6.309710     0.000000   300.848035    88.052494   \n",
      "50%             0.000000     8.784647     0.000000   303.290440    91.320313   \n",
      "75%             1.000000    10.483764     0.000000   305.817430    94.812389   \n",
      "max             7.220000    15.786018     1.000000   313.872680    99.778748   \n",
      "\n",
      "       winter_tmmx  winter_rmax  bmcruderate  \n",
      "count  3107.000000  3107.000000   3107.00000  \n",
      "mean    280.404875    87.469432   1029.15597  \n",
      "std       6.597855     4.811207    248.38181  \n",
      "min     264.693820    58.159798    189.30000  \n",
      "25%     275.113020    85.093342    864.29999  \n",
      "50%     280.154690    88.028793   1036.30000  \n",
      "75%     285.543750    90.747704   1194.10000  \n",
      "max     298.340360    97.672874   1978.60000  \n"
     ]
    }
   ],
   "source": [
    "print(clean_data.describe())"
   ]
  },
  {
   "cell_type": "markdown",
   "metadata": {},
   "source": [
    "### (3.)"
   ]
  },
  {
   "cell_type": "code",
   "execution_count": 88,
   "metadata": {},
   "outputs": [],
   "source": [
    "clean_data = clean_data.dropna(axis=0)"
   ]
  },
  {
   "cell_type": "markdown",
   "metadata": {},
   "source": [
    "### (4.)"
   ]
  },
  {
   "cell_type": "code",
   "execution_count": 89,
   "metadata": {},
   "outputs": [],
   "source": [
    "state_dummies = pd.get_dummies(clean_data[\"state\"], drop_first=True)\n",
    "\n",
    "clean_data = pd.concat([clean_data, state_dummies], axis=1)\n",
    "\n",
    "clean_data = clean_data.drop(\"state\", axis=1)"
   ]
  },
  {
   "cell_type": "markdown",
   "metadata": {},
   "source": [
    "### (5.)"
   ]
  },
  {
   "cell_type": "code",
   "execution_count": 90,
   "metadata": {},
   "outputs": [],
   "source": [
    "X = clean_data.drop(\"deathspc\", axis=1)\n",
    "y = clean_data[\"deathspc\"]\n",
    "\n",
    "X_train, X_test, y_train, y_test = train_test_split(\n",
    "    X, y, test_size=0.2, random_state=11\n",
    "    )"
   ]
  },
  {
   "cell_type": "markdown",
   "metadata": {},
   "source": [
    "### (6.)\n",
    "#### (a.)"
   ]
  },
  {
   "cell_type": "code",
   "execution_count": 91,
   "metadata": {},
   "outputs": [
    {
     "name": "stdout",
     "output_type": "stream",
     "text": [
      "OLS-Train MSE:  1440.7\n"
     ]
    }
   ],
   "source": [
    "ols = LinearRegression().fit(X_train, y_train)\n",
    "y_pred_train = ols.predict(X_train)\n",
    "mse_train_ols = mean_squared_error(y_train, y_pred_train)\n",
    "print(\"OLS-Train MSE: \", round(mse_train_ols,2))"
   ]
  },
  {
   "cell_type": "code",
   "execution_count": 92,
   "metadata": {},
   "outputs": [
    {
     "name": "stdout",
     "output_type": "stream",
     "text": [
      "OLS-Test MSE:  2408.75\n"
     ]
    }
   ],
   "source": [
    "y_pred_test = ols.predict(X_test)\n",
    "mse_test_ols = mean_squared_error(y_test, y_pred_test)\n",
    "print(\"OLS-Test MSE: \", round(mse_test_ols,2))"
   ]
  },
  {
   "cell_type": "markdown",
   "metadata": {},
   "source": [
    "#### (b.)\n",
    "We might be concerned about a standard OLS regression overfitting the data because we have a relatively large number of predictors (63) compared with our number of rows (3,107), and some of the predictors may be correlated with deaths per capita simply by chance. Since these features are not actually very predictive and can be thought of as adding noise, we would like to downweight or remove them from the model so that it can achieve a lower test error rate.\n",
    "\n",
    "We do have some evidence of overfitting since our model's error on the training set is a good deal lower than the error on the test set. Removing or downweighting unhelpful predictors has a good chance of improving our model's fit."
   ]
  },
  {
   "cell_type": "markdown",
   "metadata": {},
   "source": [
    "### (7.) Ridge Regressions\n",
    "#### (a.)"
   ]
  },
  {
   "cell_type": "code",
   "execution_count": 93,
   "metadata": {},
   "outputs": [],
   "source": [
    "scaler = StandardScaler()\n",
    "scaler.fit(X_train)\n",
    "X_train = scaler.transform(X_train)\n",
    "X_test = scaler.transform(X_test)\n",
    "\n",
    "ridge = Ridge()\n",
    "\n",
    "alpha_param = np.power(10, (np.linspace(2.25, 2.5, 100)))\n",
    "\n",
    "# From lab\n",
    "def vector_values(grid_search, trials):\n",
    "    '''\n",
    "    Extracts mean and standard deviation scores from a GridSearchCV object.\n",
    "    ​\n",
    "    Parameters\n",
    "    ----------\n",
    "    grid_search : GridSearchCV object\n",
    "    The result of a grid search performed using scikit-learn's GridSearchCV \n",
    "    method.\n",
    "    trials : int\n",
    "    The number of trials performed during the grid search.\n",
    "    ​\n",
    "    Returns\n",
    "    -------\n",
    "    mean_vec : ndarray of shape (trials,)\n",
    "    Array of mean scores, with the negative of each score stored in the array.\n",
    "    std_vec : ndarray of shape (trials,)\n",
    "    Array of standard deviation scores.\n",
    "    '''\n",
    "    mean_vec = np.zeros(trials)\n",
    "    std_vec = np.zeros(trials)\n",
    "    i = 0\n",
    "    final = grid_search.cv_results_\n",
    "    \n",
    "    means_sds = zip(final[\"mean_test_score\"], final[\"std_test_score\"])\n",
    "\n",
    "    for mean_score, std_score in means_sds:\n",
    "        mean_vec[i] = -mean_score\n",
    "        std_vec[i] = std_score\n",
    "        i = i+1\n",
    "    return mean_vec, std_vec\n",
    "\n",
    "def highlight_min(data, color='yellow'):\n",
    "    attr = f'background-color: {color}'\n",
    "    if data.ndim == 1:  # Series\n",
    "        is_min = data == data.min()\n",
    "        return [attr if v else '' for v in is_min]\n",
    "    return ''\n",
    "\n",
    "#Creating a parameters grid\n",
    "param_grid = [{'alpha': alpha_param}]"
   ]
  },
  {
   "cell_type": "markdown",
   "metadata": {},
   "source": [
    "#### (b.)"
   ]
  },
  {
   "cell_type": "code",
   "execution_count": 94,
   "metadata": {},
   "outputs": [
    {
     "data": {
      "text/html": [
       "<style type=\"text/css\">\n",
       "#T_9f2e1_row0_col1 {\n",
       "  background-color: yellow;\n",
       "}\n",
       "</style>\n",
       "<table id=\"T_9f2e1\">\n",
       "  <thead>\n",
       "    <tr>\n",
       "      <th class=\"blank level0\" >&nbsp;</th>\n",
       "      <th id=\"T_9f2e1_level0_col0\" class=\"col_heading level0 col0\" >alpha</th>\n",
       "      <th id=\"T_9f2e1_level0_col1\" class=\"col_heading level0 col1\" >MSE</th>\n",
       "    </tr>\n",
       "  </thead>\n",
       "  <tbody>\n",
       "    <tr>\n",
       "      <th id=\"T_9f2e1_level0_row0\" class=\"row_heading level0 row0\" >44</th>\n",
       "      <td id=\"T_9f2e1_row0_col0\" class=\"data row0 col0\" >229.673618</td>\n",
       "      <td id=\"T_9f2e1_row0_col1\" class=\"data row0 col1\" >1596.432123</td>\n",
       "    </tr>\n",
       "    <tr>\n",
       "      <th id=\"T_9f2e1_level0_row1\" class=\"row_heading level0 row1\" >43</th>\n",
       "      <td id=\"T_9f2e1_row1_col0\" class=\"data row1 col0\" >228.342030</td>\n",
       "      <td id=\"T_9f2e1_row1_col1\" class=\"data row1 col1\" >1596.432695</td>\n",
       "    </tr>\n",
       "    <tr>\n",
       "      <th id=\"T_9f2e1_level0_row2\" class=\"row_heading level0 row2\" >45</th>\n",
       "      <td id=\"T_9f2e1_row2_col0\" class=\"data row2 col0\" >231.012970</td>\n",
       "      <td id=\"T_9f2e1_row2_col1\" class=\"data row2 col1\" >1596.432859</td>\n",
       "    </tr>\n",
       "    <tr>\n",
       "      <th id=\"T_9f2e1_level0_row3\" class=\"row_heading level0 row3\" >42</th>\n",
       "      <td id=\"T_9f2e1_row3_col0\" class=\"data row3 col0\" >227.018164</td>\n",
       "      <td id=\"T_9f2e1_row3_col1\" class=\"data row3 col1\" >1596.434564</td>\n",
       "    </tr>\n",
       "    <tr>\n",
       "      <th id=\"T_9f2e1_level0_row4\" class=\"row_heading level0 row4\" >46</th>\n",
       "      <td id=\"T_9f2e1_row4_col0\" class=\"data row4 col0\" >232.360133</td>\n",
       "      <td id=\"T_9f2e1_row4_col1\" class=\"data row4 col1\" >1596.434915</td>\n",
       "    </tr>\n",
       "  </tbody>\n",
       "</table>\n"
      ],
      "text/plain": [
       "<pandas.io.formats.style.Styler at 0x1b4f4bf8760>"
      ]
     },
     "metadata": {},
     "output_type": "display_data"
    }
   ],
   "source": [
    "#Running Grid Search over the alpha (regularization) parameter\n",
    "kf = KFold(n_splits=10, random_state = 25, shuffle=True)\n",
    "grid_search_ridge = GridSearchCV(\n",
    "    ridge, param_grid, cv=kf, scoring='neg_mean_squared_error'\n",
    "    )\n",
    "grid_search_ridge.fit(X_train, y_train)\n",
    "\n",
    "# Extract results for all tested alphas\n",
    "tested_alphas = [\n",
    "    params['alpha'] for params in grid_search_ridge.cv_results_['params']\n",
    "    ]\n",
    "\n",
    "# Assuming vector_values is properly defined to extract mean and standard \n",
    "# deviation values\n",
    "mean_vec_ridge, std_vec_ridge = vector_values(\n",
    "    grid_search_ridge, len(tested_alphas)\n",
    "    )\n",
    "results_cv_ridge = pd.DataFrame(\n",
    "    {'lambda': tested_alphas, 'MSE': mean_vec_ridge}\n",
    "    )\n",
    "\n",
    "top_5_results_cv_ridge = results_cv_ridge.sort_values(\n",
    "    by='MSE', ascending=True\n",
    "    ).head(5)\n",
    "\n",
    "styled_top_5 = top_5_results_cv_ridge.style.apply(\n",
    "    highlight_min, subset=['MSE']\n",
    "    )\n",
    "display(styled_top_5)"
   ]
  },
  {
   "cell_type": "markdown",
   "metadata": {},
   "source": [
    "After narrowing our search a few times, we find an optimal value of $\\lambda$ (also called $\\alpha$) of about 230, suggesting that our model was overfitting the data (otherwise we should get a $\\lambda$ of about 0, which is just OLS).\n",
    "\n",
    "#### (c.)"
   ]
  },
  {
   "cell_type": "code",
   "execution_count": 95,
   "metadata": {},
   "outputs": [
    {
     "data": {
      "image/png": "[encoded data removed]",
      "text/plain": [
       "<Figure size 800x600 with 1 Axes>"
      ]
     },
     "metadata": {},
     "output_type": "display_data"
    }
   ],
   "source": [
    "results = pd.DataFrame(grid_search_ridge.cv_results_)\n",
    "results['mean_test_score'] = -results['mean_test_score']\n",
    "\n",
    "# Plotting mean test scores for each alpha value\n",
    "plt.figure(figsize=(8, 6))\n",
    "plt.semilogx(alpha_param, results['mean_test_score'], marker='o')\n",
    "plt.xlabel('Lambda')\n",
    "plt.ylabel('Average Mean Squared Error')\n",
    "plt.title('Average Mean Squared Error for each Lambda')\n",
    "plt.show()"
   ]
  },
  {
   "cell_type": "markdown",
   "metadata": {},
   "source": [
    "We found that MSE is minimzed when $\\lambda/\\alpha$ equals about 230, which corresponds to about $2.3 \\times 10^2$ on the x-axis above. Since the error rate on the training data is about the same for many different values of $\\lambda/\\alpha$ though, it likely would not matter too much which value we picked in the range we've narrowed it down to.\n",
    "\n",
    "#### (d.)"
   ]
  },
  {
   "cell_type": "markdown",
   "metadata": {},
   "source": [
    "We found an optimal $\\lambda/\\alpha$ of about 230, or about $2.3 \\times 10^2$.\n",
    "\n",
    "#### (e.)"
   ]
  },
  {
   "cell_type": "code",
   "execution_count": 96,
   "metadata": {},
   "outputs": [
    {
     "name": "stdout",
     "output_type": "stream",
     "text": [
      "Ridge-Train MSE:  1490.37\n"
     ]
    }
   ],
   "source": [
    "ridge_final = Ridge(alpha=448).fit(X_train, y_train)\n",
    "\n",
    "y_pred_train_ridge = ridge_final.predict(X_train)\n",
    "\n",
    "mse_train_ridge = mean_squared_error(y_train, y_pred_train_ridge)\n",
    "print(\"Ridge-Train MSE: \", round(mse_train_ridge,2))"
   ]
  },
  {
   "cell_type": "markdown",
   "metadata": {},
   "source": [
    "The MSE on the training set for the ridge regression model is higher than the MSE for OLS, which is what we want since we are trying to reduce the flexibility of our model to reduce overfitting. Test MSE is reported in question 8."
   ]
  },
  {
   "cell_type": "markdown",
   "metadata": {},
   "source": [
    "### (7.) Lasso\n",
    "#### (a.)"
   ]
  },
  {
   "cell_type": "code",
   "execution_count": 97,
   "metadata": {},
   "outputs": [],
   "source": [
    "alpha_range = np.power(10, (np.linspace(-1, -0.25, 100)))\n",
    "\n",
    "lasso = Lasso(max_iter=2000)\n",
    "\n",
    "param_grid = [{'alpha': alpha_range}]"
   ]
  },
  {
   "cell_type": "markdown",
   "metadata": {},
   "source": [
    "#### (b.)"
   ]
  },
  {
   "cell_type": "code",
   "execution_count": 98,
   "metadata": {},
   "outputs": [
    {
     "data": {
      "text/html": [
       "<style type=\"text/css\">\n",
       "#T_b3338_row0_col1 {\n",
       "  background-color: yellow;\n",
       "}\n",
       "</style>\n",
       "<table id=\"T_b3338\">\n",
       "  <thead>\n",
       "    <tr>\n",
       "      <th class=\"blank level0\" >&nbsp;</th>\n",
       "      <th id=\"T_b3338_level0_col0\" class=\"col_heading level0 col0\" >lambda</th>\n",
       "      <th id=\"T_b3338_level0_col1\" class=\"col_heading level0 col1\" >MSE</th>\n",
       "    </tr>\n",
       "  </thead>\n",
       "  <tbody>\n",
       "    <tr>\n",
       "      <th id=\"T_b3338_level0_row0\" class=\"row_heading level0 row0\" >61</th>\n",
       "      <td id=\"T_b3338_row0_col0\" class=\"data row0 col0\" >0.289815</td>\n",
       "      <td id=\"T_b3338_row0_col1\" class=\"data row0 col1\" >1611.534630</td>\n",
       "    </tr>\n",
       "    <tr>\n",
       "      <th id=\"T_b3338_level0_row1\" class=\"row_heading level0 row1\" >60</th>\n",
       "      <td id=\"T_b3338_row1_col0\" class=\"data row1 col0\" >0.284804</td>\n",
       "      <td id=\"T_b3338_row1_col1\" class=\"data row1 col1\" >1611.538902</td>\n",
       "    </tr>\n",
       "    <tr>\n",
       "      <th id=\"T_b3338_level0_row2\" class=\"row_heading level0 row2\" >62</th>\n",
       "      <td id=\"T_b3338_row2_col0\" class=\"data row2 col0\" >0.294915</td>\n",
       "      <td id=\"T_b3338_row2_col1\" class=\"data row2 col1\" >1611.539879</td>\n",
       "    </tr>\n",
       "    <tr>\n",
       "      <th id=\"T_b3338_level0_row3\" class=\"row_heading level0 row3\" >59</th>\n",
       "      <td id=\"T_b3338_row3_col0\" class=\"data row3 col0\" >0.279879</td>\n",
       "      <td id=\"T_b3338_row3_col1\" class=\"data row3 col1\" >1611.546741</td>\n",
       "    </tr>\n",
       "    <tr>\n",
       "      <th id=\"T_b3338_level0_row4\" class=\"row_heading level0 row4\" >63</th>\n",
       "      <td id=\"T_b3338_row4_col0\" class=\"data row4 col0\" >0.300105</td>\n",
       "      <td id=\"T_b3338_row4_col1\" class=\"data row4 col1\" >1611.551132</td>\n",
       "    </tr>\n",
       "  </tbody>\n",
       "</table>\n"
      ],
      "text/plain": [
       "<pandas.io.formats.style.Styler at 0x1b4f5714bb0>"
      ]
     },
     "metadata": {},
     "output_type": "display_data"
    }
   ],
   "source": [
    "#Running Grid Search over the alpha (regularization) parameter\n",
    "kf = KFold(n_splits=10, random_state = 25, shuffle=True)\n",
    "grid_search_lasso = GridSearchCV(\n",
    "    lasso, param_grid, cv=kf, scoring='neg_mean_squared_error'\n",
    "    )\n",
    "grid_search_lasso.fit(X_train, y_train)\n",
    "\n",
    "# Extract results for all tested alphas\n",
    "tested_alphas = [\n",
    "    params['alpha'] for params in grid_search_lasso.cv_results_['params']\n",
    "    ]\n",
    "\n",
    "# Assuming vector_values is properly defined to extract mean and standard \n",
    "# deviation values\n",
    "mean_vec_lasso, std_vec_lasso = vector_values(\n",
    "    grid_search_lasso, len(tested_alphas)\n",
    "    )\n",
    "results_cv_lasso = pd.DataFrame(\n",
    "    {'lambda': tested_alphas, 'MSE': mean_vec_lasso}\n",
    "    )\n",
    "\n",
    "top_5_results_cv_lasso = results_cv_lasso.sort_values(\n",
    "    by='MSE', ascending=True\n",
    "    ).head(5)\n",
    "\n",
    "styled_top_5 = top_5_results_cv_lasso.style.apply(\n",
    "    highlight_min, subset=['MSE']\n",
    "    )\n",
    "display(styled_top_5)"
   ]
  },
  {
   "cell_type": "markdown",
   "metadata": {},
   "source": [
    "The optimal $\\lambda$ we calculate using the lasso is about 0.29. Again, we find that our linear model was likely overfitting since the optimal $\\lambda > 0$, suggesting that OLS was too flexible.\n",
    "\n",
    "#### (c.)"
   ]
  },
  {
   "cell_type": "code",
   "execution_count": 99,
   "metadata": {},
   "outputs": [
    {
     "data": {
      "image/png": "[encoded data removed]",
      "text/plain": [
       "<Figure size 800x600 with 1 Axes>"
      ]
     },
     "metadata": {},
     "output_type": "display_data"
    }
   ],
   "source": [
    "results = pd.DataFrame(grid_search_lasso.cv_results_)\n",
    "results['mean_test_score'] = -results['mean_test_score']\n",
    "\n",
    "# Plotting mean test scores for each alpha value\n",
    "plt.figure(figsize=(8, 6))\n",
    "plt.semilogx(alpha_range, results['mean_test_score'], marker='o')\n",
    "plt.xlabel('Lambda')\n",
    "plt.ylabel('Average Mean Squared Error')\n",
    "plt.title('Average Mean Squared Error for each Lambda')\n",
    "plt.show()"
   ]
  },
  {
   "cell_type": "markdown",
   "metadata": {},
   "source": [
    "#### (d.)\n",
    "We found the optimal value of $\\lambda$ is about 0.29, or about $2.9 \\times 10^{-1}$."
   ]
  },
  {
   "cell_type": "markdown",
   "metadata": {},
   "source": [
    "#### (e.)"
   ]
  },
  {
   "cell_type": "code",
   "execution_count": 100,
   "metadata": {},
   "outputs": [
    {
     "name": "stdout",
     "output_type": "stream",
     "text": [
      "Lasso-Train MSE:  1482.14\n"
     ]
    }
   ],
   "source": [
    "lasso_final = Lasso(alpha=0.42).fit(X_train, y_train)\n",
    "\n",
    "y_pred_train_lasso = lasso_final.predict(X_train)\n",
    "\n",
    "mse_train_lasso = mean_squared_error(y_train, y_pred_train_lasso)\n",
    "print(\"Lasso-Train MSE: \", round(mse_train_lasso,2))"
   ]
  },
  {
   "cell_type": "markdown",
   "metadata": {},
   "source": [
    "The MSE on the training data with the lasso model is also higher than the MSE with OLS, which is again what we wanted since we are trying to reduce the problem of the model overfitting the training data. The test MSE is reported below in question 8."
   ]
  },
  {
   "cell_type": "markdown",
   "metadata": {},
   "source": [
    "### (8.)"
   ]
  },
  {
   "cell_type": "code",
   "execution_count": 101,
   "metadata": {},
   "outputs": [
    {
     "name": "stdout",
     "output_type": "stream",
     "text": [
      "Ridge-Test MSE:  2406.82\n"
     ]
    }
   ],
   "source": [
    "y_pred_test_ridge = ridge_final.predict(X_test)\n",
    "mse_test_ridge = mean_squared_error(y_test, y_pred_test_ridge)\n",
    "print(\"Ridge-Test MSE: \", round(mse_test_ridge,2))"
   ]
  },
  {
   "cell_type": "code",
   "execution_count": 102,
   "metadata": {},
   "outputs": [
    {
     "name": "stdout",
     "output_type": "stream",
     "text": [
      "Lasso-Test MSE:  2397.19\n"
     ]
    }
   ],
   "source": [
    "y_pred_test_lasso = lasso_final.predict(X_test)\n",
    "mse_test_lasso = mean_squared_error(y_test, y_pred_test_lasso)\n",
    "print(\"Lasso-Test MSE: \", round(mse_test_lasso,2))"
   ]
  },
  {
   "cell_type": "markdown",
   "metadata": {},
   "source": [
    "The test MSE for OLS was about 2409, so the test MSE of about 2407 for ridge regression with $\\lambda \\approx 230$ and test MSE of about 2397 for the lasso with $lambda \\approx 0.29$ do improve the model's predictive power. This suggests that OLS was overfitting a bit because it was too flexible, so we needed to shrink the coefficients to decrease the influence of less predictive features in the model.\n",
    "\n",
    "The lasso in particular outperforms both OLS and ridge regression, which suggests we should probably just use the lasso to make the best predictions. In general, the lasso outperforms ridge regression when many variables are irrelevant because it can set coefficients to zero. Since the lasso performs better, this tells us that many of the variables in our data set are likely noise and not actually very predictive.\n",
    "\n",
    "If we look back at the variable descriptions, this makes sense since the variables from the air pollution data set could be irrelevant to predicting deaths per capita from COVID. It is also likely that some of the variables in the Opportunity Insights data set are irrelevant to predicting deaths from COVID per capita. These noise variables could include \"Share Working in Manufacturing\" and \"Test Score Percentile,\" for example.\n",
    "\n",
    "Given that there are likely some irrelevant predictors in the data set, I recommend that the CDC use the lasso model with $\\lambda = 0.29$ to make the most accurate predictions of deaths per capita from COVID in July, 2020."
   ]
  }
 ],
 "metadata": {
  "kernelspec": {
   "display_name": "base",
   "language": "python",
   "name": "python3"
  },
  "language_info": {
   "codemirror_mode": {
    "name": "ipython",
    "version": 3
   },
   "file_extension": ".py",
   "mimetype": "text/x-python",
   "name": "python",
   "nbconvert_exporter": "python",
   "pygments_lexer": "ipython3",
   "version": "3.10.9"
  }
 },
 "nbformat": 4,
 "nbformat_minor": 2
}
