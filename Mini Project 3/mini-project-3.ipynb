{
 "cells": [
  {
   "cell_type": "markdown",
   "metadata": {},
   "source": [
    "# Machine Learning Mini Project 3\n",
    "### Richard Campo in collaboration with Julia Klauss"
   ]
  },
  {
   "cell_type": "markdown",
   "metadata": {},
   "source": [
    "## Data Analysis"
   ]
  },
  {
   "cell_type": "code",
   "execution_count": 136,
   "metadata": {},
   "outputs": [],
   "source": [
    "import pandas as pd\n",
    "import numpy as np\n",
    "import matplotlib.pyplot as plt\n",
    "from sklearn.model_selection import train_test_split\n",
    "from sklearn.model_selection import GridSearchCV, KFold\n",
    "from sklearn.linear_model import LinearRegression\n",
    "from sklearn.linear_model import Ridge\n",
    "from sklearn.linear_model import Lasso\n",
    "from sklearn.metrics import mean_squared_error\n",
    "from sklearn.preprocessing import StandardScaler\n",
    "\n",
    "pd.set_option('display.max_columns', None)\n",
    "pd.set_option('display.max_rows', None)"
   ]
  },
  {
   "cell_type": "markdown",
   "metadata": {},
   "source": [
    "### (1.)"
   ]
  },
  {
   "cell_type": "code",
   "execution_count": 137,
   "metadata": {},
   "outputs": [],
   "source": [
    "variable_names = pd.read_excel(\"PPHA_30546_MP03-Variable_Description.xlsx\")\n",
    "\n",
    "data = pd.read_csv(\"Data-Covid002.csv\", encoding='latin1')\n",
    "\n",
    "var_names = variable_names[\"Variable\"].tolist()\n",
    "\n",
    "selected_columns = var_names + [\"county\", \"state\"]\n",
    "\n",
    "clean_data = data.loc[:, selected_columns]"
   ]
  },
  {
   "cell_type": "markdown",
   "metadata": {},
   "source": [
    "### (2.)"
   ]
  },
  {
   "cell_type": "code",
   "execution_count": 138,
   "metadata": {},
   "outputs": [
    {
     "name": "stdout",
     "output_type": "stream",
     "text": [
      "            casespc     deathspc  intersects_msa  cur_smoke_q1  cur_smoke_q2  \\\n",
      "count   3107.000000  3107.000000     3107.000000   3107.000000   3107.000000   \n",
      "mean     577.600881    23.790131        0.596717      0.212659      0.171048   \n",
      "std     1237.223012    67.852145        0.490636      0.149348      0.128130   \n",
      "min        0.000000     0.000000        0.000000      0.000000      0.000000   \n",
      "25%      107.026845     0.000000        0.000000      0.000000      0.000000   \n",
      "50%      249.338040     3.802303        1.000000      0.250000      0.198718   \n",
      "75%      598.489625    21.461759        1.000000      0.310931      0.250000   \n",
      "max    31379.596000  2279.610600        1.000000      1.000000      1.000000   \n",
      "\n",
      "       cur_smoke_q3  cur_smoke_q4  bmi_obese_q1  bmi_obese_q2  bmi_obese_q3  \\\n",
      "count   3107.000000   3107.000000   3107.000000   3107.000000   3107.000000   \n",
      "mean       0.134467      0.098316      0.239166      0.214580      0.209621   \n",
      "std        0.132181      0.110110      0.165928      0.153237      0.175849   \n",
      "min        0.000000      0.000000      0.000000      0.000000      0.000000   \n",
      "25%        0.000000      0.000000      0.080128      0.000000      0.000000   \n",
      "50%        0.142857      0.096535      0.272076      0.241590      0.223124   \n",
      "75%        0.200000      0.148719      0.335532      0.304348      0.297220   \n",
      "max        1.000000      1.000000      1.000000      1.000000      1.000000   \n",
      "\n",
      "       bmi_obese_q4  exercise_any_q1  exercise_any_q2  exercise_any_q3  \\\n",
      "count   3107.000000      3107.000000      3107.000000      3107.000000   \n",
      "mean       0.186739         0.455995         0.555671         0.603792   \n",
      "std        0.167227         0.273874         0.322336         0.357861   \n",
      "min        0.000000         0.000000         0.000000         0.000000   \n",
      "25%        0.000000         0.312500         0.444444         0.354167   \n",
      "50%        0.194118         0.566563         0.707143         0.778364   \n",
      "75%        0.266667         0.641509         0.769231         0.841804   \n",
      "max        1.000000         1.000000         1.000000         1.000000   \n",
      "\n",
      "       exercise_any_q4    brfss_mia  puninsured2010  reimb_penroll_adj10  \\\n",
      "count      3107.000000  3107.000000     3107.000000          3103.000000   \n",
      "mean          0.638727     0.249437       18.469460          9302.737743   \n",
      "std           0.376922     0.432757        5.536651          1590.926253   \n",
      "min           0.000000     0.000000        3.625483          3663.530000   \n",
      "25%           0.400000     0.000000       14.410248          8159.340000   \n",
      "50%           0.833333     0.000000       18.147072          9193.770000   \n",
      "75%           0.890497     0.000000       21.961417         10285.430000   \n",
      "max           1.000000     1.000000       41.366287         18443.220000   \n",
      "\n",
      "       mort_30day_hosp_z  adjmortmeas_amiall30day  adjmortmeas_chfall30day  \\\n",
      "count        3106.000000              3106.000000              3107.000000   \n",
      "mean            0.457806                 0.165483                 0.108969   \n",
      "std             1.206493                 0.039408                 0.023565   \n",
      "min            -7.778000                 0.000000                 0.000000   \n",
      "25%            -0.255867                 0.145312                 0.096301   \n",
      "50%             0.400088                 0.162727                 0.107242   \n",
      "75%             1.147822                 0.183402                 0.120155   \n",
      "max             8.472745                 0.444663                 0.344451   \n",
      "\n",
      "       med_prev_qual_z  primcarevis_10  diab_hemotest_10  diab_eyeexam_10  \\\n",
      "count      3012.000000     3098.000000       3069.000000      3054.000000   \n",
      "mean         -0.148547       80.865348         83.706025        66.080221   \n",
      "std           0.863881        7.401457          6.594153         7.598549   \n",
      "min          -4.853847       18.331749         16.911765        31.372549   \n",
      "25%          -0.615591       78.803466         81.108462        61.258165   \n",
      "50%          -0.090228       82.202779         84.782609        65.977073   \n",
      "75%           0.444429       84.957865         87.679083        70.906526   \n",
      "max           3.478521       95.665079        100.000000        90.000000   \n",
      "\n",
      "       diab_lipids_10  mammogram_10  cs00_seg_inc  cs00_seg_inc_pov25  \\\n",
      "count     3057.000000   3029.000000   3107.000000         3107.000000   \n",
      "mean        78.307420     63.110073      0.025892            0.024278   \n",
      "std          7.854145      8.397699      0.030576            0.030757   \n",
      "min         19.661336     30.000000     -0.013363           -0.019502   \n",
      "25%         75.000000     57.943925      0.005047            0.004164   \n",
      "50%         79.759036     63.618290      0.013647            0.013136   \n",
      "75%         83.342526     68.907563      0.036453            0.034737   \n",
      "max         94.482759     95.238095      0.438241            0.749106   \n",
      "\n",
      "       cs00_seg_inc_aff75  cs_race_theil_2000       gini99   poor_share  \\\n",
      "count         3107.000000         3107.000000  3008.000000  3107.000000   \n",
      "mean             0.026463            0.075402     0.379021     0.141739   \n",
      "std              0.032920            0.084131     0.086677     0.065460   \n",
      "min             -0.001993            0.000000     0.160954     0.000000   \n",
      "25%              0.003455            0.015591     0.317518     0.095383   \n",
      "50%              0.012577            0.047192     0.369998     0.129621   \n",
      "75%              0.037337            0.104508     0.429472     0.175282   \n",
      "max              0.196959            0.712014     1.091437     0.569170   \n",
      "\n",
      "       inc_share_1perc  frac_middleclass  scap_ski90pcm      rel_tot  \\\n",
      "count      3008.000000       3106.000000    3107.000000  3106.000000   \n",
      "mean          0.094808          0.554244       0.000182    53.224564   \n",
      "std           0.050631          0.093099       1.347960    18.502524   \n",
      "min           0.018570          0.215630      -4.258739     1.816347   \n",
      "25%           0.062577          0.491883      -0.964225    39.669796   \n",
      "50%           0.083600          0.559830      -0.091105    51.328668   \n",
      "75%           0.113570          0.622758       0.818039    64.786780   \n",
      "max           0.734770          0.875000       9.911112   164.527310   \n",
      "\n",
      "       cs_frac_black  cs_frac_hisp   unemp_rate  cs_labforce  cs_elf_ind_man  \\\n",
      "count    3107.000000   3107.000000  3107.000000  3107.000000     3107.000000   \n",
      "mean        8.744503      6.209190     0.049871     0.609344        0.159118   \n",
      "std        14.483719     12.050404     0.017738     0.070393        0.090862   \n",
      "min         0.000000      0.082034     0.016092     0.319209        0.000000   \n",
      "25%         0.264501      0.917235     0.037422     0.567037        0.088637   \n",
      "50%         1.691121      1.783438     0.046908     0.616551        0.149391   \n",
      "75%        10.031043      5.107685     0.058742     0.657982        0.219933   \n",
      "max        85.965088     97.539047     0.176995     0.860937        0.485540   \n",
      "\n",
      "       cs_born_foreign   mig_inflow  mig_outflow   pop_density  \\\n",
      "count      3107.000000  3017.000000  3017.000000   3107.000000   \n",
      "mean          3.441958     0.028677     0.027522    244.325026   \n",
      "std           4.836270     0.019034     0.013780   1676.096088   \n",
      "min           0.000000     0.000000     0.000000      0.099542   \n",
      "25%           0.898505     0.016502     0.018767     17.479568   \n",
      "50%           1.727323     0.024430     0.025111     43.130142   \n",
      "75%           3.922074     0.036320     0.033038    104.991115   \n",
      "max          50.935669     0.168671     0.153256  66940.078000   \n",
      "\n",
      "       frac_traveltime_lt15       hhinc00  median_house_value  ccd_exp_tot  \\\n",
      "count           3107.000000   3107.000000        3.107000e+03  3080.000000   \n",
      "mean               0.403803  32853.502978        1.121801e+05     6.092697   \n",
      "std                0.137215   6975.837500        6.318905e+04     2.103573   \n",
      "min                0.099878  10511.805000        0.000000e+00     3.032457   \n",
      "25%                0.299927  28733.524500        7.704740e+04     5.027049   \n",
      "50%                0.385816  32234.641000        1.007748e+05     5.785282   \n",
      "75%                0.499088  36039.471000        1.285012e+05     6.735288   \n",
      "max                0.817636  77942.648000        1.333001e+06    53.258174   \n",
      "\n",
      "           score_r  cs_fam_wkidsinglemom  subcty_exp_pc      taxrate  \\\n",
      "count  3069.000000           3107.000000    3107.000000  3107.000000   \n",
      "mean      0.077348              0.194598    2119.407531     0.023089   \n",
      "std       9.007980              0.067828     999.833466     0.013848   \n",
      "min     -38.687138              0.024793       0.000000     0.000000   \n",
      "25%      -4.969633              0.152436    1510.192750     0.014993   \n",
      "50%       0.834938              0.182469    1935.919400     0.020339   \n",
      "75%       5.990181              0.221578    2505.411100     0.027164   \n",
      "max      32.985218              0.543878   20541.918000     0.209907   \n",
      "\n",
      "       tax_st_diff_top20         pm25     pm25_mia  summer_tmmx  summer_rmax  \\\n",
      "count        3106.000000  3107.000000  3107.000000  3107.000000  3107.000000   \n",
      "mean            0.775634     8.371871     0.003540   303.126997    88.970517   \n",
      "std             1.470989     2.565927     0.059405     3.173950     9.689271   \n",
      "min             0.000000     0.000000     0.000000   290.455540    31.643282   \n",
      "25%             0.000000     6.309710     0.000000   300.848035    88.052494   \n",
      "50%             0.000000     8.784647     0.000000   303.290440    91.320313   \n",
      "75%             1.000000    10.483764     0.000000   305.817430    94.812389   \n",
      "max             7.220000    15.786018     1.000000   313.872680    99.778748   \n",
      "\n",
      "       winter_tmmx  winter_rmax  bmcruderate  \n",
      "count  3107.000000  3107.000000   3107.00000  \n",
      "mean    280.404875    87.469432   1029.15597  \n",
      "std       6.597855     4.811207    248.38181  \n",
      "min     264.693820    58.159798    189.30000  \n",
      "25%     275.113020    85.093342    864.29999  \n",
      "50%     280.154690    88.028793   1036.30000  \n",
      "75%     285.543750    90.747704   1194.10000  \n",
      "max     298.340360    97.672874   1978.60000  \n"
     ]
    }
   ],
   "source": [
    "print(clean_data.describe())"
   ]
  },
  {
   "cell_type": "markdown",
   "metadata": {},
   "source": [
    "### (3.)"
   ]
  },
  {
   "cell_type": "code",
   "execution_count": 139,
   "metadata": {},
   "outputs": [],
   "source": [
    "clean_data = clean_data.dropna()"
   ]
  },
  {
   "cell_type": "markdown",
   "metadata": {},
   "source": [
    "### (4.)"
   ]
  },
  {
   "cell_type": "code",
   "execution_count": 140,
   "metadata": {},
   "outputs": [],
   "source": [
    "state_dummies = pd.get_dummies(clean_data[\"state\"], drop_first=True)\n",
    "\n",
    "clean_data = pd.concat([clean_data, state_dummies], axis=1)\n",
    "\n",
    "clean_data = clean_data.drop([\"state\", \"county\"], axis=1)"
   ]
  },
  {
   "cell_type": "markdown",
   "metadata": {},
   "source": [
    "### (5.)"
   ]
  },
  {
   "cell_type": "code",
   "execution_count": 141,
   "metadata": {},
   "outputs": [],
   "source": [
    "X = clean_data.drop(\"deathspc\", axis=1)\n",
    "y = clean_data[\"deathspc\"]\n",
    "\n",
    "X_train, X_test, y_train, y_test = train_test_split(\n",
    "    X, y, test_size=0.2, random_state=11\n",
    "    )"
   ]
  },
  {
   "cell_type": "markdown",
   "metadata": {},
   "source": [
    "### (6.)\n",
    "#### (a.)"
   ]
  },
  {
   "cell_type": "code",
   "execution_count": 142,
   "metadata": {},
   "outputs": [
    {
     "name": "stdout",
     "output_type": "stream",
     "text": [
      "OLS-Train MSE:  1137.16\n"
     ]
    }
   ],
   "source": [
    "ols = LinearRegression().fit(X_train, y_train)\n",
    "y_pred_train = ols.predict(X_train)\n",
    "mse_train_ols = mean_squared_error(y_train, y_pred_train)\n",
    "print(\"OLS-Train MSE: \", round(mse_train_ols,2))"
   ]
  },
  {
   "cell_type": "code",
   "execution_count": 143,
   "metadata": {},
   "outputs": [
    {
     "name": "stdout",
     "output_type": "stream",
     "text": [
      "OLS-Test MSE:  1754.88\n"
     ]
    }
   ],
   "source": [
    "y_pred_test = ols.predict(X_test)\n",
    "mse_test_ols = mean_squared_error(y_test, y_pred_test)\n",
    "print(\"OLS-Test MSE: \", round(mse_test_ols,2))"
   ]
  },
  {
   "cell_type": "markdown",
   "metadata": {},
   "source": [
    "#### (b.)\n",
    "We might be concerned about a standard OLS regression overfitting the data because we have a relatively large number of predictors (63) compared with our number of rows (3,107), and some of the predictors may be correlated with deaths per capita simply by chance. Since these features are not actually very predictive and can be thought of as adding noise, we would like to downweight or remove them from the model so that it can achieve a lower test error rate.\n",
    "\n",
    "We do have some evidence of overfitting since our model's error on the training set is a good deal lower than the error on the test set. Removing or downweighting unhelpful predictors has a good chance of improving our model's fit."
   ]
  },
  {
   "cell_type": "markdown",
   "metadata": {},
   "source": [
    "### (7.) Ridge Regressions\n",
    "#### (a.)"
   ]
  },
  {
   "cell_type": "code",
   "execution_count": 170,
   "metadata": {},
   "outputs": [],
   "source": [
    "scaler = StandardScaler()\n",
    "scaler.fit(X_train)\n",
    "X_train = scaler.transform(X_train)\n",
    "X_test = scaler.transform(X_test)\n",
    "\n",
    "ridge = Ridge()\n",
    "\n",
    "alpha_param = np.power(10, (np.linspace(2.55, 2.75, 60)))\n",
    "\n",
    "# From lab\n",
    "def vector_values(grid_search, trials):\n",
    "    '''\n",
    "    Extracts mean and standard deviation scores from a GridSearchCV object.\n",
    "    ​\n",
    "    Parameters\n",
    "    ----------\n",
    "    grid_search : GridSearchCV object\n",
    "    The result of a grid search performed using scikit-learn's GridSearchCV \n",
    "    method.\n",
    "    trials : int\n",
    "    The number of trials performed during the grid search.\n",
    "    ​\n",
    "    Returns\n",
    "    -------\n",
    "    mean_vec : ndarray of shape (trials,)\n",
    "    Array of mean scores, with the negative of each score stored in the array.\n",
    "    std_vec : ndarray of shape (trials,)\n",
    "    Array of standard deviation scores.\n",
    "    '''\n",
    "    mean_vec = np.zeros(trials)\n",
    "    std_vec = np.zeros(trials)\n",
    "    i = 0\n",
    "    final = grid_search.cv_results_\n",
    "    \n",
    "    means_sds = zip(final[\"mean_test_score\"], final[\"std_test_score\"])\n",
    "\n",
    "    for mean_score, std_score in means_sds:\n",
    "        mean_vec[i] = -mean_score\n",
    "        std_vec[i] = std_score\n",
    "        i = i+1\n",
    "    return mean_vec, std_vec\n",
    "\n",
    "def highlight_min(data, color='yellow'):\n",
    "    attr = f'background-color: {color}'\n",
    "    if data.ndim == 1:  # Series\n",
    "        is_min = data == data.min()\n",
    "        return [attr if v else '' for v in is_min]\n",
    "    return ''\n",
    "\n",
    "#Creating a parameters grid\n",
    "param_grid = [{'alpha': alpha_param}]"
   ]
  },
  {
   "cell_type": "markdown",
   "metadata": {},
   "source": [
    "#### (b.)"
   ]
  },
  {
   "cell_type": "code",
   "execution_count": 171,
   "metadata": {},
   "outputs": [
    {
     "data": {
      "text/html": [
       "<style type=\"text/css\">\n",
       "#T_9cb3c_row0_col1 {\n",
       "  background-color: yellow;\n",
       "}\n",
       "</style>\n",
       "<table id=\"T_9cb3c\">\n",
       "  <thead>\n",
       "    <tr>\n",
       "      <th class=\"blank level0\" >&nbsp;</th>\n",
       "      <th id=\"T_9cb3c_level0_col0\" class=\"col_heading level0 col0\" >alpha</th>\n",
       "      <th id=\"T_9cb3c_level0_col1\" class=\"col_heading level0 col1\" >MSE</th>\n",
       "    </tr>\n",
       "  </thead>\n",
       "  <tbody>\n",
       "    <tr>\n",
       "      <th id=\"T_9cb3c_level0_row0\" class=\"row_heading level0 row0\" >30</th>\n",
       "      <td id=\"T_9cb3c_row0_col0\" class=\"data row0 col0\" >448.430264</td>\n",
       "      <td id=\"T_9cb3c_row0_col1\" class=\"data row0 col1\" >1337.215066</td>\n",
       "    </tr>\n",
       "    <tr>\n",
       "      <th id=\"T_9cb3c_level0_row1\" class=\"row_heading level0 row1\" >29</th>\n",
       "      <td id=\"T_9cb3c_row1_col0\" class=\"data row1 col0\" >444.943723</td>\n",
       "      <td id=\"T_9cb3c_row1_col1\" class=\"data row1 col1\" >1337.215603</td>\n",
       "    </tr>\n",
       "    <tr>\n",
       "      <th id=\"T_9cb3c_level0_row2\" class=\"row_heading level0 row2\" >31</th>\n",
       "      <td id=\"T_9cb3c_row2_col0\" class=\"data row2 col0\" >451.944126</td>\n",
       "      <td id=\"T_9cb3c_row2_col1\" class=\"data row2 col1\" >1337.219993</td>\n",
       "    </tr>\n",
       "    <tr>\n",
       "      <th id=\"T_9cb3c_level0_row3\" class=\"row_heading level0 row3\" >28</th>\n",
       "      <td id=\"T_9cb3c_row3_col0\" class=\"data row3 col0\" >441.484290</td>\n",
       "      <td id=\"T_9cb3c_row3_col1\" class=\"data row3 col1\" >1337.221554</td>\n",
       "    </tr>\n",
       "    <tr>\n",
       "      <th id=\"T_9cb3c_level0_row4\" class=\"row_heading level0 row4\" >32</th>\n",
       "      <td id=\"T_9cb3c_row4_col0\" class=\"data row4 col0\" >455.485521</td>\n",
       "      <td id=\"T_9cb3c_row4_col1\" class=\"data row4 col1\" >1337.230433</td>\n",
       "    </tr>\n",
       "  </tbody>\n",
       "</table>\n"
      ],
      "text/plain": [
       "<pandas.io.formats.style.Styler at 0x21b7d1e7520>"
      ]
     },
     "metadata": {},
     "output_type": "display_data"
    }
   ],
   "source": [
    "#Running Grid Search over the alpha (regularization) parameter\n",
    "kf = KFold(n_splits=10, random_state = 25, shuffle=True)\n",
    "grid_search_ridge = GridSearchCV(\n",
    "    ridge, param_grid, cv=kf, scoring='neg_mean_squared_error'\n",
    "    )\n",
    "grid_search_ridge.fit(X_train, y_train)\n",
    "\n",
    "# Extract results for all tested alphas\n",
    "tested_alphas = [\n",
    "    params['alpha'] for params in grid_search_ridge.cv_results_['params']\n",
    "    ]\n",
    "\n",
    "# Assuming vector_values is properly defined to extract mean and standard \n",
    "# deviation values\n",
    "mean_vec_ridge, std_vec_ridge = vector_values(\n",
    "    grid_search_ridge, len(tested_alphas)\n",
    "    )\n",
    "results_cv_ridge = pd.DataFrame(\n",
    "    {'alpha': tested_alphas, 'MSE': mean_vec_ridge}\n",
    "    )\n",
    "\n",
    "top_5_results_cv_ridge = results_cv_ridge.sort_values(\n",
    "    by='MSE', ascending=True\n",
    "    ).head(5)\n",
    "\n",
    "styled_top_5 = top_5_results_cv_ridge.style.apply(\n",
    "    highlight_min, subset=['MSE']\n",
    "    )\n",
    "display(styled_top_5)"
   ]
  },
  {
   "cell_type": "markdown",
   "metadata": {},
   "source": [
    "After narrowing our search a few times, we find an optimal value of $\\lambda$ (also called $\\alpha$) of about 448, suggesting that our model was overfitting the data.\n",
    "\n",
    "#### (c.)"
   ]
  },
  {
   "cell_type": "code",
   "execution_count": 172,
   "metadata": {},
   "outputs": [
    {
     "data": {
      "image/png": "[encoded data removed]",
      "text/plain": [
       "<Figure size 800x600 with 1 Axes>"
      ]
     },
     "metadata": {},
     "output_type": "display_data"
    },
    {
     "name": "stdout",
     "output_type": "stream",
     "text": [
      "Best alpha: 448.4302643598819\n",
      "Best MSE: -1337.2150664020612\n"
     ]
    },
    {
     "data": {
      "text/html": [
       "<style type=\"text/css\">\n",
       "#T_c1683_row30_col1 {\n",
       "  background-color: yellow;\n",
       "}\n",
       "</style>\n",
       "<table id=\"T_c1683\">\n",
       "  <thead>\n",
       "    <tr>\n",
       "      <th class=\"blank level0\" >&nbsp;</th>\n",
       "      <th id=\"T_c1683_level0_col0\" class=\"col_heading level0 col0\" >params</th>\n",
       "      <th id=\"T_c1683_level0_col1\" class=\"col_heading level0 col1\" >mean_test_score</th>\n",
       "    </tr>\n",
       "  </thead>\n",
       "  <tbody>\n",
       "    <tr>\n",
       "      <th id=\"T_c1683_level0_row0\" class=\"row_heading level0 row0\" >0</th>\n",
       "      <td id=\"T_c1683_row0_col0\" class=\"data row0 col0\" >{'alpha': 354.8133892335753}</td>\n",
       "      <td id=\"T_c1683_row0_col1\" class=\"data row0 col1\" >1339.386112</td>\n",
       "    </tr>\n",
       "    <tr>\n",
       "      <th id=\"T_c1683_level0_row1\" class=\"row_heading level0 row1\" >1</th>\n",
       "      <td id=\"T_c1683_row1_col0\" class=\"data row1 col0\" >{'alpha': 357.5936766265683}</td>\n",
       "      <td id=\"T_c1683_row1_col1\" class=\"data row1 col1\" >1339.248503</td>\n",
       "    </tr>\n",
       "    <tr>\n",
       "      <th id=\"T_c1683_level0_row2\" class=\"row_heading level0 row2\" >2</th>\n",
       "      <td id=\"T_c1683_row2_col0\" class=\"data row2 col0\" >{'alpha': 360.395750113948}</td>\n",
       "      <td id=\"T_c1683_row2_col1\" class=\"data row2 col1\" >1339.114946</td>\n",
       "    </tr>\n",
       "    <tr>\n",
       "      <th id=\"T_c1683_level0_row3\" class=\"row_heading level0 row3\" >3</th>\n",
       "      <td id=\"T_c1683_row3_col0\" class=\"data row3 col0\" >{'alpha': 363.2197804096887}</td>\n",
       "      <td id=\"T_c1683_row3_col1\" class=\"data row3 col1\" >1338.985487</td>\n",
       "    </tr>\n",
       "    <tr>\n",
       "      <th id=\"T_c1683_level0_row4\" class=\"row_heading level0 row4\" >4</th>\n",
       "      <td id=\"T_c1683_row4_col0\" class=\"data row4 col0\" >{'alpha': 366.06593956546385}</td>\n",
       "      <td id=\"T_c1683_row4_col1\" class=\"data row4 col1\" >1338.860174</td>\n",
       "    </tr>\n",
       "    <tr>\n",
       "      <th id=\"T_c1683_level0_row5\" class=\"row_heading level0 row5\" >5</th>\n",
       "      <td id=\"T_c1683_row5_col0\" class=\"data row5 col0\" >{'alpha': 368.93440098112893}</td>\n",
       "      <td id=\"T_c1683_row5_col1\" class=\"data row5 col1\" >1338.739054</td>\n",
       "    </tr>\n",
       "    <tr>\n",
       "      <th id=\"T_c1683_level0_row6\" class=\"row_heading level0 row6\" >6</th>\n",
       "      <td id=\"T_c1683_row6_col0\" class=\"data row6 col0\" >{'alpha': 371.8253394152871}</td>\n",
       "      <td id=\"T_c1683_row6_col1\" class=\"data row6 col1\" >1338.622175</td>\n",
       "    </tr>\n",
       "    <tr>\n",
       "      <th id=\"T_c1683_level0_row7\" class=\"row_heading level0 row7\" >7</th>\n",
       "      <td id=\"T_c1683_row7_col0\" class=\"data row7 col0\" >{'alpha': 374.7389309959334}</td>\n",
       "      <td id=\"T_c1683_row7_col1\" class=\"data row7 col1\" >1338.509585</td>\n",
       "    </tr>\n",
       "    <tr>\n",
       "      <th id=\"T_c1683_level0_row8\" class=\"row_heading level0 row8\" >8</th>\n",
       "      <td id=\"T_c1683_row8_col0\" class=\"data row8 col0\" >{'alpha': 377.6753532311884}</td>\n",
       "      <td id=\"T_c1683_row8_col1\" class=\"data row8 col1\" >1338.401332</td>\n",
       "    </tr>\n",
       "    <tr>\n",
       "      <th id=\"T_c1683_level0_row9\" class=\"row_heading level0 row9\" >9</th>\n",
       "      <td id=\"T_c1683_row9_col0\" class=\"data row9 col0\" >{'alpha': 380.63478502011003}</td>\n",
       "      <td id=\"T_c1683_row9_col1\" class=\"data row9 col1\" >1338.297462</td>\n",
       "    </tr>\n",
       "    <tr>\n",
       "      <th id=\"T_c1683_level0_row10\" class=\"row_heading level0 row10\" >10</th>\n",
       "      <td id=\"T_c1683_row10_col0\" class=\"data row10 col0\" >{'alpha': 383.6174066635937}</td>\n",
       "      <td id=\"T_c1683_row10_col1\" class=\"data row10 col1\" >1338.198026</td>\n",
       "    </tr>\n",
       "    <tr>\n",
       "      <th id=\"T_c1683_level0_row11\" class=\"row_heading level0 row11\" >11</th>\n",
       "      <td id=\"T_c1683_row11_col0\" class=\"data row11 col0\" >{'alpha': 386.6233998753587}</td>\n",
       "      <td id=\"T_c1683_row11_col1\" class=\"data row11 col1\" >1338.103070</td>\n",
       "    </tr>\n",
       "    <tr>\n",
       "      <th id=\"T_c1683_level0_row12\" class=\"row_heading level0 row12\" >12</th>\n",
       "      <td id=\"T_c1683_row12_col0\" class=\"data row12 col0\" >{'alpha': 389.65294779301615}</td>\n",
       "      <td id=\"T_c1683_row12_col1\" class=\"data row12 col1\" >1338.012642</td>\n",
       "    </tr>\n",
       "    <tr>\n",
       "      <th id=\"T_c1683_level0_row13\" class=\"row_heading level0 row13\" >13</th>\n",
       "      <td id=\"T_c1683_row13_col0\" class=\"data row13 col0\" >{'alpha': 392.7062349892278}</td>\n",
       "      <td id=\"T_c1683_row13_col1\" class=\"data row13 col1\" >1337.926793</td>\n",
       "    </tr>\n",
       "    <tr>\n",
       "      <th id=\"T_c1683_level0_row14\" class=\"row_heading level0 row14\" >14</th>\n",
       "      <td id=\"T_c1683_row14_col0\" class=\"data row14 col0\" >{'alpha': 395.78344748295234}</td>\n",
       "      <td id=\"T_c1683_row14_col1\" class=\"data row14 col1\" >1337.845569</td>\n",
       "    </tr>\n",
       "    <tr>\n",
       "      <th id=\"T_c1683_level0_row15\" class=\"row_heading level0 row15\" >15</th>\n",
       "      <td id=\"T_c1683_row15_col0\" class=\"data row15 col0\" >{'alpha': 398.88477275077537}</td>\n",
       "      <td id=\"T_c1683_row15_col1\" class=\"data row15 col1\" >1337.769020</td>\n",
       "    </tr>\n",
       "    <tr>\n",
       "      <th id=\"T_c1683_level0_row16\" class=\"row_heading level0 row16\" >16</th>\n",
       "      <td id=\"T_c1683_row16_col0\" class=\"data row16 col0\" >{'alpha': 402.0103997383347}</td>\n",
       "      <td id=\"T_c1683_row16_col1\" class=\"data row16 col1\" >1337.697194</td>\n",
       "    </tr>\n",
       "    <tr>\n",
       "      <th id=\"T_c1683_level0_row17\" class=\"row_heading level0 row17\" >17</th>\n",
       "      <td id=\"T_c1683_row17_col0\" class=\"data row17 col0\" >{'alpha': 405.1605188718288}</td>\n",
       "      <td id=\"T_c1683_row17_col1\" class=\"data row17 col1\" >1337.630140</td>\n",
       "    </tr>\n",
       "    <tr>\n",
       "      <th id=\"T_c1683_level0_row18\" class=\"row_heading level0 row18\" >18</th>\n",
       "      <td id=\"T_c1683_row18_col0\" class=\"data row18 col0\" >{'alpha': 408.33532206961945}</td>\n",
       "      <td id=\"T_c1683_row18_col1\" class=\"data row18 col1\" >1337.567907</td>\n",
       "    </tr>\n",
       "    <tr>\n",
       "      <th id=\"T_c1683_level0_row19\" class=\"row_heading level0 row19\" >19</th>\n",
       "      <td id=\"T_c1683_row19_col0\" class=\"data row19 col0\" >{'alpha': 411.53500275392565}</td>\n",
       "      <td id=\"T_c1683_row19_col1\" class=\"data row19 col1\" >1337.510544</td>\n",
       "    </tr>\n",
       "    <tr>\n",
       "      <th id=\"T_c1683_level0_row20\" class=\"row_heading level0 row20\" >20</th>\n",
       "      <td id=\"T_c1683_row20_col0\" class=\"data row20 col0\" >{'alpha': 414.7597558626052}</td>\n",
       "      <td id=\"T_c1683_row20_col1\" class=\"data row20 col1\" >1337.458100</td>\n",
       "    </tr>\n",
       "    <tr>\n",
       "      <th id=\"T_c1683_level0_row21\" class=\"row_heading level0 row21\" >21</th>\n",
       "      <td id=\"T_c1683_row21_col0\" class=\"data row21 col0\" >{'alpha': 418.009777861032}</td>\n",
       "      <td id=\"T_c1683_row21_col1\" class=\"data row21 col1\" >1337.410625</td>\n",
       "    </tr>\n",
       "    <tr>\n",
       "      <th id=\"T_c1683_level0_row22\" class=\"row_heading level0 row22\" >22</th>\n",
       "      <td id=\"T_c1683_row22_col0\" class=\"data row22 col0\" >{'alpha': 421.28526675406744}</td>\n",
       "      <td id=\"T_c1683_row22_col1\" class=\"data row22 col1\" >1337.368167</td>\n",
       "    </tr>\n",
       "    <tr>\n",
       "      <th id=\"T_c1683_level0_row23\" class=\"row_heading level0 row23\" >23</th>\n",
       "      <td id=\"T_c1683_row23_col0\" class=\"data row23 col0\" >{'alpha': 424.5864220981201}</td>\n",
       "      <td id=\"T_c1683_row23_col1\" class=\"data row23 col1\" >1337.330776</td>\n",
       "    </tr>\n",
       "    <tr>\n",
       "      <th id=\"T_c1683_level0_row24\" class=\"row_heading level0 row24\" >24</th>\n",
       "      <td id=\"T_c1683_row24_col0\" class=\"data row24 col0\" >{'alpha': 427.9134450133075}</td>\n",
       "      <td id=\"T_c1683_row24_col1\" class=\"data row24 col1\" >1337.298501</td>\n",
       "    </tr>\n",
       "    <tr>\n",
       "      <th id=\"T_c1683_level0_row25\" class=\"row_heading level0 row25\" >25</th>\n",
       "      <td id=\"T_c1683_row25_col0\" class=\"data row25 col0\" >{'alpha': 431.2665381957057}</td>\n",
       "      <td id=\"T_c1683_row25_col1\" class=\"data row25 col1\" >1337.271392</td>\n",
       "    </tr>\n",
       "    <tr>\n",
       "      <th id=\"T_c1683_level0_row26\" class=\"row_heading level0 row26\" >26</th>\n",
       "      <td id=\"T_c1683_row26_col0\" class=\"data row26 col0\" >{'alpha': 434.6459059297}</td>\n",
       "      <td id=\"T_c1683_row26_col1\" class=\"data row26 col1\" >1337.249498</td>\n",
       "    </tr>\n",
       "    <tr>\n",
       "      <th id=\"T_c1683_level0_row27\" class=\"row_heading level0 row27\" >27</th>\n",
       "      <td id=\"T_c1683_row27_col0\" class=\"data row27 col0\" >{'alpha': 438.05175410043194}</td>\n",
       "      <td id=\"T_c1683_row27_col1\" class=\"data row27 col1\" >1337.232869</td>\n",
       "    </tr>\n",
       "    <tr>\n",
       "      <th id=\"T_c1683_level0_row28\" class=\"row_heading level0 row28\" >28</th>\n",
       "      <td id=\"T_c1683_row28_col0\" class=\"data row28 col0\" >{'alpha': 441.4842902063401}</td>\n",
       "      <td id=\"T_c1683_row28_col1\" class=\"data row28 col1\" >1337.221554</td>\n",
       "    </tr>\n",
       "    <tr>\n",
       "      <th id=\"T_c1683_level0_row29\" class=\"row_heading level0 row29\" >29</th>\n",
       "      <td id=\"T_c1683_row29_col0\" class=\"data row29 col0\" >{'alpha': 444.9437233718032}</td>\n",
       "      <td id=\"T_c1683_row29_col1\" class=\"data row29 col1\" >1337.215603</td>\n",
       "    </tr>\n",
       "    <tr>\n",
       "      <th id=\"T_c1683_level0_row30\" class=\"row_heading level0 row30\" >30</th>\n",
       "      <td id=\"T_c1683_row30_col0\" class=\"data row30 col0\" >{'alpha': 448.4302643598819}</td>\n",
       "      <td id=\"T_c1683_row30_col1\" class=\"data row30 col1\" >1337.215066</td>\n",
       "    </tr>\n",
       "    <tr>\n",
       "      <th id=\"T_c1683_level0_row31\" class=\"row_heading level0 row31\" >31</th>\n",
       "      <td id=\"T_c1683_row31_col0\" class=\"data row31 col0\" >{'alpha': 451.94412558515654}</td>\n",
       "      <td id=\"T_c1683_row31_col1\" class=\"data row31 col1\" >1337.219993</td>\n",
       "    </tr>\n",
       "    <tr>\n",
       "      <th id=\"T_c1683_level0_row32\" class=\"row_heading level0 row32\" >32</th>\n",
       "      <td id=\"T_c1683_row32_col0\" class=\"data row32 col0\" >{'alpha': 455.4855211266717}</td>\n",
       "      <td id=\"T_c1683_row32_col1\" class=\"data row32 col1\" >1337.230433</td>\n",
       "    </tr>\n",
       "    <tr>\n",
       "      <th id=\"T_c1683_level0_row33\" class=\"row_heading level0 row33\" >33</th>\n",
       "      <td id=\"T_c1683_row33_col0\" class=\"data row33 col0\" >{'alpha': 459.0546667409756}</td>\n",
       "      <td id=\"T_c1683_row33_col1\" class=\"data row33 col1\" >1337.246436</td>\n",
       "    </tr>\n",
       "    <tr>\n",
       "      <th id=\"T_c1683_level0_row34\" class=\"row_heading level0 row34\" >34</th>\n",
       "      <td id=\"T_c1683_row34_col0\" class=\"data row34 col0\" >{'alpha': 462.6517798752665}</td>\n",
       "      <td id=\"T_c1683_row34_col1\" class=\"data row34 col1\" >1337.268052</td>\n",
       "    </tr>\n",
       "    <tr>\n",
       "      <th id=\"T_c1683_level0_row35\" class=\"row_heading level0 row35\" >35</th>\n",
       "      <td id=\"T_c1683_row35_col0\" class=\"data row35 col0\" >{'alpha': 466.2770796806417}</td>\n",
       "      <td id=\"T_c1683_row35_col1\" class=\"data row35 col1\" >1337.295331</td>\n",
       "    </tr>\n",
       "    <tr>\n",
       "      <th id=\"T_c1683_level0_row36\" class=\"row_heading level0 row36\" >36</th>\n",
       "      <td id=\"T_c1683_row36_col0\" class=\"data row36 col0\" >{'alpha': 469.93078702544614}</td>\n",
       "      <td id=\"T_c1683_row36_col1\" class=\"data row36 col1\" >1337.328322</td>\n",
       "    </tr>\n",
       "    <tr>\n",
       "      <th id=\"T_c1683_level0_row37\" class=\"row_heading level0 row37\" >37</th>\n",
       "      <td id=\"T_c1683_row37_col0\" class=\"data row37 col0\" >{'alpha': 473.6131245087305}</td>\n",
       "      <td id=\"T_c1683_row37_col1\" class=\"data row37 col1\" >1337.367076</td>\n",
       "    </tr>\n",
       "    <tr>\n",
       "      <th id=\"T_c1683_level0_row38\" class=\"row_heading level0 row38\" >38</th>\n",
       "      <td id=\"T_c1683_row38_col0\" class=\"data row38 col0\" >{'alpha': 477.3243164738139}</td>\n",
       "      <td id=\"T_c1683_row38_col1\" class=\"data row38 col1\" >1337.411643</td>\n",
       "    </tr>\n",
       "    <tr>\n",
       "      <th id=\"T_c1683_level0_row39\" class=\"row_heading level0 row39\" >39</th>\n",
       "      <td id=\"T_c1683_row39_col0\" class=\"data row39 col0\" >{'alpha': 481.06458902194856}</td>\n",
       "      <td id=\"T_c1683_row39_col1\" class=\"data row39 col1\" >1337.462072</td>\n",
       "    </tr>\n",
       "    <tr>\n",
       "      <th id=\"T_c1683_level0_row40\" class=\"row_heading level0 row40\" >40</th>\n",
       "      <td id=\"T_c1683_row40_col0\" class=\"data row40 col0\" >{'alpha': 484.8341700260989}</td>\n",
       "      <td id=\"T_c1683_row40_col1\" class=\"data row40 col1\" >1337.518413</td>\n",
       "    </tr>\n",
       "    <tr>\n",
       "      <th id=\"T_c1683_level0_row41\" class=\"row_heading level0 row41\" >41</th>\n",
       "      <td id=\"T_c1683_row41_col0\" class=\"data row41 col0\" >{'alpha': 488.63328914482076}</td>\n",
       "      <td id=\"T_c1683_row41_col1\" class=\"data row41 col1\" >1337.580716</td>\n",
       "    </tr>\n",
       "    <tr>\n",
       "      <th id=\"T_c1683_level0_row42\" class=\"row_heading level0 row42\" >42</th>\n",
       "      <td id=\"T_c1683_row42_col0\" class=\"data row42 col0\" >{'alpha': 492.46217783625497}</td>\n",
       "      <td id=\"T_c1683_row42_col1\" class=\"data row42 col1\" >1337.649032</td>\n",
       "    </tr>\n",
       "    <tr>\n",
       "      <th id=\"T_c1683_level0_row43\" class=\"row_heading level0 row43\" >43</th>\n",
       "      <td id=\"T_c1683_row43_col0\" class=\"data row43 col0\" >{'alpha': 496.3210693722299}</td>\n",
       "      <td id=\"T_c1683_row43_col1\" class=\"data row43 col1\" >1337.723409</td>\n",
       "    </tr>\n",
       "    <tr>\n",
       "      <th id=\"T_c1683_level0_row44\" class=\"row_heading level0 row44\" >44</th>\n",
       "      <td id=\"T_c1683_row44_col0\" class=\"data row44 col0\" >{'alpha': 500.21019885247057}</td>\n",
       "      <td id=\"T_c1683_row44_col1\" class=\"data row44 col1\" >1337.803898</td>\n",
       "    </tr>\n",
       "    <tr>\n",
       "      <th id=\"T_c1683_level0_row45\" class=\"row_heading level0 row45\" >45</th>\n",
       "      <td id=\"T_c1683_row45_col0\" class=\"data row45 col0\" >{'alpha': 504.1298032189234}</td>\n",
       "      <td id=\"T_c1683_row45_col1\" class=\"data row45 col1\" >1337.890548</td>\n",
       "    </tr>\n",
       "    <tr>\n",
       "      <th id=\"T_c1683_level0_row46\" class=\"row_heading level0 row46\" >46</th>\n",
       "      <td id=\"T_c1683_row46_col0\" class=\"data row46 col0\" >{'alpha': 508.0801212701933}</td>\n",
       "      <td id=\"T_c1683_row46_col1\" class=\"data row46 col1\" >1337.983410</td>\n",
       "    </tr>\n",
       "    <tr>\n",
       "      <th id=\"T_c1683_level0_row47\" class=\"row_heading level0 row47\" >47</th>\n",
       "      <td id=\"T_c1683_row47_col0\" class=\"data row47 col0\" >{'alpha': 512.0613936760882}</td>\n",
       "      <td id=\"T_c1683_row47_col1\" class=\"data row47 col1\" >1338.082533</td>\n",
       "    </tr>\n",
       "    <tr>\n",
       "      <th id=\"T_c1683_level0_row48\" class=\"row_heading level0 row48\" >48</th>\n",
       "      <td id=\"T_c1683_row48_col0\" class=\"data row48 col0\" >{'alpha': 516.0738629922865}</td>\n",
       "      <td id=\"T_c1683_row48_col1\" class=\"data row48 col1\" >1338.187967</td>\n",
       "    </tr>\n",
       "    <tr>\n",
       "      <th id=\"T_c1683_level0_row49\" class=\"row_heading level0 row49\" >49</th>\n",
       "      <td id=\"T_c1683_row49_col0\" class=\"data row49 col0\" >{'alpha': 520.1177736751105}</td>\n",
       "      <td id=\"T_c1683_row49_col1\" class=\"data row49 col1\" >1338.299761</td>\n",
       "    </tr>\n",
       "    <tr>\n",
       "      <th id=\"T_c1683_level0_row50\" class=\"row_heading level0 row50\" >50</th>\n",
       "      <td id=\"T_c1683_row50_col0\" class=\"data row50 col0\" >{'alpha': 524.1933720964214}</td>\n",
       "      <td id=\"T_c1683_row50_col1\" class=\"data row50 col1\" >1338.417966</td>\n",
       "    </tr>\n",
       "    <tr>\n",
       "      <th id=\"T_c1683_level0_row51\" class=\"row_heading level0 row51\" >51</th>\n",
       "      <td id=\"T_c1683_row51_col0\" class=\"data row51 col0\" >{'alpha': 528.3009065586306}</td>\n",
       "      <td id=\"T_c1683_row51_col1\" class=\"data row51 col1\" >1338.542629</td>\n",
       "    </tr>\n",
       "    <tr>\n",
       "      <th id=\"T_c1683_level0_row52\" class=\"row_heading level0 row52\" >52</th>\n",
       "      <td id=\"T_c1683_row52_col0\" class=\"data row52 col0\" >{'alpha': 532.4406273098247}</td>\n",
       "      <td id=\"T_c1683_row52_col1\" class=\"data row52 col1\" >1338.673802</td>\n",
       "    </tr>\n",
       "    <tr>\n",
       "      <th id=\"T_c1683_level0_row53\" class=\"row_heading level0 row53\" >53</th>\n",
       "      <td id=\"T_c1683_row53_col0\" class=\"data row53 col0\" >{'alpha': 536.6127865590126}</td>\n",
       "      <td id=\"T_c1683_row53_col1\" class=\"data row53 col1\" >1338.811534</td>\n",
       "    </tr>\n",
       "    <tr>\n",
       "      <th id=\"T_c1683_level0_row54\" class=\"row_heading level0 row54\" >54</th>\n",
       "      <td id=\"T_c1683_row54_col0\" class=\"data row54 col0\" >{'alpha': 540.8176384914934}</td>\n",
       "      <td id=\"T_c1683_row54_col1\" class=\"data row54 col1\" >1338.955873</td>\n",
       "    </tr>\n",
       "    <tr>\n",
       "      <th id=\"T_c1683_level0_row55\" class=\"row_heading level0 row55\" >55</th>\n",
       "      <td id=\"T_c1683_row55_col0\" class=\"data row55 col0\" >{'alpha': 545.0554392843387}</td>\n",
       "      <td id=\"T_c1683_row55_col1\" class=\"data row55 col1\" >1339.106870</td>\n",
       "    </tr>\n",
       "    <tr>\n",
       "      <th id=\"T_c1683_level0_row56\" class=\"row_heading level0 row56\" >56</th>\n",
       "      <td id=\"T_c1683_row56_col0\" class=\"data row56 col0\" >{'alpha': 549.3264471220015}</td>\n",
       "      <td id=\"T_c1683_row56_col1\" class=\"data row56 col1\" >1339.264572</td>\n",
       "    </tr>\n",
       "    <tr>\n",
       "      <th id=\"T_c1683_level0_row57\" class=\"row_heading level0 row57\" >57</th>\n",
       "      <td id=\"T_c1683_row57_col0\" class=\"data row57 col0\" >{'alpha': 553.6309222120481}</td>\n",
       "      <td id=\"T_c1683_row57_col1\" class=\"data row57 col1\" >1339.429030</td>\n",
       "    </tr>\n",
       "    <tr>\n",
       "      <th id=\"T_c1683_level0_row58\" class=\"row_heading level0 row58\" >58</th>\n",
       "      <td id=\"T_c1683_row58_col0\" class=\"data row58 col0\" >{'alpha': 557.9691268010067}</td>\n",
       "      <td id=\"T_c1683_row58_col1\" class=\"data row58 col1\" >1339.600293</td>\n",
       "    </tr>\n",
       "    <tr>\n",
       "      <th id=\"T_c1683_level0_row59\" class=\"row_heading level0 row59\" >59</th>\n",
       "      <td id=\"T_c1683_row59_col0\" class=\"data row59 col0\" >{'alpha': 562.341325190349}</td>\n",
       "      <td id=\"T_c1683_row59_col1\" class=\"data row59 col1\" >1339.778409</td>\n",
       "    </tr>\n",
       "  </tbody>\n",
       "</table>\n"
      ],
      "text/plain": [
       "<pandas.io.formats.style.Styler at 0x21b0c9539d0>"
      ]
     },
     "execution_count": 172,
     "metadata": {},
     "output_type": "execute_result"
    }
   ],
   "source": [
    "results = pd.DataFrame(grid_search_ridge.cv_results_)\n",
    "results['mean_test_score'] = -results['mean_test_score']\n",
    "\n",
    "# Plotting mean test scores for each alpha value\n",
    "plt.figure(figsize=(8, 6))\n",
    "plt.semilogx(alpha_param, results['mean_test_score'], marker='o')\n",
    "plt.xlabel('Lambda')\n",
    "plt.ylabel('Average Mean Squared Error')\n",
    "plt.title('Average Mean Squared Error for each Lambda')\n",
    "plt.show()"
   ]
  },
  {
   "cell_type": "markdown",
   "metadata": {},
   "source": [
    "We found that MSE is minimzed when $\\lambda/\\alpha$ equals about 448, which corresponds to about $4.48 \\times 10^2$ on the x-axis above. Since the error rate on the training data is about the same for many different values of $\\lambda/\\alpha$ though, it likely would not matter too much which value we picked in the range we've narrowed it down to.\n",
    "\n",
    "#### (d.)"
   ]
  },
  {
   "cell_type": "markdown",
   "metadata": {},
   "source": [
    "We found an optimal $\\lambda/\\alpha$ of about 448, or about $4.48 \\times 10^2$.\n",
    "\n",
    "#### (e.)"
   ]
  },
  {
   "cell_type": "code",
   "execution_count": null,
   "metadata": {},
   "outputs": [
    {
     "name": "stdout",
     "output_type": "stream",
     "text": [
      "Ridge-Train MSE:  1183.91\n"
     ]
    }
   ],
   "source": [
    "ridge_final = Ridge(alpha=448).fit(X_train, y_train)\n",
    "\n",
    "y_pred_train_ridge = ridge_final.predict(X_train)\n",
    "\n",
    "mse_train_ridge = mean_squared_error(y_train, y_pred_train_ridge)\n",
    "print(\"Ridge-Train MSE: \", round(mse_train_ridge,2))"
   ]
  },
  {
   "cell_type": "markdown",
   "metadata": {},
   "source": [
    "The MSE on the training set for the ridge regression model is higher than the MSE for OLS, which is what we want since we are trying to reduce the flexibility of our model to reduce overfitting."
   ]
  },
  {
   "cell_type": "markdown",
   "metadata": {},
   "source": [
    "### (7.) Lasso\n",
    "#### (a.)"
   ]
  },
  {
   "cell_type": "code",
   "execution_count": 183,
   "metadata": {},
   "outputs": [],
   "source": [
    "alpha_range = np.power(10, (np.linspace(-0.50, -0.25, 50)))\n",
    "\n",
    "lasso = Lasso(max_iter=2000)\n",
    "\n",
    "param_grid = [{'alpha': alpha_range}]"
   ]
  },
  {
   "cell_type": "markdown",
   "metadata": {},
   "source": [
    "#### (b.)"
   ]
  },
  {
   "cell_type": "code",
   "execution_count": 184,
   "metadata": {},
   "outputs": [
    {
     "data": {
      "text/html": [
       "<style type=\"text/css\">\n",
       "#T_127d9_row0_col1 {\n",
       "  background-color: yellow;\n",
       "}\n",
       "</style>\n",
       "<table id=\"T_127d9\">\n",
       "  <thead>\n",
       "    <tr>\n",
       "      <th class=\"blank level0\" >&nbsp;</th>\n",
       "      <th id=\"T_127d9_level0_col0\" class=\"col_heading level0 col0\" >lambda</th>\n",
       "      <th id=\"T_127d9_level0_col1\" class=\"col_heading level0 col1\" >MSE</th>\n",
       "    </tr>\n",
       "  </thead>\n",
       "  <tbody>\n",
       "    <tr>\n",
       "      <th id=\"T_127d9_level0_row0\" class=\"row_heading level0 row0\" >25</th>\n",
       "      <td id=\"T_127d9_row0_col0\" class=\"data row0 col0\" >0.424181</td>\n",
       "      <td id=\"T_127d9_row0_col1\" class=\"data row0 col1\" >1415.572874</td>\n",
       "    </tr>\n",
       "    <tr>\n",
       "      <th id=\"T_127d9_level0_row1\" class=\"row_heading level0 row1\" >26</th>\n",
       "      <td id=\"T_127d9_row1_col0\" class=\"data row1 col0\" >0.429193</td>\n",
       "      <td id=\"T_127d9_row1_col1\" class=\"data row1 col1\" >1415.577620</td>\n",
       "    </tr>\n",
       "    <tr>\n",
       "      <th id=\"T_127d9_level0_row2\" class=\"row_heading level0 row2\" >24</th>\n",
       "      <td id=\"T_127d9_row2_col0\" class=\"data row2 col0\" >0.419227</td>\n",
       "      <td id=\"T_127d9_row2_col1\" class=\"data row2 col1\" >1415.582280</td>\n",
       "    </tr>\n",
       "    <tr>\n",
       "      <th id=\"T_127d9_level0_row3\" class=\"row_heading level0 row3\" >23</th>\n",
       "      <td id=\"T_127d9_row3_col0\" class=\"data row3 col0\" >0.414331</td>\n",
       "      <td id=\"T_127d9_row3_col1\" class=\"data row3 col1\" >1415.597431</td>\n",
       "    </tr>\n",
       "    <tr>\n",
       "      <th id=\"T_127d9_level0_row4\" class=\"row_heading level0 row4\" >27</th>\n",
       "      <td id=\"T_127d9_row4_col0\" class=\"data row4 col0\" >0.434265</td>\n",
       "      <td id=\"T_127d9_row4_col1\" class=\"data row4 col1\" >1415.598384</td>\n",
       "    </tr>\n",
       "  </tbody>\n",
       "</table>\n"
      ],
      "text/plain": [
       "<pandas.io.formats.style.Styler at 0x21b0bc3bc70>"
      ]
     },
     "metadata": {},
     "output_type": "display_data"
    }
   ],
   "source": [
    "#Running Grid Search over the alpha (regularization) parameter\n",
    "kf = KFold(n_splits=10, random_state = 25, shuffle=True)\n",
    "grid_search_lasso = GridSearchCV(\n",
    "    lasso, param_grid, cv=kf, scoring='neg_mean_squared_error'\n",
    "    )\n",
    "grid_search_lasso.fit(X_train, y_train)\n",
    "\n",
    "# Extract results for all tested alphas\n",
    "tested_alphas = [\n",
    "    params['alpha'] for params in grid_search_lasso.cv_results_['params']\n",
    "    ]\n",
    "\n",
    "# Assuming vector_values is properly defined to extract mean and standard \n",
    "# deviation values\n",
    "mean_vec_lasso, std_vec_lasso = vector_values(\n",
    "    grid_search_lasso, len(tested_alphas)\n",
    "    )\n",
    "results_cv_lasso = pd.DataFrame(\n",
    "    {'lambda': tested_alphas, 'MSE': mean_vec_lasso}\n",
    "    )\n",
    "\n",
    "top_5_results_cv_lasso = results_cv_lasso.sort_values(\n",
    "    by='MSE', ascending=True\n",
    "    ).head(5)\n",
    "\n",
    "styled_top_5 = top_5_results_cv_lasso.style.apply(\n",
    "    highlight_min, subset=['MSE']\n",
    "    )\n",
    "display(styled_top_5)"
   ]
  },
  {
   "cell_type": "markdown",
   "metadata": {},
   "source": [
    "The optimal $\\lambda$ we calculate using the lasso is about 0.42. Again, we find that our linear model was likely overfitting since the optimal $\\lambda > 0$.\n",
    "\n",
    "#### (c.)"
   ]
  },
  {
   "cell_type": "code",
   "execution_count": 185,
   "metadata": {},
   "outputs": [
    {
     "data": {
      "image/png": "[encoded data removed]",
      "text/plain": [
       "<Figure size 800x600 with 1 Axes>"
      ]
     },
     "metadata": {},
     "output_type": "display_data"
    }
   ],
   "source": [
    "results = pd.DataFrame(grid_search_lasso.cv_results_)\n",
    "results['mean_test_score'] = -results['mean_test_score']\n",
    "\n",
    "# Plotting mean test scores for each alpha value\n",
    "plt.figure(figsize=(8, 6))\n",
    "plt.semilogx(alpha_range, results['mean_test_score'], marker='o')\n",
    "plt.xlabel('Lambda')\n",
    "plt.ylabel('Average Mean Squared Error')\n",
    "plt.title('Average Mean Squared Error for each Lambda')\n",
    "plt.show()"
   ]
  },
  {
   "cell_type": "markdown",
   "metadata": {},
   "source": [
    "#### (d.)\n",
    "We found the optimal value of $\\lambda$ is about 0.42, or about $4.2 \\times 10^{-1}$."
   ]
  },
  {
   "cell_type": "markdown",
   "metadata": {},
   "source": [
    "#### (e.)"
   ]
  },
  {
   "cell_type": "code",
   "execution_count": 190,
   "metadata": {},
   "outputs": [
    {
     "name": "stdout",
     "output_type": "stream",
     "text": [
      "Lasso-Train MSE:  1176.41\n"
     ]
    }
   ],
   "source": [
    "lasso_final = Lasso(alpha=0.42).fit(X_train, y_train)\n",
    "\n",
    "y_pred_train_lasso = lasso_final.predict(X_train)\n",
    "\n",
    "mse_train_lasso = mean_squared_error(y_train, y_pred_train_lasso)\n",
    "print(\"Lasso-Train MSE: \", round(mse_train_lasso,2))"
   ]
  },
  {
   "cell_type": "markdown",
   "metadata": {},
   "source": [
    "The MSE on the training data with the lasso model is also higher than the MSE with OLS, which is again what we wanted since we are trying to reduce the problem of the model overfitting the training data."
   ]
  },
  {
   "cell_type": "markdown",
   "metadata": {},
   "source": [
    "### (8.)"
   ]
  },
  {
   "cell_type": "code",
   "execution_count": 188,
   "metadata": {},
   "outputs": [
    {
     "name": "stdout",
     "output_type": "stream",
     "text": [
      "Ridge-Test MSE:  1820.15\n"
     ]
    }
   ],
   "source": [
    "y_pred_test_ridge = ridge_final.predict(X_test)\n",
    "mse_test_ridge = mean_squared_error(y_test, y_pred_test_ridge)\n",
    "print(\"Ridge-Test MSE: \", round(mse_test_ridge,2))"
   ]
  },
  {
   "cell_type": "code",
   "execution_count": 189,
   "metadata": {},
   "outputs": [
    {
     "name": "stdout",
     "output_type": "stream",
     "text": [
      "Lasso-Test MSE:  1742.61\n"
     ]
    }
   ],
   "source": [
    "y_pred_test_lasso = lasso_final.predict(X_test)\n",
    "mse_test_lasso = mean_squared_error(y_test, y_pred_test_lasso)\n",
    "print(\"Lasso-Test MSE: \", round(mse_test_lasso,2))"
   ]
  },
  {
   "cell_type": "markdown",
   "metadata": {},
   "source": [
    "Interestingly, Ridge Regression's test MSE is higher than the MSE we calculated using OLS, despite using the optimal non-zero value of $\\lambda/\\alpha$ we found using GridSearchCV(). This suggests that we may have an unrepresentative test set from when we split our data into training and test sets. We would probably want to use 5FCV or 10FCV to get a more accurate estimate of the test error.\n",
    "\n",
    "However, the lasso outperforms both OLS and ridge regression, which suggests we should probably just use the lasso to make the best predictions. The lasso outperforms ridge regression when many variables are irrelevant because it can set coefficients to zero. Since the lasso performs better, this tells us that many of the variables in our data set are likely noise and not actually very predictive. If we look back at the variable descriptions, this makes sense since the variables from the air pollution data set are likely irrelevant to predicting deaths per capita from COVID. It is also likely that some of the variables in the Opportunity Insights data set are irrelevant to predicting deaths from COVID per capita. These noise variables could include \"Share Working in Manufacturing\" and \"Test Score Percentile,\" for example.\n",
    "\n",
    "Given that there are many irrelevant predictors in the data set, I recommend that the CDC use the lasso model with $\\lambda = 0.42$ to make the most accurate predictions of deaths per capita from COVID in July, 2020."
   ]
  }
 ],
 "metadata": {
  "kernelspec": {
   "display_name": "base",
   "language": "python",
   "name": "python3"
  },
  "language_info": {
   "codemirror_mode": {
    "name": "ipython",
    "version": 3
   },
   "file_extension": ".py",
   "mimetype": "text/x-python",
   "name": "python",
   "nbconvert_exporter": "python",
   "pygments_lexer": "ipython3",
   "version": "3.10.9"
  }
 },
 "nbformat": 4,
 "nbformat_minor": 2
}
