{
 "cells": [
  {
   "cell_type": "markdown",
   "metadata": {},
   "source": [
    "# Machine Learning Mini Project 3\n",
    "### Richard Campo in collaboration with Julia Klauss"
   ]
  },
  {
   "cell_type": "markdown",
   "metadata": {},
   "source": [
    "## Data Analysis"
   ]
  },
  {
   "cell_type": "code",
   "execution_count": 113,
   "metadata": {},
   "outputs": [],
   "source": [
    "import pandas as pd\n",
    "import numpy as np\n",
    "import matplotlib.pyplot as plt\n",
    "from sklearn.model_selection import train_test_split\n",
    "from sklearn.model_selection import GridSearchCV, KFold\n",
    "from sklearn.linear_model import LinearRegression\n",
    "from sklearn.linear_model import Ridge\n",
    "from sklearn.metrics import mean_squared_error\n",
    "from sklearn.preprocessing import StandardScaler\n",
    "\n",
    "pd.set_option('display.max_columns', None)\n",
    "pd.set_option('display.max_rows', None)"
   ]
  },
  {
   "cell_type": "markdown",
   "metadata": {},
   "source": [
    "### (1.)"
   ]
  },
  {
   "cell_type": "code",
   "execution_count": 96,
   "metadata": {},
   "outputs": [],
   "source": [
    "variable_names = pd.read_excel(\"PPHA_30546_MP03-Variable_Description.xlsx\")\n",
    "\n",
    "data = pd.read_csv(\"Data-Covid002.csv\", encoding='latin1')\n",
    "\n",
    "var_names = variable_names[\"Variable\"].tolist()\n",
    "\n",
    "selected_columns = var_names + [\"county\", \"state\"]\n",
    "\n",
    "clean_data = data.loc[:, selected_columns]"
   ]
  },
  {
   "cell_type": "markdown",
   "metadata": {},
   "source": [
    "### (2.)"
   ]
  },
  {
   "cell_type": "code",
   "execution_count": 97,
   "metadata": {},
   "outputs": [
    {
     "name": "stdout",
     "output_type": "stream",
     "text": [
      "            casespc     deathspc  intersects_msa  cur_smoke_q1  cur_smoke_q2  \\\n",
      "count   3107.000000  3107.000000     3107.000000   3107.000000   3107.000000   \n",
      "mean     577.600881    23.790131        0.596717      0.212659      0.171048   \n",
      "std     1237.223012    67.852145        0.490636      0.149348      0.128130   \n",
      "min        0.000000     0.000000        0.000000      0.000000      0.000000   \n",
      "25%      107.026845     0.000000        0.000000      0.000000      0.000000   \n",
      "50%      249.338040     3.802303        1.000000      0.250000      0.198718   \n",
      "75%      598.489625    21.461759        1.000000      0.310931      0.250000   \n",
      "max    31379.596000  2279.610600        1.000000      1.000000      1.000000   \n",
      "\n",
      "       cur_smoke_q3  cur_smoke_q4  bmi_obese_q1  bmi_obese_q2  bmi_obese_q3  \\\n",
      "count   3107.000000   3107.000000   3107.000000   3107.000000   3107.000000   \n",
      "mean       0.134467      0.098316      0.239166      0.214580      0.209621   \n",
      "std        0.132181      0.110110      0.165928      0.153237      0.175849   \n",
      "min        0.000000      0.000000      0.000000      0.000000      0.000000   \n",
      "25%        0.000000      0.000000      0.080128      0.000000      0.000000   \n",
      "50%        0.142857      0.096535      0.272076      0.241590      0.223124   \n",
      "75%        0.200000      0.148719      0.335532      0.304348      0.297220   \n",
      "max        1.000000      1.000000      1.000000      1.000000      1.000000   \n",
      "\n",
      "       bmi_obese_q4  exercise_any_q1  exercise_any_q2  exercise_any_q3  \\\n",
      "count   3107.000000      3107.000000      3107.000000      3107.000000   \n",
      "mean       0.186739         0.455995         0.555671         0.603792   \n",
      "std        0.167227         0.273874         0.322336         0.357861   \n",
      "min        0.000000         0.000000         0.000000         0.000000   \n",
      "25%        0.000000         0.312500         0.444444         0.354167   \n",
      "50%        0.194118         0.566563         0.707143         0.778364   \n",
      "75%        0.266667         0.641509         0.769231         0.841804   \n",
      "max        1.000000         1.000000         1.000000         1.000000   \n",
      "\n",
      "       exercise_any_q4    brfss_mia  puninsured2010  reimb_penroll_adj10  \\\n",
      "count      3107.000000  3107.000000     3107.000000          3103.000000   \n",
      "mean          0.638727     0.249437       18.469460          9302.737743   \n",
      "std           0.376922     0.432757        5.536651          1590.926253   \n",
      "min           0.000000     0.000000        3.625483          3663.530000   \n",
      "25%           0.400000     0.000000       14.410248          8159.340000   \n",
      "50%           0.833333     0.000000       18.147072          9193.770000   \n",
      "75%           0.890497     0.000000       21.961417         10285.430000   \n",
      "max           1.000000     1.000000       41.366287         18443.220000   \n",
      "\n",
      "       mort_30day_hosp_z  adjmortmeas_amiall30day  adjmortmeas_chfall30day  \\\n",
      "count        3106.000000              3106.000000              3107.000000   \n",
      "mean            0.457806                 0.165483                 0.108969   \n",
      "std             1.206493                 0.039408                 0.023565   \n",
      "min            -7.778000                 0.000000                 0.000000   \n",
      "25%            -0.255867                 0.145312                 0.096301   \n",
      "50%             0.400088                 0.162727                 0.107242   \n",
      "75%             1.147822                 0.183402                 0.120155   \n",
      "max             8.472745                 0.444663                 0.344451   \n",
      "\n",
      "       med_prev_qual_z  primcarevis_10  diab_hemotest_10  diab_eyeexam_10  \\\n",
      "count      3012.000000     3098.000000       3069.000000      3054.000000   \n",
      "mean         -0.148547       80.865348         83.706025        66.080221   \n",
      "std           0.863881        7.401457          6.594153         7.598549   \n",
      "min          -4.853847       18.331749         16.911765        31.372549   \n",
      "25%          -0.615591       78.803466         81.108462        61.258165   \n",
      "50%          -0.090228       82.202779         84.782609        65.977073   \n",
      "75%           0.444429       84.957865         87.679083        70.906526   \n",
      "max           3.478521       95.665079        100.000000        90.000000   \n",
      "\n",
      "       diab_lipids_10  mammogram_10  cs00_seg_inc  cs00_seg_inc_pov25  \\\n",
      "count     3057.000000   3029.000000   3107.000000         3107.000000   \n",
      "mean        78.307420     63.110073      0.025892            0.024278   \n",
      "std          7.854145      8.397699      0.030576            0.030757   \n",
      "min         19.661336     30.000000     -0.013363           -0.019502   \n",
      "25%         75.000000     57.943925      0.005047            0.004164   \n",
      "50%         79.759036     63.618290      0.013647            0.013136   \n",
      "75%         83.342526     68.907563      0.036453            0.034737   \n",
      "max         94.482759     95.238095      0.438241            0.749106   \n",
      "\n",
      "       cs00_seg_inc_aff75  cs_race_theil_2000       gini99   poor_share  \\\n",
      "count         3107.000000         3107.000000  3008.000000  3107.000000   \n",
      "mean             0.026463            0.075402     0.379021     0.141739   \n",
      "std              0.032920            0.084131     0.086677     0.065460   \n",
      "min             -0.001993            0.000000     0.160954     0.000000   \n",
      "25%              0.003455            0.015591     0.317518     0.095383   \n",
      "50%              0.012577            0.047192     0.369998     0.129621   \n",
      "75%              0.037337            0.104508     0.429472     0.175282   \n",
      "max              0.196959            0.712014     1.091437     0.569170   \n",
      "\n",
      "       inc_share_1perc  frac_middleclass  scap_ski90pcm      rel_tot  \\\n",
      "count      3008.000000       3106.000000    3107.000000  3106.000000   \n",
      "mean          0.094808          0.554244       0.000182    53.224564   \n",
      "std           0.050631          0.093099       1.347960    18.502524   \n",
      "min           0.018570          0.215630      -4.258739     1.816347   \n",
      "25%           0.062577          0.491883      -0.964225    39.669796   \n",
      "50%           0.083600          0.559830      -0.091105    51.328668   \n",
      "75%           0.113570          0.622758       0.818039    64.786780   \n",
      "max           0.734770          0.875000       9.911112   164.527310   \n",
      "\n",
      "       cs_frac_black  cs_frac_hisp   unemp_rate  cs_labforce  cs_elf_ind_man  \\\n",
      "count    3107.000000   3107.000000  3107.000000  3107.000000     3107.000000   \n",
      "mean        8.744503      6.209190     0.049871     0.609344        0.159118   \n",
      "std        14.483719     12.050404     0.017738     0.070393        0.090862   \n",
      "min         0.000000      0.082034     0.016092     0.319209        0.000000   \n",
      "25%         0.264501      0.917235     0.037422     0.567037        0.088637   \n",
      "50%         1.691121      1.783438     0.046908     0.616551        0.149391   \n",
      "75%        10.031043      5.107685     0.058742     0.657982        0.219933   \n",
      "max        85.965088     97.539047     0.176995     0.860937        0.485540   \n",
      "\n",
      "       cs_born_foreign   mig_inflow  mig_outflow   pop_density  \\\n",
      "count      3107.000000  3017.000000  3017.000000   3107.000000   \n",
      "mean          3.441958     0.028677     0.027522    244.325026   \n",
      "std           4.836270     0.019034     0.013780   1676.096088   \n",
      "min           0.000000     0.000000     0.000000      0.099542   \n",
      "25%           0.898505     0.016502     0.018767     17.479568   \n",
      "50%           1.727323     0.024430     0.025111     43.130142   \n",
      "75%           3.922074     0.036320     0.033038    104.991115   \n",
      "max          50.935669     0.168671     0.153256  66940.078000   \n",
      "\n",
      "       frac_traveltime_lt15       hhinc00  median_house_value  ccd_exp_tot  \\\n",
      "count           3107.000000   3107.000000        3.107000e+03  3080.000000   \n",
      "mean               0.403803  32853.502978        1.121801e+05     6.092697   \n",
      "std                0.137215   6975.837500        6.318905e+04     2.103573   \n",
      "min                0.099878  10511.805000        0.000000e+00     3.032457   \n",
      "25%                0.299927  28733.524500        7.704740e+04     5.027049   \n",
      "50%                0.385816  32234.641000        1.007748e+05     5.785282   \n",
      "75%                0.499088  36039.471000        1.285012e+05     6.735288   \n",
      "max                0.817636  77942.648000        1.333001e+06    53.258174   \n",
      "\n",
      "           score_r  cs_fam_wkidsinglemom  subcty_exp_pc      taxrate  \\\n",
      "count  3069.000000           3107.000000    3107.000000  3107.000000   \n",
      "mean      0.077348              0.194598    2119.407531     0.023089   \n",
      "std       9.007980              0.067828     999.833466     0.013848   \n",
      "min     -38.687138              0.024793       0.000000     0.000000   \n",
      "25%      -4.969633              0.152436    1510.192750     0.014993   \n",
      "50%       0.834938              0.182469    1935.919400     0.020339   \n",
      "75%       5.990181              0.221578    2505.411100     0.027164   \n",
      "max      32.985218              0.543878   20541.918000     0.209907   \n",
      "\n",
      "       tax_st_diff_top20         pm25     pm25_mia  summer_tmmx  summer_rmax  \\\n",
      "count        3106.000000  3107.000000  3107.000000  3107.000000  3107.000000   \n",
      "mean            0.775634     8.371871     0.003540   303.126997    88.970517   \n",
      "std             1.470989     2.565927     0.059405     3.173950     9.689271   \n",
      "min             0.000000     0.000000     0.000000   290.455540    31.643282   \n",
      "25%             0.000000     6.309710     0.000000   300.848035    88.052494   \n",
      "50%             0.000000     8.784647     0.000000   303.290440    91.320313   \n",
      "75%             1.000000    10.483764     0.000000   305.817430    94.812389   \n",
      "max             7.220000    15.786018     1.000000   313.872680    99.778748   \n",
      "\n",
      "       winter_tmmx  winter_rmax  bmcruderate  \n",
      "count  3107.000000  3107.000000   3107.00000  \n",
      "mean    280.404875    87.469432   1029.15597  \n",
      "std       6.597855     4.811207    248.38181  \n",
      "min     264.693820    58.159798    189.30000  \n",
      "25%     275.113020    85.093342    864.29999  \n",
      "50%     280.154690    88.028793   1036.30000  \n",
      "75%     285.543750    90.747704   1194.10000  \n",
      "max     298.340360    97.672874   1978.60000  \n"
     ]
    }
   ],
   "source": [
    "print(clean_data.describe())"
   ]
  },
  {
   "cell_type": "markdown",
   "metadata": {},
   "source": [
    "### (3.)"
   ]
  },
  {
   "cell_type": "code",
   "execution_count": 98,
   "metadata": {},
   "outputs": [],
   "source": [
    "clean_data = clean_data.dropna()"
   ]
  },
  {
   "cell_type": "markdown",
   "metadata": {},
   "source": [
    "### (4.)"
   ]
  },
  {
   "cell_type": "code",
   "execution_count": 99,
   "metadata": {},
   "outputs": [],
   "source": [
    "state_dummies = pd.get_dummies(clean_data[\"state\"], drop_first=True)\n",
    "\n",
    "clean_data = pd.concat([clean_data, state_dummies], axis=1)\n",
    "\n",
    "clean_data = clean_data.drop([\"state\", \"county\"], axis=1)"
   ]
  },
  {
   "cell_type": "markdown",
   "metadata": {},
   "source": [
    "### (5.)"
   ]
  },
  {
   "cell_type": "code",
   "execution_count": 100,
   "metadata": {},
   "outputs": [],
   "source": [
    "X = clean_data.drop(\"deathspc\", axis=1)\n",
    "y = clean_data[\"deathspc\"]\n",
    "\n",
    "X_train, X_test, y_train, y_test = train_test_split(\n",
    "    X, y, test_size=0.2, random_state=11\n",
    "    )"
   ]
  },
  {
   "cell_type": "markdown",
   "metadata": {},
   "source": [
    "### (6.)\n",
    "#### (a.)"
   ]
  },
  {
   "cell_type": "code",
   "execution_count": 101,
   "metadata": {},
   "outputs": [
    {
     "name": "stdout",
     "output_type": "stream",
     "text": [
      "OLS-Train MSE:  1137.16\n"
     ]
    }
   ],
   "source": [
    "ols = LinearRegression().fit(X_train, y_train)\n",
    "y_pred_train = ols.predict(X_train)\n",
    "mse_train_ols = mean_squared_error(y_train, y_pred_train)\n",
    "print(\"OLS-Train MSE: \", round(mse_train_ols,2))"
   ]
  },
  {
   "cell_type": "code",
   "execution_count": 102,
   "metadata": {},
   "outputs": [
    {
     "name": "stdout",
     "output_type": "stream",
     "text": [
      "OLS-Test MSE:  1754.88\n"
     ]
    }
   ],
   "source": [
    "y_pred_test = ols.predict(X_test)\n",
    "mse_test_ols = mean_squared_error(y_test, y_pred_test)\n",
    "print(\"OLS-Test MSE: \", round(mse_test_ols,2))"
   ]
  },
  {
   "cell_type": "markdown",
   "metadata": {},
   "source": [
    "#### (b.)\n",
    "We might be concerned about a standard OLS regression overfitting the data because we have a relatively large number of predictors (63) compared with our number of rows (3,107), and some of the predictors may be correlated with deaths per capita simply by chance. Since these features are not actually very predictive and can be thought of as adding noise, we would like to downweight or remove them from the model so that it can achieve a lower test error rate.\n",
    "\n",
    "We do have some evidence of overfitting since our model's error on the training set is a good deal lower than the error on the test set. Removing or downweighting unhelpful predictors has a good chance of improving our model's fit."
   ]
  },
  {
   "cell_type": "markdown",
   "metadata": {},
   "source": [
    "### (7.) Ridge Regressions\n",
    "#### (a.)"
   ]
  },
  {
   "cell_type": "code",
   "execution_count": 111,
   "metadata": {},
   "outputs": [],
   "source": [
    "scaler = StandardScaler()\n",
    "scaler.fit(X_train)\n",
    "X_train = scaler.transform(X_train)\n",
    "X_test = scaler.transform(X_test)\n",
    "\n",
    "ridge = Ridge()\n",
    "\n",
    "alpha_param = np.power(10, (np.linspace(2.5, 2.75, 100)))\n",
    "\n",
    "# From lab\n",
    "def vector_values(grid_search, trials):\n",
    "    '''\n",
    "    Extracts mean and standard deviation scores from a GridSearchCV object.\n",
    "    ​\n",
    "    Parameters\n",
    "    ----------\n",
    "    grid_search : GridSearchCV object\n",
    "    The result of a grid search performed using scikit-learn's GridSearchCV \n",
    "    method.\n",
    "    trials : int\n",
    "    The number of trials performed during the grid search.\n",
    "    ​\n",
    "    Returns\n",
    "    -------\n",
    "    mean_vec : ndarray of shape (trials,)\n",
    "    Array of mean scores, with the negative of each score stored in the array.\n",
    "    std_vec : ndarray of shape (trials,)\n",
    "    Array of standard deviation scores.\n",
    "    '''\n",
    "    mean_vec = np.zeros(trials)\n",
    "    std_vec = np.zeros(trials)\n",
    "    i = 0\n",
    "    final = grid_search.cv_results_\n",
    "    \n",
    "    means_sds = zip(final[\"mean_test_score\"], final[\"std_test_score\"])\n",
    "\n",
    "    for mean_score, std_score in means_sds:\n",
    "        mean_vec[i] = -mean_score\n",
    "        std_vec[i] = std_score\n",
    "        i = i+1\n",
    "    return mean_vec, std_vec\n",
    "\n",
    "def highlight_min(data, color='yellow'):\n",
    "    attr = f'background-color: {color}'\n",
    "    if data.ndim == 1:  # Series\n",
    "        is_min = data == data.min()\n",
    "        return [attr if v else '' for v in is_min]\n",
    "    return ''\n",
    "\n",
    "#Creating a parameters grid\n",
    "param_grid = [{'alpha': alpha_param}]"
   ]
  },
  {
   "cell_type": "markdown",
   "metadata": {},
   "source": [
    "#### (b.)"
   ]
  },
  {
   "cell_type": "code",
   "execution_count": 112,
   "metadata": {},
   "outputs": [
    {
     "data": {
      "text/html": [
       "<style type=\"text/css\">\n",
       "#T_ff414_row0_col1 {\n",
       "  background-color: yellow;\n",
       "}\n",
       "</style>\n",
       "<table id=\"T_ff414\">\n",
       "  <thead>\n",
       "    <tr>\n",
       "      <th class=\"blank level0\" >&nbsp;</th>\n",
       "      <th id=\"T_ff414_level0_col0\" class=\"col_heading level0 col0\" >alpha</th>\n",
       "      <th id=\"T_ff414_level0_col1\" class=\"col_heading level0 col1\" >MSE</th>\n",
       "    </tr>\n",
       "  </thead>\n",
       "  <tbody>\n",
       "    <tr>\n",
       "      <th id=\"T_ff414_level0_row0\" class=\"row_heading level0 row0\" >60</th>\n",
       "      <td id=\"T_ff414_row0_col0\" class=\"data row0 col0\" >448.244688</td>\n",
       "      <td id=\"T_ff414_row0_col1\" class=\"data row0 col1\" >1337.214958</td>\n",
       "    </tr>\n",
       "    <tr>\n",
       "      <th id=\"T_ff414_level0_row1\" class=\"row_heading level0 row1\" >59</th>\n",
       "      <td id=\"T_ff414_row1_col0\" class=\"data row1 col0\" >445.645883</td>\n",
       "      <td id=\"T_ff414_row1_col1\" class=\"data row1 col1\" >1337.215057</td>\n",
       "    </tr>\n",
       "    <tr>\n",
       "      <th id=\"T_ff414_level0_row2\" class=\"row_heading level0 row2\" >61</th>\n",
       "      <td id=\"T_ff414_row2_col0\" class=\"data row2 col0\" >450.858648</td>\n",
       "      <td id=\"T_ff414_row2_col1\" class=\"data row2 col1\" >1337.217890</td>\n",
       "    </tr>\n",
       "    <tr>\n",
       "      <th id=\"T_ff414_level0_row3\" class=\"row_heading level0 row3\" >58</th>\n",
       "      <td id=\"T_ff414_row3_col0\" class=\"data row3 col0\" >443.062146</td>\n",
       "      <td id=\"T_ff414_row3_col1\" class=\"data row3 col1\" >1337.218166</td>\n",
       "    </tr>\n",
       "    <tr>\n",
       "      <th id=\"T_ff414_level0_row4\" class=\"row_heading level0 row4\" >62</th>\n",
       "      <td id=\"T_ff414_row4_col0\" class=\"data row4 col0\" >453.487851</td>\n",
       "      <td id=\"T_ff414_row4_col1\" class=\"data row4 col1\" >1337.223873</td>\n",
       "    </tr>\n",
       "  </tbody>\n",
       "</table>\n"
      ],
      "text/plain": [
       "<pandas.io.formats.style.Styler at 0x21b02ec7df0>"
      ]
     },
     "metadata": {},
     "output_type": "display_data"
    }
   ],
   "source": [
    "#Running Grid Search over the alpha (regularization) parameter\n",
    "kf = KFold(n_splits=10, random_state = 25, shuffle=True)\n",
    "grid_search_ridge = GridSearchCV(\n",
    "    ridge, param_grid, cv=kf, scoring='neg_mean_squared_error'\n",
    "    )\n",
    "grid_search_ridge.fit(X_train, y_train)\n",
    "\n",
    "# Extract results for all tested alphas\n",
    "tested_alphas = [\n",
    "    params['alpha'] for params in grid_search_ridge.cv_results_['params']\n",
    "    ]\n",
    "\n",
    "# Assuming vector_values is properly defined to extract mean and standard \n",
    "# deviation values\n",
    "mean_vec_ridge, std_vec_ridge = vector_values(\n",
    "    grid_search_ridge, len(tested_alphas)\n",
    "    )\n",
    "results_cv_ridge = pd.DataFrame(\n",
    "    {'alpha': tested_alphas, 'MSE': mean_vec_ridge}\n",
    "    )\n",
    "\n",
    "top_5_results_cv_ridge = results_cv_ridge.sort_values(\n",
    "    by='MSE', ascending=True\n",
    "    ).head(5)\n",
    "\n",
    "styled_top_5 = top_5_results_cv_ridge.style.apply(\n",
    "    highlight_min, subset=['MSE']\n",
    "    )\n",
    "display(styled_top_5)"
   ]
  },
  {
   "cell_type": "markdown",
   "metadata": {},
   "source": [
    "After narrowing our search a few times, we find an optimal value of $\\lambda$ (also called $\\alpha$) of about 448, suggesting that our model was overfitting the data.\n",
    "\n",
    "#### (c.)"
   ]
  },
  {
   "cell_type": "code",
   "execution_count": 115,
   "metadata": {},
   "outputs": [
    {
     "data": {
      "image/png": "[encoded data removed]",
      "text/plain": [
       "<Figure size 800x600 with 1 Axes>"
      ]
     },
     "metadata": {},
     "output_type": "display_data"
    }
   ],
   "source": [
    "mean_vec, std_vec = vector_values(grid_search_ridge, len(tested_alphas))\n",
    "\n",
    "fig, ax = plt.subplots(figsize=(8, 6))\n",
    "ax.set_title('Ridge Regression', fontsize=20)\n",
    "log_alpha_param = np.log10(alpha_param) # log transform to aid with interpretability of axis\n",
    "ax.plot(log_alpha_param, mean_vec, label='Mean MSE')\n",
    "ax.errorbar(log_alpha_param, mean_vec, yerr=std_vec, fmt='o', ecolor='r', capsize=5, alpha=0.5, label='MSE Std Dev')\n",
    "ax.set_ylabel(\"MSE\", fontsize=20)\n",
    "ax.set_xlabel(\"log(Lambda)\", fontsize=20)\n",
    "plt.legend()\n",
    "plt.show()"
   ]
  },
  {
   "cell_type": "markdown",
   "metadata": {},
   "source": [
    "It's hard to tell from the graph above since we're so zoomed in, but we found that MSE is minimzed when $\\lambda/\\alpha$ equals about 448, which corresponds to about $10^{2.651}$, or 2.651 on the x-axis above. Since the error rate on the training data is about the same for many different values of $\\lambda/\\alpha$ though, it likely would not matter too much which value we picked in the range we've narrowed it down to.\n",
    "\n",
    "#### (d.)"
   ]
  },
  {
   "cell_type": "markdown",
   "metadata": {},
   "source": [
    "We found an optimal $\\lambda/\\alpha$ of about 448, or about $10^{2.651}$\n",
    "\n",
    "#### (e.)"
   ]
  },
  {
   "cell_type": "code",
   "execution_count": 117,
   "metadata": {},
   "outputs": [
    {
     "name": "stdout",
     "output_type": "stream",
     "text": [
      "Ridge-Train MSE:  1183.91\n"
     ]
    }
   ],
   "source": [
    "ridge_final = Ridge(alpha=448).fit(X_train, y_train)\n",
    "\n",
    "y_pred_train_ridge = ridge_final.predict(X_train)\n",
    "\n",
    "mse_train_ridge = mean_squared_error(y_train, y_pred_train_ridge)\n",
    "print(\"Ridge-Train MSE: \", round(mse_train_ridge,2))"
   ]
  },
  {
   "cell_type": "code",
   "execution_count": 119,
   "metadata": {},
   "outputs": [
    {
     "name": "stdout",
     "output_type": "stream",
     "text": [
      "Ridge-Test MSE:  1820.15\n"
     ]
    }
   ],
   "source": [
    "y_pred_test_ridge = ridge_final.predict(X_test)\n",
    "mse_test_ridge = mean_squared_error(y_test, y_pred_test_ridge)\n",
    "print(\"Ridge-Test MSE: \", round(mse_test_ridge,2))"
   ]
  },
  {
   "cell_type": "markdown",
   "metadata": {},
   "source": [
    "Interestingly, Ridge Regression's test MSE is higher than the MSE we calculated using OLS, despite using the optimal non-zero value of $\\lambda/\\alpha$ we found using GridSearchCV(). This suggests that we may have an unrepresentative test set from when we split our data into training and test sets. We would probably want to use 5FCV or 10FCV to get a more accurate estimate of the test error."
   ]
  },
  {
   "cell_type": "markdown",
   "metadata": {},
   "source": [
    "### (7.) Lasso\n",
    "#### (a.)"
   ]
  },
  {
   "cell_type": "markdown",
   "metadata": {},
   "source": []
  }
 ],
 "metadata": {
  "kernelspec": {
   "display_name": "base",
   "language": "python",
   "name": "python3"
  },
  "language_info": {
   "codemirror_mode": {
    "name": "ipython",
    "version": 3
   },
   "file_extension": ".py",
   "mimetype": "text/x-python",
   "name": "python",
   "nbconvert_exporter": "python",
   "pygments_lexer": "ipython3",
   "version": "3.10.9"
  }
 },
 "nbformat": 4,
 "nbformat_minor": 2
}
