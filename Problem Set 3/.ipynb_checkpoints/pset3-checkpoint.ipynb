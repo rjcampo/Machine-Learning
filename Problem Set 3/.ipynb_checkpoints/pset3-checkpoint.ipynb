{
 "cells": [
  {
   "cell_type": "markdown",
   "metadata": {},
   "source": [
    "# Machine Learning Problem Set 3\n",
    "## Richard Campo in collaboration with Julia Klauss"
   ]
  },
  {
   "cell_type": "code",
   "execution_count": 153,
   "metadata": {},
   "outputs": [],
   "source": [
    "import pandas as pd\n",
    "import numpy as np\n",
    "import seaborn as sns\n",
    "import matplotlib.pyplot as plt\n",
    "import statsmodels.api as sm\n",
    "from sklearn.linear_model import LinearRegression\n",
    "from mlxtend.feature_selection import SequentialFeatureSelector\n",
    "from sklearn.model_selection import train_test_split\n",
    "from sklearn.model_selection import KFold\n",
    "from sklearn.model_selection import cross_val_score\n",
    "from sklearn.metrics import mean_squared_error"
   ]
  },
  {
   "cell_type": "markdown",
   "metadata": {},
   "source": [
    "### Chapter 5: Question 6\n",
    "#### (a.)"
   ]
  },
  {
   "cell_type": "code",
   "execution_count": 154,
   "metadata": {},
   "outputs": [],
   "source": [
    "df_default = pd.read_csv(\"Data-Default.csv\")\n",
    "\n",
    "df_default[\"default\"] = np.where(df_default[\"default\"] == \"No\", 0, 1)\n",
    "df_default[\"student\"] = np.where(df_default[\"student\"] == \"No\", 0, 1)"
   ]
  },
  {
   "cell_type": "code",
   "execution_count": 155,
   "metadata": {},
   "outputs": [
    {
     "name": "stdout",
     "output_type": "stream",
     "text": [
      "Optimization terminated successfully.\n",
      "         Current function value: 0.078948\n",
      "         Iterations 10\n"
     ]
    },
    {
     "data": {
      "text/html": [
       "<table class=\"simpletable\">\n",
       "<caption>Logit Regression Results</caption>\n",
       "<tr>\n",
       "  <th>Dep. Variable:</th>        <td>default</td>     <th>  No. Observations:  </th>   <td> 10000</td>  \n",
       "</tr>\n",
       "<tr>\n",
       "  <th>Model:</th>                 <td>Logit</td>      <th>  Df Residuals:      </th>   <td>  9997</td>  \n",
       "</tr>\n",
       "<tr>\n",
       "  <th>Method:</th>                 <td>MLE</td>       <th>  Df Model:          </th>   <td>     2</td>  \n",
       "</tr>\n",
       "<tr>\n",
       "  <th>Date:</th>            <td>Mon, 12 Feb 2024</td> <th>  Pseudo R-squ.:     </th>   <td>0.4594</td>  \n",
       "</tr>\n",
       "<tr>\n",
       "  <th>Time:</th>                <td>17:14:03</td>     <th>  Log-Likelihood:    </th>  <td> -789.48</td> \n",
       "</tr>\n",
       "<tr>\n",
       "  <th>converged:</th>             <td>True</td>       <th>  LL-Null:           </th>  <td> -1460.3</td> \n",
       "</tr>\n",
       "<tr>\n",
       "  <th>Covariance Type:</th>     <td>nonrobust</td>    <th>  LLR p-value:       </th> <td>4.541e-292</td>\n",
       "</tr>\n",
       "</table>\n",
       "<table class=\"simpletable\">\n",
       "<tr>\n",
       "     <td></td>        <th>coef</th>     <th>std err</th>      <th>z</th>      <th>P>|z|</th>  <th>[0.025</th>    <th>0.975]</th>  \n",
       "</tr>\n",
       "<tr>\n",
       "  <th>const</th>   <td>  -11.5405</td> <td>    0.435</td> <td>  -26.544</td> <td> 0.000</td> <td>  -12.393</td> <td>  -10.688</td>\n",
       "</tr>\n",
       "<tr>\n",
       "  <th>balance</th> <td>    0.0056</td> <td>    0.000</td> <td>   24.835</td> <td> 0.000</td> <td>    0.005</td> <td>    0.006</td>\n",
       "</tr>\n",
       "<tr>\n",
       "  <th>income</th>  <td> 2.081e-05</td> <td> 4.99e-06</td> <td>    4.174</td> <td> 0.000</td> <td>  1.1e-05</td> <td> 3.06e-05</td>\n",
       "</tr>\n",
       "</table><br/><br/>Possibly complete quasi-separation: A fraction 0.14 of observations can be<br/>perfectly predicted. This might indicate that there is complete<br/>quasi-separation. In this case some parameters will not be identified."
      ],
      "text/latex": [
       "\\begin{center}\n",
       "\\begin{tabular}{lclc}\n",
       "\\toprule\n",
       "\\textbf{Dep. Variable:}   &     default      & \\textbf{  No. Observations:  } &    10000    \\\\\n",
       "\\textbf{Model:}           &      Logit       & \\textbf{  Df Residuals:      } &     9997    \\\\\n",
       "\\textbf{Method:}          &       MLE        & \\textbf{  Df Model:          } &        2    \\\\\n",
       "\\textbf{Date:}            & Mon, 12 Feb 2024 & \\textbf{  Pseudo R-squ.:     } &   0.4594    \\\\\n",
       "\\textbf{Time:}            &     17:14:03     & \\textbf{  Log-Likelihood:    } &   -789.48   \\\\\n",
       "\\textbf{converged:}       &       True       & \\textbf{  LL-Null:           } &   -1460.3   \\\\\n",
       "\\textbf{Covariance Type:} &    nonrobust     & \\textbf{  LLR p-value:       } & 4.541e-292  \\\\\n",
       "\\bottomrule\n",
       "\\end{tabular}\n",
       "\\begin{tabular}{lcccccc}\n",
       "                 & \\textbf{coef} & \\textbf{std err} & \\textbf{z} & \\textbf{P$> |$z$|$} & \\textbf{[0.025} & \\textbf{0.975]}  \\\\\n",
       "\\midrule\n",
       "\\textbf{const}   &     -11.5405  &        0.435     &   -26.544  &         0.000        &      -12.393    &      -10.688     \\\\\n",
       "\\textbf{balance} &       0.0056  &        0.000     &    24.835  &         0.000        &        0.005    &        0.006     \\\\\n",
       "\\textbf{income}  &    2.081e-05  &     4.99e-06     &     4.174  &         0.000        &      1.1e-05    &     3.06e-05     \\\\\n",
       "\\bottomrule\n",
       "\\end{tabular}\n",
       "%\\caption{Logit Regression Results}\n",
       "\\end{center}\n",
       "\n",
       "Possibly complete quasi-separation: A fraction 0.14 of observations can be \\newline\n",
       " perfectly predicted. This might indicate that there is complete \\newline\n",
       " quasi-separation. In this case some parameters will not be identified."
      ],
      "text/plain": [
       "<class 'statsmodels.iolib.summary.Summary'>\n",
       "\"\"\"\n",
       "                           Logit Regression Results                           \n",
       "==============================================================================\n",
       "Dep. Variable:                default   No. Observations:                10000\n",
       "Model:                          Logit   Df Residuals:                     9997\n",
       "Method:                           MLE   Df Model:                            2\n",
       "Date:                Mon, 12 Feb 2024   Pseudo R-squ.:                  0.4594\n",
       "Time:                        17:14:03   Log-Likelihood:                -789.48\n",
       "converged:                       True   LL-Null:                       -1460.3\n",
       "Covariance Type:            nonrobust   LLR p-value:                4.541e-292\n",
       "==============================================================================\n",
       "                 coef    std err          z      P>|z|      [0.025      0.975]\n",
       "------------------------------------------------------------------------------\n",
       "const        -11.5405      0.435    -26.544      0.000     -12.393     -10.688\n",
       "balance        0.0056      0.000     24.835      0.000       0.005       0.006\n",
       "income      2.081e-05   4.99e-06      4.174      0.000     1.1e-05    3.06e-05\n",
       "==============================================================================\n",
       "\n",
       "Possibly complete quasi-separation: A fraction 0.14 of observations can be\n",
       "perfectly predicted. This might indicate that there is complete\n",
       "quasi-separation. In this case some parameters will not be identified.\n",
       "\"\"\""
      ]
     },
     "execution_count": 155,
     "metadata": {},
     "output_type": "execute_result"
    }
   ],
   "source": [
    "y = df_default[\"default\"]\n",
    "X = df_default[[\"balance\", \"income\"]]\n",
    "X = sm.add_constant(X)\n",
    "\n",
    "model = sm.Logit(y, X)\n",
    "result = model.fit()\n",
    "\n",
    "result.summary()"
   ]
  },
  {
   "cell_type": "markdown",
   "metadata": {},
   "source": [
    "When we run the logistic regression of `default` on `balance` and `income`, we get an estimated coefficient of 0.0056 for `balance` and a very small, though statistically significant, estimated coefficient for `income`. Since the coefficient of `income` is economically insignificant, it's not really worth interpreting. However, the estimated coefficient of `balance` is both  economically significant and statistically significant at a 5% confidence level. \n",
    "\n",
    "To make the estimated coefficient of `balance` easier to interpret, we can exponentiate it: $e^{0.0056} \\approx 1.0056$. This means that, holding income constant, an additional dollar in a borrower's balance is predicted to increase their odds of default by 0.56%."
   ]
  },
  {
   "cell_type": "markdown",
   "metadata": {},
   "source": [
    "#### (b.)"
   ]
  },
  {
   "cell_type": "code",
   "execution_count": 156,
   "metadata": {},
   "outputs": [],
   "source": [
    "# get_indices function from lab without comments\n",
    "def get_indices(data, n):\n",
    "    indices = np.random.choice(data.index, int(n), replace=True)\n",
    "    return indices\n",
    "\n",
    "# boot_fn() simplified from lab (though less flexible)\n",
    "def get_logit_coefs(data, index):\n",
    "    X = data[[\"balance\", \"income\"]].loc[index]\n",
    "    X = sm.add_constant(X)\n",
    "    y = data[\"default\"].loc[index]\n",
    "    \n",
    "    lr = sm.Logit(y,X).fit(disp=0)\n",
    "    coefficients = [lr.params[0], lr.params[1], lr.params[2]]\n",
    "\n",
    "    return coefficients\n",
    "\n",
    "# boot() from lab with B hardcoded to 1000\n",
    "def boot_fn(data, func):\n",
    "    coef_intercept = []\n",
    "    coef_balance = []\n",
    "    coef_income = []\n",
    "\n",
    "    coefs = ['intercept', 'balance', 'income']\n",
    "    output = {coef: [] for coef in coefs}\n",
    "    for i in range(1000):\n",
    "        reg_out = func(data, get_indices(data, len(data)))\n",
    "        for i, coef in enumerate(coefs):\n",
    "            output[coef].append(reg_out[i])\n",
    "\n",
    "    results = {}\n",
    "    for coef in coefs:\n",
    "        results[coef] = {\n",
    "            'estimate': np.mean(output[coef]),\n",
    "            'std_err': np.std(output[coef])\n",
    "        }\n",
    "    \n",
    "    return results\n",
    "    "
   ]
  },
  {
   "cell_type": "markdown",
   "metadata": {},
   "source": [
    "#### (c.)"
   ]
  },
  {
   "cell_type": "code",
   "execution_count": 157,
   "metadata": {},
   "outputs": [
    {
     "name": "stdout",
     "output_type": "stream",
     "text": [
      "Intercept:\n",
      "\tEstimate: -11.561992685660886\n",
      "\tStandard Error: 0.4368757588716233\n",
      "Balance:\n",
      "\tEstimate: 0.005657938822748911\n",
      "\tStandard Error: 0.00022883703227000063\n",
      "Income:\n",
      "\tEstimate: 2.0817229807389295e-05\n",
      "\tStandard Error: 4.8570420197208965e-06\n"
     ]
    }
   ],
   "source": [
    "results = boot_fn(df_default, get_logit_coefs)\n",
    "\n",
    "for coef, output in results.items():\n",
    "    print(\n",
    "        f\"{coef.capitalize()}:\\n\"\n",
    "        f\"\\tEstimate: {output['estimate']}\\n\"\n",
    "        f\"\\tStandard Error: {output['std_err']}\"\n",
    "        )"
   ]
  },
  {
   "cell_type": "markdown",
   "metadata": {},
   "source": [
    "#### (d.)"
   ]
  },
  {
   "cell_type": "markdown",
   "metadata": {},
   "source": [
    "From the bootstrap function, we get an estimated standard error of `balance` of about 0.0002 and an estimated standard error of `income` of approximately 0. In the original logit model, we found estimated standard errors of approximately 0 for both `balance` and `income`. These results are very similar, which suggests that `boot_fn()` is working properly to computationally estimate the standard errors."
   ]
  },
  {
   "cell_type": "markdown",
   "metadata": {},
   "source": [
    "### Chapter 5: Question 8\n",
    "#### (a.)"
   ]
  },
  {
   "cell_type": "code",
   "execution_count": 158,
   "metadata": {},
   "outputs": [],
   "source": [
    "rng = np.random.default_rng(1)\n",
    "x = rng.normal(size=100)\n",
    "y = x - 2 * x**2 + rng.normal(size=100)"
   ]
  },
  {
   "cell_type": "markdown",
   "metadata": {},
   "source": [
    "In this simulated dataset, $n = 100$ since we are drawing 100 random values from the normal distribution. Similarly, $p = 1$ since x is our only predictor of y. The model used to generate the data is $x - 2x^2$ and then some random noise is added using `rng.normal()` to simulate real world data. If we wanted to add the random noise to the function, we could represent it with $\\epsilon$, giving us $x - 2x^2 + \\epsilon$."
   ]
  },
  {
   "cell_type": "markdown",
   "metadata": {},
   "source": [
    "#### (b.)"
   ]
  },
  {
   "cell_type": "code",
   "execution_count": 159,
   "metadata": {},
   "outputs": [
    {
     "data": {
      "image/png": "[encoded data removed]",
      "text/plain": [
       "<Figure size 640x480 with 1 Axes>"
      ]
     },
     "metadata": {},
     "output_type": "display_data"
    }
   ],
   "source": [
    "fig1, ax = plt.subplots()\n",
    "\n",
    "ax = sns.scatterplot(x=x, y=y)\n",
    "\n",
    "ax.set_title(\"Quadratic relationship from simulated data, seed = 1\")\n",
    "ax.set_xlabel(\"x\")\n",
    "ax.set_ylabel(\"y\")\n",
    "\n",
    "ax.spines['top'].set_visible(False)\n",
    "ax.spines['right'].set_visible(False)\n",
    "\n",
    "ax\n",
    "\n",
    "plt.show()\n"
   ]
  },
  {
   "cell_type": "markdown",
   "metadata": {},
   "source": [
    "We can see from the scatterplot that the relationship is quadratic and concave, as we expected from the function $x - 2x^2$, and there is some random noise added, giving us $x - 2x^2 + \\epsilon$."
   ]
  },
  {
   "cell_type": "markdown",
   "metadata": {},
   "source": [
    "#### (c.)"
   ]
  },
  {
   "cell_type": "code",
   "execution_count": 160,
   "metadata": {},
   "outputs": [
    {
     "name": "stdout",
     "output_type": "stream",
     "text": [
      "MSE using LOOCV, degree 1: 6.63303\n",
      "MSE using LOOCV, degree 2: 1.12294\n",
      "MSE using LOOCV, degree 3: 1.3018\n",
      "MSE using LOOCV, degree 4: 1.33239\n"
     ]
    }
   ],
   "source": [
    "sim_data = pd.DataFrame({\"x\": x, \"y\": y})\n",
    "\n",
    "sim_data[\"x^2\"] = np.power(sim_data[\"x\"], 2)\n",
    "sim_data[\"x^3\"] = np.power(sim_data[\"x\"], 3)\n",
    "sim_data[\"x^4\"] = np.power(sim_data[\"x\"], 4)\n",
    "\n",
    "# Move y to the last column\n",
    "sim_data = sim_data[[\"x\", \"x^2\", \"x^3\", \"x^4\", \"y\"]]\n",
    "\n",
    "def loocv(data, degree):\n",
    "    squared_errors = []\n",
    "\n",
    "    for i in data.index:\n",
    "        train = data.iloc[data.index != i, :]\n",
    "        test = data.iloc[data.index == i, :]\n",
    "\n",
    "        ols = LinearRegression()\n",
    "        model = ols.fit(train.iloc[:, :degree], train[\"y\"])\n",
    "        test_predicted = model.predict(test.iloc[:, :degree])\n",
    "        test_actual = test[[\"y\"]]\n",
    "        squared_error = np.power(test_predicted - test_actual, 2)\n",
    "\n",
    "        squared_errors.append(squared_error.values[0][0])\n",
    "\n",
    "    mse = np.mean(squared_errors)\n",
    "    print(f'MSE using LOOCV, degree {degree}: {round(mse, 5)}')\n",
    "\n",
    "for degree in range(1, 5):\n",
    "    loocv(sim_data, degree)\n"
   ]
  },
  {
   "cell_type": "markdown",
   "metadata": {},
   "source": [
    "After testing the four degrees specified in the question, a model up to degree 2 performs the best, which is expected since the true model is quadratic, so additional polynomials will only cause overfitting."
   ]
  },
  {
   "cell_type": "markdown",
   "metadata": {},
   "source": [
    "#### (d.)"
   ]
  },
  {
   "cell_type": "code",
   "execution_count": 161,
   "metadata": {},
   "outputs": [
    {
     "name": "stdout",
     "output_type": "stream",
     "text": [
      "MSE using LOOCV, degree 1: 9.99369\n",
      "MSE using LOOCV, degree 2: 0.8078\n",
      "MSE using LOOCV, degree 3: 0.79254\n",
      "MSE using LOOCV, degree 4: 1.54518\n"
     ]
    }
   ],
   "source": [
    "rng2 = np.random.default_rng(2)\n",
    "x2 = rng.normal(size=100)\n",
    "y2 = x2 - 2 * x2**2 + rng.normal(size=100)\n",
    "\n",
    "sim_data2 = pd.DataFrame({\"x\": x2, \"y\": y2})\n",
    "\n",
    "sim_data2[\"x^2\"] = np.power(sim_data2[\"x\"], 2)\n",
    "sim_data2[\"x^3\"] = np.power(sim_data2[\"x\"], 3)\n",
    "sim_data2[\"x^4\"] = np.power(sim_data2[\"x\"], 4)\n",
    "\n",
    "# Move y to the last column\n",
    "sim_data2 = sim_data2[[\"x\", \"x^2\", \"x^3\", \"x^4\", \"y\"]]\n",
    "\n",
    "for degree in range(1, 5):\n",
    "    loocv(sim_data2, degree)"
   ]
  },
  {
   "cell_type": "markdown",
   "metadata": {},
   "source": [
    "The results we get with the random seed set to 2 are different because we changed the seed, so now the y values have different random noise than the random noise seen in part (b.). We can plot the points to see that they are different. This difference is especially noticeable when looking at extreme x-values."
   ]
  },
  {
   "cell_type": "code",
   "execution_count": 162,
   "metadata": {},
   "outputs": [
    {
     "data": {
      "image/png": "[encoded data removed]",
      "text/plain": [
       "<Figure size 640x480 with 1 Axes>"
      ]
     },
     "metadata": {},
     "output_type": "display_data"
    }
   ],
   "source": [
    "fig, ax = plt.subplots()\n",
    "\n",
    "ax = sns.scatterplot(x=x2, y=y2)\n",
    "\n",
    "ax.set_title(\"Quadratic relationship from simulated data, seed = 2\")\n",
    "ax.set_xlabel(\"x\")\n",
    "ax.set_ylabel(\"y\")\n",
    "\n",
    "ax.spines['top'].set_visible(False)\n",
    "ax.spines['right'].set_visible(False)\n",
    "\n",
    "plt.show()"
   ]
  },
  {
   "cell_type": "markdown",
   "metadata": {},
   "source": [
    "When we change the random seed to 2, now the degree 3 model fits the data best, which is not what we expected since the true model is degree 2. The problem is that we only have 100 data points, so those observations could be fit better by a higher order polynomial by chance due to the random noise. \n",
    "\n",
    "Notably, in this case where the seed is 2, the cubic and quadratic models perform about the same, so even though we would pick the wrong model, our predictions should still be similar. So, picking too high a polynomial in this case would not be too consequential."
   ]
  },
  {
   "cell_type": "markdown",
   "metadata": {},
   "source": [
    "#### (e.)\n",
    "In (c.), the model with the lowest LOOCV error was the degree 2 model, which is what we expected since the true model $x - 2x^2 + \\epsilon$ is quadratic. We expected that the quadratic model would have the lowest MSE because it should be able to most accurately predict the test data point because this point is generated according to $x - 2x^2 + \\epsilon$, and the model is trained each iteration on every other data point, which were also generated according to the same process."
   ]
  },
  {
   "cell_type": "markdown",
   "metadata": {},
   "source": [
    "#### (f.)"
   ]
  },
  {
   "cell_type": "code",
   "execution_count": 163,
   "metadata": {},
   "outputs": [
    {
     "name": "stdout",
     "output_type": "stream",
     "text": [
      "Summary for degree 1:\n",
      "                            OLS Regression Results                            \n",
      "==============================================================================\n",
      "Dep. Variable:                      y   R-squared:                       0.318\n",
      "Model:                            OLS   Adj. R-squared:                  0.311\n",
      "Method:                 Least Squares   F-statistic:                     45.60\n",
      "Date:                Mon, 12 Feb 2024   Prob (F-statistic):           1.04e-09\n",
      "Time:                        17:14:26   Log-Likelihood:                -230.83\n",
      "No. Observations:                 100   AIC:                             465.7\n",
      "Df Residuals:                      98   BIC:                             470.9\n",
      "Df Model:                           1                                         \n",
      "Covariance Type:            nonrobust                                         \n",
      "==============================================================================\n",
      "                 coef    std err          t      P>|t|      [0.025      0.975]\n",
      "------------------------------------------------------------------------------\n",
      "const         -1.4650      0.247     -5.937      0.000      -1.955      -0.975\n",
      "x              1.9494      0.289      6.752      0.000       1.376       2.522\n",
      "==============================================================================\n",
      "Omnibus:                       52.788   Durbin-Watson:                   1.972\n",
      "Prob(Omnibus):                  0.000   Jarque-Bera (JB):              149.089\n",
      "Skew:                          -1.953   Prob(JB):                     4.22e-33\n",
      "Kurtosis:                       7.530   Cond. No.                         1.20\n",
      "==============================================================================\n",
      "\n",
      "Notes:\n",
      "[1] Standard Errors assume that the covariance matrix of the errors is correctly specified.\n",
      "\n",
      "Summary for degree 2:\n",
      "                            OLS Regression Results                            \n",
      "==============================================================================\n",
      "Dep. Variable:                      y   R-squared:                       0.887\n",
      "Model:                            OLS   Adj. R-squared:                  0.884\n",
      "Method:                 Least Squares   F-statistic:                     379.5\n",
      "Date:                Mon, 12 Feb 2024   Prob (F-statistic):           1.36e-46\n",
      "Time:                        17:14:26   Log-Likelihood:                -141.06\n",
      "No. Observations:                 100   AIC:                             288.1\n",
      "Df Residuals:                      97   BIC:                             295.9\n",
      "Df Model:                           2                                         \n",
      "Covariance Type:            nonrobust                                         \n",
      "==============================================================================\n",
      "                 coef    std err          t      P>|t|      [0.025      0.975]\n",
      "------------------------------------------------------------------------------\n",
      "const         -0.0728      0.119     -0.611      0.543      -0.309       0.164\n",
      "x              0.9663      0.126      7.647      0.000       0.715       1.217\n",
      "x^2           -2.0047      0.091    -22.072      0.000      -2.185      -1.824\n",
      "==============================================================================\n",
      "Omnibus:                        1.338   Durbin-Watson:                   2.197\n",
      "Prob(Omnibus):                  0.512   Jarque-Bera (JB):                0.814\n",
      "Skew:                           0.119   Prob(JB):                        0.666\n",
      "Kurtosis:                       3.372   Cond. No.                         2.23\n",
      "==============================================================================\n",
      "\n",
      "Notes:\n",
      "[1] Standard Errors assume that the covariance matrix of the errors is correctly specified.\n",
      "\n",
      "Summary for degree 3:\n",
      "                            OLS Regression Results                            \n",
      "==============================================================================\n",
      "Dep. Variable:                      y   R-squared:                       0.888\n",
      "Model:                            OLS   Adj. R-squared:                  0.885\n",
      "Method:                 Least Squares   F-statistic:                     253.8\n",
      "Date:                Mon, 12 Feb 2024   Prob (F-statistic):           1.70e-45\n",
      "Time:                        17:14:26   Log-Likelihood:                -140.47\n",
      "No. Observations:                 100   AIC:                             288.9\n",
      "Df Residuals:                      96   BIC:                             299.4\n",
      "Df Model:                           3                                         \n",
      "Covariance Type:            nonrobust                                         \n",
      "==============================================================================\n",
      "                 coef    std err          t      P>|t|      [0.025      0.975]\n",
      "------------------------------------------------------------------------------\n",
      "const         -0.0572      0.120     -0.477      0.635      -0.295       0.181\n",
      "x              1.1146      0.187      5.945      0.000       0.742       1.487\n",
      "x^2           -2.0471      0.099    -20.673      0.000      -2.244      -1.851\n",
      "x^3           -0.0643      0.060     -1.070      0.287      -0.184       0.055\n",
      "==============================================================================\n",
      "Omnibus:                        0.845   Durbin-Watson:                   2.199\n",
      "Prob(Omnibus):                  0.655   Jarque-Bera (JB):                0.392\n",
      "Skew:                           0.052   Prob(JB):                        0.822\n",
      "Kurtosis:                       3.289   Cond. No.                         5.95\n",
      "==============================================================================\n",
      "\n",
      "Notes:\n",
      "[1] Standard Errors assume that the covariance matrix of the errors is correctly specified.\n",
      "\n",
      "Summary for degree 4:\n",
      "                            OLS Regression Results                            \n",
      "==============================================================================\n",
      "Dep. Variable:                      y   R-squared:                       0.894\n",
      "Model:                            OLS   Adj. R-squared:                  0.890\n",
      "Method:                 Least Squares   F-statistic:                     200.2\n",
      "Date:                Mon, 12 Feb 2024   Prob (F-statistic):           2.22e-45\n",
      "Time:                        17:14:26   Log-Likelihood:                -137.74\n",
      "No. Observations:                 100   AIC:                             285.5\n",
      "Df Residuals:                      95   BIC:                             298.5\n",
      "Df Model:                           4                                         \n",
      "Covariance Type:            nonrobust                                         \n",
      "==============================================================================\n",
      "                 coef    std err          t      P>|t|      [0.025      0.975]\n",
      "------------------------------------------------------------------------------\n",
      "const          0.1008      0.136      0.743      0.460      -0.169       0.370\n",
      "x              0.9050      0.205      4.423      0.000       0.499       1.311\n",
      "x^2           -2.5059      0.221    -11.336      0.000      -2.945      -2.067\n",
      "x^3            0.0338      0.073      0.466      0.642      -0.110       0.178\n",
      "x^4            0.1042      0.045      2.309      0.023       0.015       0.194\n",
      "==============================================================================\n",
      "Omnibus:                        2.476   Durbin-Watson:                   2.163\n",
      "Prob(Omnibus):                  0.290   Jarque-Bera (JB):                2.097\n",
      "Skew:                           0.118   Prob(JB):                        0.351\n",
      "Kurtosis:                       3.669   Cond. No.                         19.9\n",
      "==============================================================================\n",
      "\n",
      "Notes:\n",
      "[1] Standard Errors assume that the covariance matrix of the errors is correctly specified.\n",
      "\n"
     ]
    }
   ],
   "source": [
    "for degree in range(1, 5):\n",
    "    # Select the relevant columns up to the current degree\n",
    "    columns = [\"x\"] + [f\"x^{d}\" for d in range(2, degree + 1)]\n",
    "    \n",
    "    X = sm.add_constant(sim_data[columns])\n",
    "    model_sm = sm.OLS(sim_data[\"y\"], X).fit()\n",
    "\n",
    "    print(f\"Summary for degree {degree}:\\n{model_sm.summary()}\\n\")"
   ]
  },
  {
   "cell_type": "markdown",
   "metadata": {},
   "source": [
    "Looking at the regression results for each model, the linear and quadratic terms are always statistically significant at the 5% level, which is what we expect since the true model is quadratic. When we add the cubic term, it is not statistically signficant, which is also what we expected since it is the wrong functional form to represent the true function. However, the degree 4 term is significant at the 5% level, which normally we would think means that the true degree 4 term is likely non-zero. However, we know that the true function is only degree 2, so the degree 4 model is just overfitting the data. This highlights the importance of using a separate training set and test set so that we can accurately estimate the test error."
   ]
  },
  {
   "cell_type": "markdown",
   "metadata": {},
   "source": [
    "### Chapter 6, Question 11\n",
    "#### (a.)"
   ]
  },
  {
   "cell_type": "code",
   "execution_count": 164,
   "metadata": {},
   "outputs": [],
   "source": [
    "df_boston = pd.read_csv(\"Boston.csv\")\n",
    "\n",
    "np.random.seed(23)\n",
    "\n",
    "X = df_boston.drop(\"CRIM\", axis=1)\n",
    "y = df_boston[\"CRIM\"]"
   ]
  },
  {
   "cell_type": "markdown",
   "metadata": {},
   "source": [
    "#### FSS-AIC"
   ]
  },
  {
   "cell_type": "code",
   "execution_count": 165,
   "metadata": {},
   "outputs": [
    {
     "name": "stdout",
     "output_type": "stream",
     "text": [
      "FSS-AIC\n",
      "Selected Predictors: ['RAD', 'LSTAT', 'B', 'MDEV', 'ZN', 'DIS', 'NOX', 'PTRATIO', 'INDUS', 'TAX', 'RM', 'CHAS', 'AGE']\n",
      "Best AIC: 3339.385162839013\n"
     ]
    }
   ],
   "source": [
    "def forward_selection_aic(predictors, target, p):\n",
    "    selected_predictors = []\n",
    "    best_aic = np.inf\n",
    "    \n",
    "    for i in range(p):\n",
    "        remaining_predictors = [\n",
    "            pr for pr in predictors.columns if pr not in selected_predictors\n",
    "            ]\n",
    "        aic_values = []\n",
    "        \n",
    "        for predictor in remaining_predictors:\n",
    "            current_predictors = selected_predictors + [predictor]\n",
    "            data_with_constant = sm.add_constant(predictors[current_predictors])\n",
    "            model = sm.OLS(target, data_with_constant).fit()\n",
    "            aic_values.append((model.aic, predictor))\n",
    "        \n",
    "        if aic_values:\n",
    "            best_aic, best_predictor = min(aic_values)\n",
    "            selected_predictors.append(best_predictor)\n",
    "        else:\n",
    "            # Handle the case when remaining_predictors is empty\n",
    "            break\n",
    "    \n",
    "    return selected_predictors, best_aic\n",
    "\n",
    "fss_aic_predictors, fss_aic_score = forward_selection_aic(X, y, len(X.columns))\n",
    "\n",
    "print(\"FSS-AIC\")\n",
    "print(\"Selected Predictors:\", fss_aic_predictors)\n",
    "print(\"Best AIC:\", fss_aic_score)"
   ]
  },
  {
   "cell_type": "markdown",
   "metadata": {},
   "source": [
    "#### FSS-5FCV"
   ]
  },
  {
   "cell_type": "code",
   "execution_count": 166,
   "metadata": {},
   "outputs": [
    {
     "name": "stdout",
     "output_type": "stream",
     "text": [
      "Selected features: ['ZN', 'INDUS', 'CHAS', 'NOX', 'DIS', 'RAD', 'PTRATIO', 'B', 'LSTAT', 'MDEV']\n",
      "MSE: 0.3212761482037819\n"
     ]
    }
   ],
   "source": [
    "# Code from lab\n",
    "X_train, X_test, y_train, y_test = train_test_split(\n",
    "    X, y, test_size=0.2, random_state=23\n",
    "    )\n",
    "\n",
    "lr = LinearRegression()\n",
    "\n",
    "sfs = SequentialFeatureSelector(\n",
    "    lr, \n",
    "    k_features=\"best\", \n",
    "    forward=True, #forwards selection\n",
    "    scoring='neg_mean_squared_error', \n",
    "    cv=5\n",
    "    )\n",
    "\n",
    "sfs = sfs.fit(X_train, y_train)\n",
    "\n",
    "selected_features = list(sfs.k_feature_names_)\n",
    "\n",
    "X_train_sfs = sfs.transform(X_train)\n",
    "X_test_sfs = sfs.transform(X_test)\n",
    "\n",
    "lr.fit(X_train_sfs, y_train)\n",
    "\n",
    "y_pred = lr.predict(X_test_sfs)\n",
    "\n",
    "mse_score = lr.score(X_test_sfs, y_test)\n",
    "\n",
    "print('Selected features:', selected_features)\n",
    "print('MSE:', mse_score)"
   ]
  },
  {
   "cell_type": "markdown",
   "metadata": {},
   "source": [
    "#### BSS-AIC"
   ]
  },
  {
   "cell_type": "code",
   "execution_count": 167,
   "metadata": {},
   "outputs": [
    {
     "name": "stdout",
     "output_type": "stream",
     "text": [
      "BSS-AIC\n",
      "Selected Predictors: ['ZN', 'NOX', 'DIS', 'RAD', 'PTRATIO', 'B', 'LSTAT', 'MDEV']\n",
      "Best AIC: 3332.3963017429214\n"
     ]
    }
   ],
   "source": [
    "def backward_selection_aic(predictors, target):\n",
    "    selected_predictors = list(predictors.columns)\n",
    "    best_aic = np.inf\n",
    "    \n",
    "    while len(selected_predictors) > 0:\n",
    "        aic_values = []\n",
    "        \n",
    "        for predictor in selected_predictors:\n",
    "            current_predictors = [\n",
    "                pr for pr in selected_predictors if pr != predictor\n",
    "                ]\n",
    "            data_with_constant = sm.add_constant(\n",
    "                predictors[current_predictors]\n",
    "                )\n",
    "            model = sm.OLS(target, data_with_constant).fit()\n",
    "            aic_values.append((model.aic, predictor))\n",
    "        \n",
    "        if aic_values:\n",
    "            current_aic, worst_predictor = min(aic_values)\n",
    "            if current_aic < best_aic:\n",
    "                best_aic = current_aic\n",
    "                selected_predictors.remove(worst_predictor)\n",
    "            else:\n",
    "                # Can't improve AIC further\n",
    "                break\n",
    "        else:\n",
    "            # No predictors left to consider\n",
    "            break\n",
    "    \n",
    "    return selected_predictors, best_aic\n",
    "\n",
    "bss_aic_predictors, bss_aic_score = backward_selection_aic(X, y)\n",
    "\n",
    "print(\"BSS-AIC\")\n",
    "print(\"Selected Predictors:\", bss_aic_predictors)\n",
    "print(\"Best AIC:\", bss_aic_score)\n"
   ]
  },
  {
   "cell_type": "markdown",
   "metadata": {},
   "source": [
    "#### BSS-5FCV"
   ]
  },
  {
   "cell_type": "code",
   "execution_count": 168,
   "metadata": {},
   "outputs": [
    {
     "name": "stdout",
     "output_type": "stream",
     "text": [
      "Selected features: ['ZN', 'INDUS', 'CHAS', 'NOX', 'DIS', 'RAD', 'PTRATIO', 'B', 'LSTAT', 'MDEV']\n",
      "MSE: 0.3212761482037819\n"
     ]
    }
   ],
   "source": [
    "X_train, X_test, y_train, y_test = train_test_split(\n",
    "    X, y, test_size=0.2, random_state=23\n",
    "    )\n",
    "\n",
    "lr = LinearRegression()\n",
    "\n",
    "sfs = SequentialFeatureSelector(\n",
    "    lr, \n",
    "    k_features='best', \n",
    "    forward=False, # backwards selection\n",
    "    scoring='neg_mean_squared_error', \n",
    "    cv=5\n",
    "    )\n",
    "\n",
    "sfs = sfs.fit(X_train, y_train)\n",
    "\n",
    "selected_features = list(sfs.k_feature_names_)\n",
    "\n",
    "X_train_sfs = sfs.transform(X_train)\n",
    "X_test_sfs = sfs.transform(X_test)\n",
    "\n",
    "lr.fit(X_train_sfs, y_train)\n",
    "\n",
    "y_pred = lr.predict(X_test_sfs)\n",
    "\n",
    "mse_score = lr.score(X_test_sfs, y_test)\n",
    "\n",
    "print('Selected features:', selected_features)\n",
    "print('MSE:', mse_score)\n"
   ]
  },
  {
   "cell_type": "markdown",
   "metadata": {},
   "source": [
    "#### (b.)"
   ]
  },
  {
   "cell_type": "markdown",
   "metadata": {},
   "source": [
    "Using AIC to estimate the test error, the best model we found was using backwards stepwise selection since that model had the lower AIC value of about 3332 compared with the AIC from the model selected using forward stepwise selection, which was about 3339. The BSS model included only 8 of the predictors, while the FSS model included all 13. This is because FSS cannot remove predictors, even if one is no longer predictive once other features have been added, so it will keep adding as long as AIC decreases. BSS, on the other hand, is focused on removing irrelevant features, so it gave a model with fewer features, which happened to be better according to its AIC score.\n",
    "\n",
    "Using 5FCV to estimate the test error, we get the same model regardless of whether forwards stepwise selection or backwards stepwise selection is chosen, and both include 10 predictors. This suggests that there is not too much collinearity among the variables since both algorithms can figure out which variables are the best predictors regardless of the direction the variables are selected.\n",
    "\n",
    "I think the model I would choose would be the one with ten predictors selected by both FSS- and BSS-5FCV since this model was directly evaluated on a test set, while the models evaluated using AIC were only indirectly evaluated using AIC's mathematical adjustment approach. This means that we can expect 5FCV to give us a more accurate estimate of the test error of each model. "
   ]
  },
  {
   "cell_type": "markdown",
   "metadata": {},
   "source": [
    "#### (c.)"
   ]
  },
  {
   "cell_type": "markdown",
   "metadata": {},
   "source": [
    "Only the model selected by FSS-AIC selected all of the predictors. This is likely because variables cannot be removed under the FSS algorithm, even if the variable stops being predictive once other variables are added. As long as AIC keeps decreasing, the algorithm will keep adding variables until there aren't any left to add. \n",
    "\n",
    "The model selected by BSS-AIC had the fewest variables at only eight. This may be because the BSS algorithm removes irrelevant features, so there were several irrelevant features it could remove. However, it seems to have removed too many compared with the 5FCV selected models, likely because AIC can only estimate the test error, so it removed some only slightly predictive features that are marginally useful to have in the model.\n",
    "\n",
    "Lastly, the models selected by FSS- and BSS-5FCV have the same ten predictors, likely because the predictors are not too correlated with each other, so the algorithms can separate the predictive variables from the irrelevant variables using either direction. Additionally, these models likely have an intermediate number of predictors compared with the models selected by AIC because the 5FCV models can directly evaluate the test error of each model, while AIC can only indirectly measure the test error, so it's estimates will be a little off."
   ]
  },
  {
   "cell_type": "markdown",
   "metadata": {},
   "source": []
  }
 ],
 "metadata": {
  "kernelspec": {
   "display_name": "base",
   "language": "python",
   "name": "python3"
  },
  "language_info": {
   "codemirror_mode": {
    "name": "ipython",
    "version": 3
   },
   "file_extension": ".py",
   "mimetype": "text/x-python",
   "name": "python",
   "nbconvert_exporter": "python",
   "pygments_lexer": "ipython3",
   "version": "3.10.9"
  }
 },
 "nbformat": 4,
 "nbformat_minor": 2
}
