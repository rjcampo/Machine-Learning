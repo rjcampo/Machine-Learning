{
 "cells": [
  {
   "cell_type": "markdown",
   "metadata": {},
   "source": [
    "# 1. Obtaining data from the Internet"
   ]
  },
  {
   "cell_type": "markdown",
   "metadata": {},
   "source": [
    "### First, navigate to the IPUMS USA website: https://usa.ipums.org/usa/index.shtml.\n",
    "\n",
    "Today, the dataset has been obtained for you. But you will get experience searching and downloading data from IPUMS in the Mini Project 1 (part 2). "
   ]
  },
  {
   "cell_type": "code",
   "execution_count": 8,
   "metadata": {},
   "outputs": [],
   "source": [
    "# Import required libraries\n",
    "import numpy as np\n",
    "import pandas as pd\n",
    "\n",
    "# Display all columns in pandas\n",
    "pd.set_option('display.max_columns', None)"
   ]
  },
  {
   "cell_type": "markdown",
   "metadata": {},
   "source": [
    "# 2. Preparing and Cleaning that data"
   ]
  },
  {
   "cell_type": "code",
   "execution_count": 9,
   "metadata": {},
   "outputs": [
    {
     "data": {
      "text/html": [
       "<div>\n",
       "<style scoped>\n",
       "    .dataframe tbody tr th:only-of-type {\n",
       "        vertical-align: middle;\n",
       "    }\n",
       "\n",
       "    .dataframe tbody tr th {\n",
       "        vertical-align: top;\n",
       "    }\n",
       "\n",
       "    .dataframe thead th {\n",
       "        text-align: right;\n",
       "    }\n",
       "</style>\n",
       "<table border=\"1\" class=\"dataframe\">\n",
       "  <thead>\n",
       "    <tr style=\"text-align: right;\">\n",
       "      <th></th>\n",
       "      <th>YEAR</th>\n",
       "      <th>SAMPLE</th>\n",
       "      <th>SERIAL</th>\n",
       "      <th>CBSERIAL</th>\n",
       "      <th>HHWT</th>\n",
       "      <th>CLUSTER</th>\n",
       "      <th>STRATA</th>\n",
       "      <th>GQ</th>\n",
       "      <th>PERNUM</th>\n",
       "      <th>PERWT</th>\n",
       "      <th>NCHILD</th>\n",
       "      <th>NCHLT5</th>\n",
       "      <th>SEX</th>\n",
       "      <th>AGE</th>\n",
       "      <th>MARST</th>\n",
       "      <th>RACE</th>\n",
       "      <th>RACED</th>\n",
       "      <th>HISPAN</th>\n",
       "      <th>HISPAND</th>\n",
       "      <th>EDUC</th>\n",
       "      <th>EDUCD</th>\n",
       "      <th>EMPSTAT</th>\n",
       "      <th>EMPSTATD</th>\n",
       "      <th>INCWAGE</th>\n",
       "      <th>VETSTAT</th>\n",
       "      <th>VETSTATD</th>\n",
       "    </tr>\n",
       "  </thead>\n",
       "  <tbody>\n",
       "    <tr>\n",
       "      <th>0</th>\n",
       "      <td>2019</td>\n",
       "      <td>201901</td>\n",
       "      <td>658</td>\n",
       "      <td>2019010040132</td>\n",
       "      <td>3096.0</td>\n",
       "      <td>2019000006581</td>\n",
       "      <td>200001</td>\n",
       "      <td>4</td>\n",
       "      <td>1</td>\n",
       "      <td>3096.0</td>\n",
       "      <td>0</td>\n",
       "      <td>0</td>\n",
       "      <td>1</td>\n",
       "      <td>49</td>\n",
       "      <td>6</td>\n",
       "      <td>1</td>\n",
       "      <td>100</td>\n",
       "      <td>0</td>\n",
       "      <td>0</td>\n",
       "      <td>2</td>\n",
       "      <td>26</td>\n",
       "      <td>1</td>\n",
       "      <td>10</td>\n",
       "      <td>1700</td>\n",
       "      <td>1</td>\n",
       "      <td>11</td>\n",
       "    </tr>\n",
       "    <tr>\n",
       "      <th>1</th>\n",
       "      <td>2019</td>\n",
       "      <td>201901</td>\n",
       "      <td>968</td>\n",
       "      <td>2019010060553</td>\n",
       "      <td>13312.8</td>\n",
       "      <td>2019000009681</td>\n",
       "      <td>270201</td>\n",
       "      <td>4</td>\n",
       "      <td>1</td>\n",
       "      <td>13312.8</td>\n",
       "      <td>0</td>\n",
       "      <td>0</td>\n",
       "      <td>1</td>\n",
       "      <td>21</td>\n",
       "      <td>6</td>\n",
       "      <td>2</td>\n",
       "      <td>200</td>\n",
       "      <td>0</td>\n",
       "      <td>0</td>\n",
       "      <td>7</td>\n",
       "      <td>71</td>\n",
       "      <td>1</td>\n",
       "      <td>10</td>\n",
       "      <td>12200</td>\n",
       "      <td>1</td>\n",
       "      <td>11</td>\n",
       "    </tr>\n",
       "    <tr>\n",
       "      <th>2</th>\n",
       "      <td>2019</td>\n",
       "      <td>201901</td>\n",
       "      <td>2516</td>\n",
       "      <td>2019000008356</td>\n",
       "      <td>13312.8</td>\n",
       "      <td>2019000025161</td>\n",
       "      <td>240001</td>\n",
       "      <td>1</td>\n",
       "      <td>2</td>\n",
       "      <td>12384.0</td>\n",
       "      <td>2</td>\n",
       "      <td>2</td>\n",
       "      <td>1</td>\n",
       "      <td>26</td>\n",
       "      <td>6</td>\n",
       "      <td>1</td>\n",
       "      <td>100</td>\n",
       "      <td>4</td>\n",
       "      <td>416</td>\n",
       "      <td>6</td>\n",
       "      <td>63</td>\n",
       "      <td>1</td>\n",
       "      <td>10</td>\n",
       "      <td>40000</td>\n",
       "      <td>1</td>\n",
       "      <td>11</td>\n",
       "    </tr>\n",
       "    <tr>\n",
       "      <th>3</th>\n",
       "      <td>2019</td>\n",
       "      <td>201901</td>\n",
       "      <td>2670</td>\n",
       "      <td>2019000020711</td>\n",
       "      <td>11300.4</td>\n",
       "      <td>2019000026701</td>\n",
       "      <td>100001</td>\n",
       "      <td>1</td>\n",
       "      <td>2</td>\n",
       "      <td>23529.6</td>\n",
       "      <td>0</td>\n",
       "      <td>0</td>\n",
       "      <td>1</td>\n",
       "      <td>36</td>\n",
       "      <td>6</td>\n",
       "      <td>1</td>\n",
       "      <td>100</td>\n",
       "      <td>0</td>\n",
       "      <td>0</td>\n",
       "      <td>4</td>\n",
       "      <td>40</td>\n",
       "      <td>1</td>\n",
       "      <td>10</td>\n",
       "      <td>30000</td>\n",
       "      <td>1</td>\n",
       "      <td>11</td>\n",
       "    </tr>\n",
       "    <tr>\n",
       "      <th>4</th>\n",
       "      <td>2019</td>\n",
       "      <td>201901</td>\n",
       "      <td>2670</td>\n",
       "      <td>2019000020711</td>\n",
       "      <td>11300.4</td>\n",
       "      <td>2019000026701</td>\n",
       "      <td>100001</td>\n",
       "      <td>1</td>\n",
       "      <td>3</td>\n",
       "      <td>23374.8</td>\n",
       "      <td>0</td>\n",
       "      <td>0</td>\n",
       "      <td>1</td>\n",
       "      <td>35</td>\n",
       "      <td>6</td>\n",
       "      <td>1</td>\n",
       "      <td>100</td>\n",
       "      <td>0</td>\n",
       "      <td>0</td>\n",
       "      <td>4</td>\n",
       "      <td>40</td>\n",
       "      <td>1</td>\n",
       "      <td>10</td>\n",
       "      <td>18200</td>\n",
       "      <td>1</td>\n",
       "      <td>11</td>\n",
       "    </tr>\n",
       "  </tbody>\n",
       "</table>\n",
       "</div>"
      ],
      "text/plain": [
       "   YEAR  SAMPLE  SERIAL       CBSERIAL     HHWT        CLUSTER  STRATA  GQ  \\\n",
       "0  2019  201901     658  2019010040132   3096.0  2019000006581  200001   4   \n",
       "1  2019  201901     968  2019010060553  13312.8  2019000009681  270201   4   \n",
       "2  2019  201901    2516  2019000008356  13312.8  2019000025161  240001   1   \n",
       "3  2019  201901    2670  2019000020711  11300.4  2019000026701  100001   1   \n",
       "4  2019  201901    2670  2019000020711  11300.4  2019000026701  100001   1   \n",
       "\n",
       "   PERNUM    PERWT  NCHILD  NCHLT5  SEX  AGE  MARST  RACE  RACED  HISPAN  \\\n",
       "0       1   3096.0       0       0    1   49      6     1    100       0   \n",
       "1       1  13312.8       0       0    1   21      6     2    200       0   \n",
       "2       2  12384.0       2       2    1   26      6     1    100       4   \n",
       "3       2  23529.6       0       0    1   36      6     1    100       0   \n",
       "4       3  23374.8       0       0    1   35      6     1    100       0   \n",
       "\n",
       "   HISPAND  EDUC  EDUCD  EMPSTAT  EMPSTATD  INCWAGE  VETSTAT  VETSTATD  \n",
       "0        0     2     26        1        10     1700        1        11  \n",
       "1        0     7     71        1        10    12200        1        11  \n",
       "2      416     6     63        1        10    40000        1        11  \n",
       "3        0     4     40        1        10    30000        1        11  \n",
       "4        0     4     40        1        10    18200        1        11  "
      ]
     },
     "execution_count": 9,
     "metadata": {},
     "output_type": "execute_result"
    }
   ],
   "source": [
    "# Load the data\n",
    "acs_data = pd.read_csv('usa_00001.csv')\n",
    "acs_data.head()"
   ]
  },
  {
   "cell_type": "markdown",
   "metadata": {},
   "source": [
    "## Using a Crosswalk dataframe - Converting EDUCD to continuous"
   ]
  },
  {
   "cell_type": "markdown",
   "metadata": {},
   "source": [
    "### a) Education - EDUCD is a categorical measurement of education. For some of our analysis, we need a continuous variable. Use the original EDUCD variable and the crosswalk to create a continuous measure of education called EDUCDC"
   ]
  },
  {
   "cell_type": "markdown",
   "metadata": {},
   "source": [
    "_Question: Can we intuitively explain the difference between a categorical measurement for education vs. a continuous one? (i.e. what is the real-world mean of these two types of data to describe education?)_"
   ]
  },
  {
   "cell_type": "code",
   "execution_count": 10,
   "metadata": {},
   "outputs": [
    {
     "data": {
      "text/plain": [
       "array([ 26,  71,  63,  40, 114,  81,  30,  25,  64, 101,  65,  50,   2,\n",
       "       115, 116,  61,  22,  23,  15,  17,  16,  14,  12,  11], dtype=int64)"
      ]
     },
     "execution_count": 10,
     "metadata": {},
     "output_type": "execute_result"
    }
   ],
   "source": [
    "# Check unique values of EDUCD in the original data\n",
    "acs_data['EDUCD'].unique()"
   ]
  },
  {
   "cell_type": "code",
   "execution_count": 11,
   "metadata": {},
   "outputs": [
    {
     "data": {
      "text/html": [
       "<div>\n",
       "<style scoped>\n",
       "    .dataframe tbody tr th:only-of-type {\n",
       "        vertical-align: middle;\n",
       "    }\n",
       "\n",
       "    .dataframe tbody tr th {\n",
       "        vertical-align: top;\n",
       "    }\n",
       "\n",
       "    .dataframe thead th {\n",
       "        text-align: right;\n",
       "    }\n",
       "</style>\n",
       "<table border=\"1\" class=\"dataframe\">\n",
       "  <thead>\n",
       "    <tr style=\"text-align: right;\">\n",
       "      <th></th>\n",
       "      <th>educd</th>\n",
       "      <th>educdc</th>\n",
       "    </tr>\n",
       "  </thead>\n",
       "  <tbody>\n",
       "    <tr>\n",
       "      <th>0</th>\n",
       "      <td>2</td>\n",
       "      <td>0.0</td>\n",
       "    </tr>\n",
       "    <tr>\n",
       "      <th>1</th>\n",
       "      <td>10</td>\n",
       "      <td>0.0</td>\n",
       "    </tr>\n",
       "    <tr>\n",
       "      <th>2</th>\n",
       "      <td>11</td>\n",
       "      <td>2.0</td>\n",
       "    </tr>\n",
       "    <tr>\n",
       "      <th>3</th>\n",
       "      <td>12</td>\n",
       "      <td>0.0</td>\n",
       "    </tr>\n",
       "    <tr>\n",
       "      <th>4</th>\n",
       "      <td>13</td>\n",
       "      <td>2.5</td>\n",
       "    </tr>\n",
       "    <tr>\n",
       "      <th>5</th>\n",
       "      <td>14</td>\n",
       "      <td>1.0</td>\n",
       "    </tr>\n",
       "    <tr>\n",
       "      <th>6</th>\n",
       "      <td>15</td>\n",
       "      <td>2.0</td>\n",
       "    </tr>\n",
       "    <tr>\n",
       "      <th>7</th>\n",
       "      <td>16</td>\n",
       "      <td>3.0</td>\n",
       "    </tr>\n",
       "    <tr>\n",
       "      <th>8</th>\n",
       "      <td>17</td>\n",
       "      <td>4.0</td>\n",
       "    </tr>\n",
       "    <tr>\n",
       "      <th>9</th>\n",
       "      <td>20</td>\n",
       "      <td>6.5</td>\n",
       "    </tr>\n",
       "  </tbody>\n",
       "</table>\n",
       "</div>"
      ],
      "text/plain": [
       "   educd  educdc\n",
       "0      2     0.0\n",
       "1     10     0.0\n",
       "2     11     2.0\n",
       "3     12     0.0\n",
       "4     13     2.5\n",
       "5     14     1.0\n",
       "6     15     2.0\n",
       "7     16     3.0\n",
       "8     17     4.0\n",
       "9     20     6.5"
      ]
     },
     "execution_count": 11,
     "metadata": {},
     "output_type": "execute_result"
    }
   ],
   "source": [
    "# read in crosswalk data\n",
    "crosswalk = pd.read_csv('Education-Crosswalk.csv')\n",
    "crosswalk.head(10)"
   ]
  },
  {
   "cell_type": "code",
   "execution_count": 12,
   "metadata": {},
   "outputs": [
    {
     "data": {
      "text/plain": [
       "array([  2,  10,  11,  12,  13,  14,  15,  16,  17,  20,  21,  22,  23,\n",
       "        24,  25,  26,  30,  40,  50,  61,  62,  63,  64,  65,  70,  71,\n",
       "        80,  81,  82,  83,  90, 100, 101, 110, 111, 112, 113, 114, 115,\n",
       "       116], dtype=int64)"
      ]
     },
     "execution_count": 12,
     "metadata": {},
     "output_type": "execute_result"
    }
   ],
   "source": [
    "# Check unique values of educd in the crosswalk data\n",
    "crosswalk['educd'].unique()"
   ]
  },
  {
   "cell_type": "markdown",
   "metadata": {},
   "source": [
    "_Question: What do we notice about the Crosswalk data, and how can we use it to help us with education in the acs data?_"
   ]
  },
  {
   "cell_type": "markdown",
   "metadata": {},
   "source": [
    "In order to match the 'educd' variable in the crosswalk to the 'EDUCD' variable in the acs data, we need them to have the same name. "
   ]
  },
  {
   "cell_type": "code",
   "execution_count": 13,
   "metadata": {},
   "outputs": [
    {
     "data": {
      "text/html": [
       "<div>\n",
       "<style scoped>\n",
       "    .dataframe tbody tr th:only-of-type {\n",
       "        vertical-align: middle;\n",
       "    }\n",
       "\n",
       "    .dataframe tbody tr th {\n",
       "        vertical-align: top;\n",
       "    }\n",
       "\n",
       "    .dataframe thead th {\n",
       "        text-align: right;\n",
       "    }\n",
       "</style>\n",
       "<table border=\"1\" class=\"dataframe\">\n",
       "  <thead>\n",
       "    <tr style=\"text-align: right;\">\n",
       "      <th></th>\n",
       "      <th>EDUCD</th>\n",
       "      <th>EDUCDC</th>\n",
       "    </tr>\n",
       "  </thead>\n",
       "  <tbody>\n",
       "    <tr>\n",
       "      <th>0</th>\n",
       "      <td>2</td>\n",
       "      <td>0.0</td>\n",
       "    </tr>\n",
       "    <tr>\n",
       "      <th>1</th>\n",
       "      <td>10</td>\n",
       "      <td>0.0</td>\n",
       "    </tr>\n",
       "    <tr>\n",
       "      <th>2</th>\n",
       "      <td>11</td>\n",
       "      <td>2.0</td>\n",
       "    </tr>\n",
       "    <tr>\n",
       "      <th>3</th>\n",
       "      <td>12</td>\n",
       "      <td>0.0</td>\n",
       "    </tr>\n",
       "    <tr>\n",
       "      <th>4</th>\n",
       "      <td>13</td>\n",
       "      <td>2.5</td>\n",
       "    </tr>\n",
       "    <tr>\n",
       "      <th>5</th>\n",
       "      <td>14</td>\n",
       "      <td>1.0</td>\n",
       "    </tr>\n",
       "    <tr>\n",
       "      <th>6</th>\n",
       "      <td>15</td>\n",
       "      <td>2.0</td>\n",
       "    </tr>\n",
       "    <tr>\n",
       "      <th>7</th>\n",
       "      <td>16</td>\n",
       "      <td>3.0</td>\n",
       "    </tr>\n",
       "    <tr>\n",
       "      <th>8</th>\n",
       "      <td>17</td>\n",
       "      <td>4.0</td>\n",
       "    </tr>\n",
       "    <tr>\n",
       "      <th>9</th>\n",
       "      <td>20</td>\n",
       "      <td>6.5</td>\n",
       "    </tr>\n",
       "  </tbody>\n",
       "</table>\n",
       "</div>"
      ],
      "text/plain": [
       "   EDUCD  EDUCDC\n",
       "0      2     0.0\n",
       "1     10     0.0\n",
       "2     11     2.0\n",
       "3     12     0.0\n",
       "4     13     2.5\n",
       "5     14     1.0\n",
       "6     15     2.0\n",
       "7     16     3.0\n",
       "8     17     4.0\n",
       "9     20     6.5"
      ]
     },
     "execution_count": 13,
     "metadata": {},
     "output_type": "execute_result"
    }
   ],
   "source": [
    "# Capitalize the column names in the crosswalk \n",
    "crosswalk = crosswalk.rename(columns={'educd': 'EDUCD', 'educdc': 'EDUCDC'})\n",
    "crosswalk.head(10)"
   ]
  },
  {
   "cell_type": "code",
   "execution_count": 14,
   "metadata": {},
   "outputs": [],
   "source": [
    "# map the matching values of EDUCD between the two dataframes (i.e. merge on EDUCD)\n",
    "acs_data = acs_data.merge(crosswalk, on='EDUCD')"
   ]
  },
  {
   "cell_type": "code",
   "execution_count": 15,
   "metadata": {},
   "outputs": [
    {
     "data": {
      "text/html": [
       "<div>\n",
       "<style scoped>\n",
       "    .dataframe tbody tr th:only-of-type {\n",
       "        vertical-align: middle;\n",
       "    }\n",
       "\n",
       "    .dataframe tbody tr th {\n",
       "        vertical-align: top;\n",
       "    }\n",
       "\n",
       "    .dataframe thead th {\n",
       "        text-align: right;\n",
       "    }\n",
       "</style>\n",
       "<table border=\"1\" class=\"dataframe\">\n",
       "  <thead>\n",
       "    <tr style=\"text-align: right;\">\n",
       "      <th></th>\n",
       "      <th>YEAR</th>\n",
       "      <th>SAMPLE</th>\n",
       "      <th>SERIAL</th>\n",
       "      <th>CBSERIAL</th>\n",
       "      <th>HHWT</th>\n",
       "      <th>CLUSTER</th>\n",
       "      <th>STRATA</th>\n",
       "      <th>GQ</th>\n",
       "      <th>PERNUM</th>\n",
       "      <th>PERWT</th>\n",
       "      <th>NCHILD</th>\n",
       "      <th>NCHLT5</th>\n",
       "      <th>SEX</th>\n",
       "      <th>AGE</th>\n",
       "      <th>MARST</th>\n",
       "      <th>RACE</th>\n",
       "      <th>RACED</th>\n",
       "      <th>HISPAN</th>\n",
       "      <th>HISPAND</th>\n",
       "      <th>EDUC</th>\n",
       "      <th>EDUCD</th>\n",
       "      <th>EMPSTAT</th>\n",
       "      <th>EMPSTATD</th>\n",
       "      <th>INCWAGE</th>\n",
       "      <th>VETSTAT</th>\n",
       "      <th>VETSTATD</th>\n",
       "      <th>EDUCDC</th>\n",
       "    </tr>\n",
       "  </thead>\n",
       "  <tbody>\n",
       "    <tr>\n",
       "      <th>0</th>\n",
       "      <td>2019</td>\n",
       "      <td>201901</td>\n",
       "      <td>658</td>\n",
       "      <td>2019010040132</td>\n",
       "      <td>3096.0</td>\n",
       "      <td>2019000006581</td>\n",
       "      <td>200001</td>\n",
       "      <td>4</td>\n",
       "      <td>1</td>\n",
       "      <td>3096.0</td>\n",
       "      <td>0</td>\n",
       "      <td>0</td>\n",
       "      <td>1</td>\n",
       "      <td>49</td>\n",
       "      <td>6</td>\n",
       "      <td>1</td>\n",
       "      <td>100</td>\n",
       "      <td>0</td>\n",
       "      <td>0</td>\n",
       "      <td>2</td>\n",
       "      <td>26</td>\n",
       "      <td>1</td>\n",
       "      <td>10</td>\n",
       "      <td>1700</td>\n",
       "      <td>1</td>\n",
       "      <td>11</td>\n",
       "      <td>8.0</td>\n",
       "    </tr>\n",
       "    <tr>\n",
       "      <th>1</th>\n",
       "      <td>2019</td>\n",
       "      <td>201901</td>\n",
       "      <td>18460</td>\n",
       "      <td>2019001119914</td>\n",
       "      <td>17647.2</td>\n",
       "      <td>2019000184601</td>\n",
       "      <td>50001</td>\n",
       "      <td>1</td>\n",
       "      <td>1</td>\n",
       "      <td>17647.2</td>\n",
       "      <td>0</td>\n",
       "      <td>0</td>\n",
       "      <td>2</td>\n",
       "      <td>51</td>\n",
       "      <td>5</td>\n",
       "      <td>1</td>\n",
       "      <td>100</td>\n",
       "      <td>0</td>\n",
       "      <td>0</td>\n",
       "      <td>2</td>\n",
       "      <td>26</td>\n",
       "      <td>1</td>\n",
       "      <td>10</td>\n",
       "      <td>15000</td>\n",
       "      <td>1</td>\n",
       "      <td>11</td>\n",
       "      <td>8.0</td>\n",
       "    </tr>\n",
       "    <tr>\n",
       "      <th>2</th>\n",
       "      <td>2019</td>\n",
       "      <td>201901</td>\n",
       "      <td>48646</td>\n",
       "      <td>2019001015243</td>\n",
       "      <td>9288.0</td>\n",
       "      <td>2019000486461</td>\n",
       "      <td>80504</td>\n",
       "      <td>2</td>\n",
       "      <td>3</td>\n",
       "      <td>12848.4</td>\n",
       "      <td>0</td>\n",
       "      <td>0</td>\n",
       "      <td>1</td>\n",
       "      <td>21</td>\n",
       "      <td>6</td>\n",
       "      <td>7</td>\n",
       "      <td>700</td>\n",
       "      <td>1</td>\n",
       "      <td>100</td>\n",
       "      <td>2</td>\n",
       "      <td>26</td>\n",
       "      <td>1</td>\n",
       "      <td>10</td>\n",
       "      <td>14000</td>\n",
       "      <td>1</td>\n",
       "      <td>11</td>\n",
       "      <td>8.0</td>\n",
       "    </tr>\n",
       "    <tr>\n",
       "      <th>3</th>\n",
       "      <td>2019</td>\n",
       "      <td>201901</td>\n",
       "      <td>102981</td>\n",
       "      <td>2019000172057</td>\n",
       "      <td>25696.8</td>\n",
       "      <td>2019001029811</td>\n",
       "      <td>371206</td>\n",
       "      <td>1</td>\n",
       "      <td>1</td>\n",
       "      <td>25542.0</td>\n",
       "      <td>0</td>\n",
       "      <td>0</td>\n",
       "      <td>2</td>\n",
       "      <td>40</td>\n",
       "      <td>4</td>\n",
       "      <td>7</td>\n",
       "      <td>700</td>\n",
       "      <td>4</td>\n",
       "      <td>416</td>\n",
       "      <td>2</td>\n",
       "      <td>26</td>\n",
       "      <td>1</td>\n",
       "      <td>10</td>\n",
       "      <td>0</td>\n",
       "      <td>1</td>\n",
       "      <td>11</td>\n",
       "      <td>8.0</td>\n",
       "    </tr>\n",
       "    <tr>\n",
       "      <th>4</th>\n",
       "      <td>2019</td>\n",
       "      <td>201901</td>\n",
       "      <td>115520</td>\n",
       "      <td>2019000302438</td>\n",
       "      <td>13158.0</td>\n",
       "      <td>2019001155201</td>\n",
       "      <td>730206</td>\n",
       "      <td>1</td>\n",
       "      <td>1</td>\n",
       "      <td>13158.0</td>\n",
       "      <td>1</td>\n",
       "      <td>0</td>\n",
       "      <td>1</td>\n",
       "      <td>50</td>\n",
       "      <td>1</td>\n",
       "      <td>1</td>\n",
       "      <td>100</td>\n",
       "      <td>1</td>\n",
       "      <td>100</td>\n",
       "      <td>2</td>\n",
       "      <td>26</td>\n",
       "      <td>1</td>\n",
       "      <td>10</td>\n",
       "      <td>37500</td>\n",
       "      <td>1</td>\n",
       "      <td>11</td>\n",
       "      <td>8.0</td>\n",
       "    </tr>\n",
       "  </tbody>\n",
       "</table>\n",
       "</div>"
      ],
      "text/plain": [
       "   YEAR  SAMPLE  SERIAL       CBSERIAL     HHWT        CLUSTER  STRATA  GQ  \\\n",
       "0  2019  201901     658  2019010040132   3096.0  2019000006581  200001   4   \n",
       "1  2019  201901   18460  2019001119914  17647.2  2019000184601   50001   1   \n",
       "2  2019  201901   48646  2019001015243   9288.0  2019000486461   80504   2   \n",
       "3  2019  201901  102981  2019000172057  25696.8  2019001029811  371206   1   \n",
       "4  2019  201901  115520  2019000302438  13158.0  2019001155201  730206   1   \n",
       "\n",
       "   PERNUM    PERWT  NCHILD  NCHLT5  SEX  AGE  MARST  RACE  RACED  HISPAN  \\\n",
       "0       1   3096.0       0       0    1   49      6     1    100       0   \n",
       "1       1  17647.2       0       0    2   51      5     1    100       0   \n",
       "2       3  12848.4       0       0    1   21      6     7    700       1   \n",
       "3       1  25542.0       0       0    2   40      4     7    700       4   \n",
       "4       1  13158.0       1       0    1   50      1     1    100       1   \n",
       "\n",
       "   HISPAND  EDUC  EDUCD  EMPSTAT  EMPSTATD  INCWAGE  VETSTAT  VETSTATD  EDUCDC  \n",
       "0        0     2     26        1        10     1700        1        11     8.0  \n",
       "1        0     2     26        1        10    15000        1        11     8.0  \n",
       "2      100     2     26        1        10    14000        1        11     8.0  \n",
       "3      416     2     26        1        10        0        1        11     8.0  \n",
       "4      100     2     26        1        10    37500        1        11     8.0  "
      ]
     },
     "execution_count": 15,
     "metadata": {},
     "output_type": "execute_result"
    }
   ],
   "source": [
    "# check the data for our changes - the new continuous variable will be found at the end \n",
    "acs_data.head()"
   ]
  },
  {
   "cell_type": "markdown",
   "metadata": {},
   "source": [
    "## Create dummy variables - Convert VETSTAT, RACE, and MARST to dummy"
   ]
  },
  {
   "cell_type": "markdown",
   "metadata": {},
   "source": [
    "### b) Veteran Status - Create a dummy variable, VET, equal to 1 if the individual is a veteran."
   ]
  },
  {
   "cell_type": "code",
   "execution_count": 16,
   "metadata": {},
   "outputs": [
    {
     "data": {
      "text/plain": [
       "array([1, 2], dtype=int64)"
      ]
     },
     "execution_count": 16,
     "metadata": {},
     "output_type": "execute_result"
    }
   ],
   "source": [
    "# Check the unqique values\n",
    "acs_data['VETSTAT'].unique()\n",
    "# 2 means a vet, 1 means not"
   ]
  },
  {
   "cell_type": "code",
   "execution_count": 17,
   "metadata": {},
   "outputs": [],
   "source": [
    "# creating a new dummy variable \"VET\" in the data\n",
    "acs_data['VET'] = np.where(acs_data['VETSTAT'] == 2, 1, 0)"
   ]
  },
  {
   "cell_type": "markdown",
   "metadata": {},
   "source": [
    "VET == 1 if the individual is a vet.\n",
    "\n",
    "VET == 0 if the individual is not a vet."
   ]
  },
  {
   "cell_type": "markdown",
   "metadata": {},
   "source": [
    "### c) Race - Create dummy variables, WHITE and BLACK, from the RACE variable"
   ]
  },
  {
   "cell_type": "markdown",
   "metadata": {},
   "source": [
    "In the original data, RACE == 1 when the individual is White, and RACE == 2 when the individual is Black. Create two new dummy variables WHITE and BLACK using this information."
   ]
  },
  {
   "cell_type": "code",
   "execution_count": 18,
   "metadata": {},
   "outputs": [],
   "source": [
    "# creating two new dummy variables \"WHITE\"and \"BLACK\" in the data\n",
    "acs_data['WHITE'] = np.where(acs_data['RACE'] == 1, 1, 0)\n",
    "acs_data['BLACK'] = np.where(acs_data['RACE'] == 2, 1, 0)"
   ]
  },
  {
   "cell_type": "markdown",
   "metadata": {},
   "source": [
    "WHITE == 1 if the individual is White, 0 otherwise.\n",
    "\n",
    "BLACK == 1 if the individual is Black, 0 otherwise."
   ]
  },
  {
   "cell_type": "markdown",
   "metadata": {},
   "source": [
    "### d) Marital Status - Create a dummy variable, MAR, equal to 1 if the person is married."
   ]
  },
  {
   "cell_type": "code",
   "execution_count": 19,
   "metadata": {},
   "outputs": [
    {
     "data": {
      "text/plain": [
       "array([6, 5, 4, 1, 3, 2], dtype=int64)"
      ]
     },
     "execution_count": 19,
     "metadata": {},
     "output_type": "execute_result"
    }
   ],
   "source": [
    "# Check the unqique values\n",
    "acs_data['MARST'].unique()\n",
    "# MARST = 1, 2 implies married.  "
   ]
  },
  {
   "cell_type": "code",
   "execution_count": 20,
   "metadata": {},
   "outputs": [],
   "source": [
    "# creating new dummy variable \"MAR\" in the data\n",
    "acs_data['MAR'] = np.where(\n",
    "    (acs_data['MARST'] == 1) | (acs_data['MARST'] == 2),\n",
    "    1,\n",
    "    0\n",
    ")"
   ]
  },
  {
   "cell_type": "markdown",
   "metadata": {},
   "source": [
    "MAR == 1 if married.\n",
    "\n",
    "\n",
    "MAR == 0 if not married."
   ]
  },
  {
   "cell_type": "code",
   "execution_count": 21,
   "metadata": {},
   "outputs": [
    {
     "data": {
      "text/html": [
       "<div>\n",
       "<style scoped>\n",
       "    .dataframe tbody tr th:only-of-type {\n",
       "        vertical-align: middle;\n",
       "    }\n",
       "\n",
       "    .dataframe tbody tr th {\n",
       "        vertical-align: top;\n",
       "    }\n",
       "\n",
       "    .dataframe thead th {\n",
       "        text-align: right;\n",
       "    }\n",
       "</style>\n",
       "<table border=\"1\" class=\"dataframe\">\n",
       "  <thead>\n",
       "    <tr style=\"text-align: right;\">\n",
       "      <th></th>\n",
       "      <th>YEAR</th>\n",
       "      <th>SAMPLE</th>\n",
       "      <th>SERIAL</th>\n",
       "      <th>CBSERIAL</th>\n",
       "      <th>HHWT</th>\n",
       "      <th>CLUSTER</th>\n",
       "      <th>STRATA</th>\n",
       "      <th>GQ</th>\n",
       "      <th>PERNUM</th>\n",
       "      <th>PERWT</th>\n",
       "      <th>NCHILD</th>\n",
       "      <th>NCHLT5</th>\n",
       "      <th>SEX</th>\n",
       "      <th>AGE</th>\n",
       "      <th>MARST</th>\n",
       "      <th>RACE</th>\n",
       "      <th>RACED</th>\n",
       "      <th>HISPAN</th>\n",
       "      <th>HISPAND</th>\n",
       "      <th>EDUC</th>\n",
       "      <th>EDUCD</th>\n",
       "      <th>EMPSTAT</th>\n",
       "      <th>EMPSTATD</th>\n",
       "      <th>INCWAGE</th>\n",
       "      <th>VETSTAT</th>\n",
       "      <th>VETSTATD</th>\n",
       "      <th>EDUCDC</th>\n",
       "      <th>VET</th>\n",
       "      <th>WHITE</th>\n",
       "      <th>BLACK</th>\n",
       "      <th>MAR</th>\n",
       "    </tr>\n",
       "  </thead>\n",
       "  <tbody>\n",
       "    <tr>\n",
       "      <th>0</th>\n",
       "      <td>2019</td>\n",
       "      <td>201901</td>\n",
       "      <td>658</td>\n",
       "      <td>2019010040132</td>\n",
       "      <td>3096.0</td>\n",
       "      <td>2019000006581</td>\n",
       "      <td>200001</td>\n",
       "      <td>4</td>\n",
       "      <td>1</td>\n",
       "      <td>3096.0</td>\n",
       "      <td>0</td>\n",
       "      <td>0</td>\n",
       "      <td>1</td>\n",
       "      <td>49</td>\n",
       "      <td>6</td>\n",
       "      <td>1</td>\n",
       "      <td>100</td>\n",
       "      <td>0</td>\n",
       "      <td>0</td>\n",
       "      <td>2</td>\n",
       "      <td>26</td>\n",
       "      <td>1</td>\n",
       "      <td>10</td>\n",
       "      <td>1700</td>\n",
       "      <td>1</td>\n",
       "      <td>11</td>\n",
       "      <td>8.0</td>\n",
       "      <td>0</td>\n",
       "      <td>1</td>\n",
       "      <td>0</td>\n",
       "      <td>0</td>\n",
       "    </tr>\n",
       "    <tr>\n",
       "      <th>1</th>\n",
       "      <td>2019</td>\n",
       "      <td>201901</td>\n",
       "      <td>18460</td>\n",
       "      <td>2019001119914</td>\n",
       "      <td>17647.2</td>\n",
       "      <td>2019000184601</td>\n",
       "      <td>50001</td>\n",
       "      <td>1</td>\n",
       "      <td>1</td>\n",
       "      <td>17647.2</td>\n",
       "      <td>0</td>\n",
       "      <td>0</td>\n",
       "      <td>2</td>\n",
       "      <td>51</td>\n",
       "      <td>5</td>\n",
       "      <td>1</td>\n",
       "      <td>100</td>\n",
       "      <td>0</td>\n",
       "      <td>0</td>\n",
       "      <td>2</td>\n",
       "      <td>26</td>\n",
       "      <td>1</td>\n",
       "      <td>10</td>\n",
       "      <td>15000</td>\n",
       "      <td>1</td>\n",
       "      <td>11</td>\n",
       "      <td>8.0</td>\n",
       "      <td>0</td>\n",
       "      <td>1</td>\n",
       "      <td>0</td>\n",
       "      <td>0</td>\n",
       "    </tr>\n",
       "    <tr>\n",
       "      <th>2</th>\n",
       "      <td>2019</td>\n",
       "      <td>201901</td>\n",
       "      <td>48646</td>\n",
       "      <td>2019001015243</td>\n",
       "      <td>9288.0</td>\n",
       "      <td>2019000486461</td>\n",
       "      <td>80504</td>\n",
       "      <td>2</td>\n",
       "      <td>3</td>\n",
       "      <td>12848.4</td>\n",
       "      <td>0</td>\n",
       "      <td>0</td>\n",
       "      <td>1</td>\n",
       "      <td>21</td>\n",
       "      <td>6</td>\n",
       "      <td>7</td>\n",
       "      <td>700</td>\n",
       "      <td>1</td>\n",
       "      <td>100</td>\n",
       "      <td>2</td>\n",
       "      <td>26</td>\n",
       "      <td>1</td>\n",
       "      <td>10</td>\n",
       "      <td>14000</td>\n",
       "      <td>1</td>\n",
       "      <td>11</td>\n",
       "      <td>8.0</td>\n",
       "      <td>0</td>\n",
       "      <td>0</td>\n",
       "      <td>0</td>\n",
       "      <td>0</td>\n",
       "    </tr>\n",
       "    <tr>\n",
       "      <th>3</th>\n",
       "      <td>2019</td>\n",
       "      <td>201901</td>\n",
       "      <td>102981</td>\n",
       "      <td>2019000172057</td>\n",
       "      <td>25696.8</td>\n",
       "      <td>2019001029811</td>\n",
       "      <td>371206</td>\n",
       "      <td>1</td>\n",
       "      <td>1</td>\n",
       "      <td>25542.0</td>\n",
       "      <td>0</td>\n",
       "      <td>0</td>\n",
       "      <td>2</td>\n",
       "      <td>40</td>\n",
       "      <td>4</td>\n",
       "      <td>7</td>\n",
       "      <td>700</td>\n",
       "      <td>4</td>\n",
       "      <td>416</td>\n",
       "      <td>2</td>\n",
       "      <td>26</td>\n",
       "      <td>1</td>\n",
       "      <td>10</td>\n",
       "      <td>0</td>\n",
       "      <td>1</td>\n",
       "      <td>11</td>\n",
       "      <td>8.0</td>\n",
       "      <td>0</td>\n",
       "      <td>0</td>\n",
       "      <td>0</td>\n",
       "      <td>0</td>\n",
       "    </tr>\n",
       "    <tr>\n",
       "      <th>4</th>\n",
       "      <td>2019</td>\n",
       "      <td>201901</td>\n",
       "      <td>115520</td>\n",
       "      <td>2019000302438</td>\n",
       "      <td>13158.0</td>\n",
       "      <td>2019001155201</td>\n",
       "      <td>730206</td>\n",
       "      <td>1</td>\n",
       "      <td>1</td>\n",
       "      <td>13158.0</td>\n",
       "      <td>1</td>\n",
       "      <td>0</td>\n",
       "      <td>1</td>\n",
       "      <td>50</td>\n",
       "      <td>1</td>\n",
       "      <td>1</td>\n",
       "      <td>100</td>\n",
       "      <td>1</td>\n",
       "      <td>100</td>\n",
       "      <td>2</td>\n",
       "      <td>26</td>\n",
       "      <td>1</td>\n",
       "      <td>10</td>\n",
       "      <td>37500</td>\n",
       "      <td>1</td>\n",
       "      <td>11</td>\n",
       "      <td>8.0</td>\n",
       "      <td>0</td>\n",
       "      <td>1</td>\n",
       "      <td>0</td>\n",
       "      <td>1</td>\n",
       "    </tr>\n",
       "  </tbody>\n",
       "</table>\n",
       "</div>"
      ],
      "text/plain": [
       "   YEAR  SAMPLE  SERIAL       CBSERIAL     HHWT        CLUSTER  STRATA  GQ  \\\n",
       "0  2019  201901     658  2019010040132   3096.0  2019000006581  200001   4   \n",
       "1  2019  201901   18460  2019001119914  17647.2  2019000184601   50001   1   \n",
       "2  2019  201901   48646  2019001015243   9288.0  2019000486461   80504   2   \n",
       "3  2019  201901  102981  2019000172057  25696.8  2019001029811  371206   1   \n",
       "4  2019  201901  115520  2019000302438  13158.0  2019001155201  730206   1   \n",
       "\n",
       "   PERNUM    PERWT  NCHILD  NCHLT5  SEX  AGE  MARST  RACE  RACED  HISPAN  \\\n",
       "0       1   3096.0       0       0    1   49      6     1    100       0   \n",
       "1       1  17647.2       0       0    2   51      5     1    100       0   \n",
       "2       3  12848.4       0       0    1   21      6     7    700       1   \n",
       "3       1  25542.0       0       0    2   40      4     7    700       4   \n",
       "4       1  13158.0       1       0    1   50      1     1    100       1   \n",
       "\n",
       "   HISPAND  EDUC  EDUCD  EMPSTAT  EMPSTATD  INCWAGE  VETSTAT  VETSTATD  \\\n",
       "0        0     2     26        1        10     1700        1        11   \n",
       "1        0     2     26        1        10    15000        1        11   \n",
       "2      100     2     26        1        10    14000        1        11   \n",
       "3      416     2     26        1        10        0        1        11   \n",
       "4      100     2     26        1        10    37500        1        11   \n",
       "\n",
       "   EDUCDC  VET  WHITE  BLACK  MAR  \n",
       "0     8.0    0      1      0    0  \n",
       "1     8.0    0      1      0    0  \n",
       "2     8.0    0      0      0    0  \n",
       "3     8.0    0      0      0    0  \n",
       "4     8.0    0      1      0    1  "
      ]
     },
     "execution_count": 21,
     "metadata": {},
     "output_type": "execute_result"
    }
   ],
   "source": [
    "# check the data for our changes - the 4 new dummy variables will be found at the end \n",
    "acs_data.head()"
   ]
  },
  {
   "cell_type": "markdown",
   "metadata": {},
   "source": [
    "Note about conveting categorical to dummy variables:  \n",
    "There are several possible approaches to encode categorical values, and statsmodels has built-in support\n",
    "for many of them. In general these work by splitting a categorical variable into many different binary variables. \n",
    "The simplest way to encode categoricals is “dummy-encoding” which encodes a k-level categorical variable into k-1 \n",
    "binary variables. In statsmodels this is done easily using the C() function."
   ]
  },
  {
   "cell_type": "markdown",
   "metadata": {},
   "source": [
    "## Geneating new variables - Create new information from the INCWAGE variable "
   ]
  },
  {
   "cell_type": "markdown",
   "metadata": {},
   "source": [
    "### e) Income - Create a new variable for the natural log of INCWAGE"
   ]
  },
  {
   "cell_type": "code",
   "execution_count": 22,
   "metadata": {},
   "outputs": [],
   "source": [
    "# We first drop those with 0 income. This is because ln(0) is undefined\n",
    "acs_data = acs_data[acs_data.INCWAGE != 0]\n",
    "# creating new variable \"INCWAGE_log\" in the data, the natural log of INCWAGE \n",
    "acs_data['INCWAGE_log'] = np.log(acs_data['INCWAGE'])"
   ]
  },
  {
   "cell_type": "code",
   "execution_count": 23,
   "metadata": {},
   "outputs": [
    {
     "data": {
      "text/html": [
       "<div>\n",
       "<style scoped>\n",
       "    .dataframe tbody tr th:only-of-type {\n",
       "        vertical-align: middle;\n",
       "    }\n",
       "\n",
       "    .dataframe tbody tr th {\n",
       "        vertical-align: top;\n",
       "    }\n",
       "\n",
       "    .dataframe thead th {\n",
       "        text-align: right;\n",
       "    }\n",
       "</style>\n",
       "<table border=\"1\" class=\"dataframe\">\n",
       "  <thead>\n",
       "    <tr style=\"text-align: right;\">\n",
       "      <th></th>\n",
       "      <th>INCWAGE</th>\n",
       "      <th>INCWAGE_log</th>\n",
       "    </tr>\n",
       "  </thead>\n",
       "  <tbody>\n",
       "    <tr>\n",
       "      <th>0</th>\n",
       "      <td>1700</td>\n",
       "      <td>7.438384</td>\n",
       "    </tr>\n",
       "    <tr>\n",
       "      <th>1</th>\n",
       "      <td>15000</td>\n",
       "      <td>9.615805</td>\n",
       "    </tr>\n",
       "    <tr>\n",
       "      <th>2</th>\n",
       "      <td>14000</td>\n",
       "      <td>9.546813</td>\n",
       "    </tr>\n",
       "    <tr>\n",
       "      <th>4</th>\n",
       "      <td>37500</td>\n",
       "      <td>10.532096</td>\n",
       "    </tr>\n",
       "    <tr>\n",
       "      <th>5</th>\n",
       "      <td>26400</td>\n",
       "      <td>10.181119</td>\n",
       "    </tr>\n",
       "    <tr>\n",
       "      <th>6</th>\n",
       "      <td>30000</td>\n",
       "      <td>10.308953</td>\n",
       "    </tr>\n",
       "    <tr>\n",
       "      <th>7</th>\n",
       "      <td>25000</td>\n",
       "      <td>10.126631</td>\n",
       "    </tr>\n",
       "    <tr>\n",
       "      <th>8</th>\n",
       "      <td>18000</td>\n",
       "      <td>9.798127</td>\n",
       "    </tr>\n",
       "    <tr>\n",
       "      <th>9</th>\n",
       "      <td>29000</td>\n",
       "      <td>10.275051</td>\n",
       "    </tr>\n",
       "    <tr>\n",
       "      <th>10</th>\n",
       "      <td>21000</td>\n",
       "      <td>9.952278</td>\n",
       "    </tr>\n",
       "  </tbody>\n",
       "</table>\n",
       "</div>"
      ],
      "text/plain": [
       "    INCWAGE  INCWAGE_log\n",
       "0      1700     7.438384\n",
       "1     15000     9.615805\n",
       "2     14000     9.546813\n",
       "4     37500    10.532096\n",
       "5     26400    10.181119\n",
       "6     30000    10.308953\n",
       "7     25000    10.126631\n",
       "8     18000     9.798127\n",
       "9     29000    10.275051\n",
       "10    21000     9.952278"
      ]
     },
     "execution_count": 23,
     "metadata": {},
     "output_type": "execute_result"
    }
   ],
   "source": [
    "acs_data[['INCWAGE','INCWAGE_log']].head(10)"
   ]
  },
  {
   "cell_type": "markdown",
   "metadata": {},
   "source": [
    "### e) Income - Create a new variable for INCWAGE squared"
   ]
  },
  {
   "cell_type": "code",
   "execution_count": 24,
   "metadata": {},
   "outputs": [],
   "source": [
    "# creating new variable \"INCWAGESQ\" in the data, which is the square of INCWAGE\n",
    "acs_data['INCWAGESQ'] = np.power(acs_data['INCWAGE'], 2)"
   ]
  },
  {
   "cell_type": "code",
   "execution_count": 25,
   "metadata": {},
   "outputs": [
    {
     "data": {
      "text/html": [
       "<div>\n",
       "<style scoped>\n",
       "    .dataframe tbody tr th:only-of-type {\n",
       "        vertical-align: middle;\n",
       "    }\n",
       "\n",
       "    .dataframe tbody tr th {\n",
       "        vertical-align: top;\n",
       "    }\n",
       "\n",
       "    .dataframe thead th {\n",
       "        text-align: right;\n",
       "    }\n",
       "</style>\n",
       "<table border=\"1\" class=\"dataframe\">\n",
       "  <thead>\n",
       "    <tr style=\"text-align: right;\">\n",
       "      <th></th>\n",
       "      <th>YEAR</th>\n",
       "      <th>SAMPLE</th>\n",
       "      <th>SERIAL</th>\n",
       "      <th>CBSERIAL</th>\n",
       "      <th>HHWT</th>\n",
       "      <th>CLUSTER</th>\n",
       "      <th>STRATA</th>\n",
       "      <th>GQ</th>\n",
       "      <th>PERNUM</th>\n",
       "      <th>PERWT</th>\n",
       "      <th>NCHILD</th>\n",
       "      <th>NCHLT5</th>\n",
       "      <th>SEX</th>\n",
       "      <th>AGE</th>\n",
       "      <th>MARST</th>\n",
       "      <th>RACE</th>\n",
       "      <th>RACED</th>\n",
       "      <th>HISPAN</th>\n",
       "      <th>HISPAND</th>\n",
       "      <th>EDUC</th>\n",
       "      <th>EDUCD</th>\n",
       "      <th>EMPSTAT</th>\n",
       "      <th>EMPSTATD</th>\n",
       "      <th>INCWAGE</th>\n",
       "      <th>VETSTAT</th>\n",
       "      <th>VETSTATD</th>\n",
       "      <th>EDUCDC</th>\n",
       "      <th>VET</th>\n",
       "      <th>WHITE</th>\n",
       "      <th>BLACK</th>\n",
       "      <th>MAR</th>\n",
       "      <th>INCWAGE_log</th>\n",
       "      <th>INCWAGESQ</th>\n",
       "    </tr>\n",
       "  </thead>\n",
       "  <tbody>\n",
       "    <tr>\n",
       "      <th>0</th>\n",
       "      <td>2019</td>\n",
       "      <td>201901</td>\n",
       "      <td>658</td>\n",
       "      <td>2019010040132</td>\n",
       "      <td>3096.0</td>\n",
       "      <td>2019000006581</td>\n",
       "      <td>200001</td>\n",
       "      <td>4</td>\n",
       "      <td>1</td>\n",
       "      <td>3096.0</td>\n",
       "      <td>0</td>\n",
       "      <td>0</td>\n",
       "      <td>1</td>\n",
       "      <td>49</td>\n",
       "      <td>6</td>\n",
       "      <td>1</td>\n",
       "      <td>100</td>\n",
       "      <td>0</td>\n",
       "      <td>0</td>\n",
       "      <td>2</td>\n",
       "      <td>26</td>\n",
       "      <td>1</td>\n",
       "      <td>10</td>\n",
       "      <td>1700</td>\n",
       "      <td>1</td>\n",
       "      <td>11</td>\n",
       "      <td>8.0</td>\n",
       "      <td>0</td>\n",
       "      <td>1</td>\n",
       "      <td>0</td>\n",
       "      <td>0</td>\n",
       "      <td>7.438384</td>\n",
       "      <td>2890000</td>\n",
       "    </tr>\n",
       "    <tr>\n",
       "      <th>1</th>\n",
       "      <td>2019</td>\n",
       "      <td>201901</td>\n",
       "      <td>18460</td>\n",
       "      <td>2019001119914</td>\n",
       "      <td>17647.2</td>\n",
       "      <td>2019000184601</td>\n",
       "      <td>50001</td>\n",
       "      <td>1</td>\n",
       "      <td>1</td>\n",
       "      <td>17647.2</td>\n",
       "      <td>0</td>\n",
       "      <td>0</td>\n",
       "      <td>2</td>\n",
       "      <td>51</td>\n",
       "      <td>5</td>\n",
       "      <td>1</td>\n",
       "      <td>100</td>\n",
       "      <td>0</td>\n",
       "      <td>0</td>\n",
       "      <td>2</td>\n",
       "      <td>26</td>\n",
       "      <td>1</td>\n",
       "      <td>10</td>\n",
       "      <td>15000</td>\n",
       "      <td>1</td>\n",
       "      <td>11</td>\n",
       "      <td>8.0</td>\n",
       "      <td>0</td>\n",
       "      <td>1</td>\n",
       "      <td>0</td>\n",
       "      <td>0</td>\n",
       "      <td>9.615805</td>\n",
       "      <td>225000000</td>\n",
       "    </tr>\n",
       "    <tr>\n",
       "      <th>2</th>\n",
       "      <td>2019</td>\n",
       "      <td>201901</td>\n",
       "      <td>48646</td>\n",
       "      <td>2019001015243</td>\n",
       "      <td>9288.0</td>\n",
       "      <td>2019000486461</td>\n",
       "      <td>80504</td>\n",
       "      <td>2</td>\n",
       "      <td>3</td>\n",
       "      <td>12848.4</td>\n",
       "      <td>0</td>\n",
       "      <td>0</td>\n",
       "      <td>1</td>\n",
       "      <td>21</td>\n",
       "      <td>6</td>\n",
       "      <td>7</td>\n",
       "      <td>700</td>\n",
       "      <td>1</td>\n",
       "      <td>100</td>\n",
       "      <td>2</td>\n",
       "      <td>26</td>\n",
       "      <td>1</td>\n",
       "      <td>10</td>\n",
       "      <td>14000</td>\n",
       "      <td>1</td>\n",
       "      <td>11</td>\n",
       "      <td>8.0</td>\n",
       "      <td>0</td>\n",
       "      <td>0</td>\n",
       "      <td>0</td>\n",
       "      <td>0</td>\n",
       "      <td>9.546813</td>\n",
       "      <td>196000000</td>\n",
       "    </tr>\n",
       "    <tr>\n",
       "      <th>4</th>\n",
       "      <td>2019</td>\n",
       "      <td>201901</td>\n",
       "      <td>115520</td>\n",
       "      <td>2019000302438</td>\n",
       "      <td>13158.0</td>\n",
       "      <td>2019001155201</td>\n",
       "      <td>730206</td>\n",
       "      <td>1</td>\n",
       "      <td>1</td>\n",
       "      <td>13158.0</td>\n",
       "      <td>1</td>\n",
       "      <td>0</td>\n",
       "      <td>1</td>\n",
       "      <td>50</td>\n",
       "      <td>1</td>\n",
       "      <td>1</td>\n",
       "      <td>100</td>\n",
       "      <td>1</td>\n",
       "      <td>100</td>\n",
       "      <td>2</td>\n",
       "      <td>26</td>\n",
       "      <td>1</td>\n",
       "      <td>10</td>\n",
       "      <td>37500</td>\n",
       "      <td>1</td>\n",
       "      <td>11</td>\n",
       "      <td>8.0</td>\n",
       "      <td>0</td>\n",
       "      <td>1</td>\n",
       "      <td>0</td>\n",
       "      <td>1</td>\n",
       "      <td>10.532096</td>\n",
       "      <td>1406250000</td>\n",
       "    </tr>\n",
       "    <tr>\n",
       "      <th>5</th>\n",
       "      <td>2019</td>\n",
       "      <td>201901</td>\n",
       "      <td>183322</td>\n",
       "      <td>2019001010122</td>\n",
       "      <td>31734.0</td>\n",
       "      <td>2019001833221</td>\n",
       "      <td>830206</td>\n",
       "      <td>1</td>\n",
       "      <td>2</td>\n",
       "      <td>39783.6</td>\n",
       "      <td>2</td>\n",
       "      <td>1</td>\n",
       "      <td>1</td>\n",
       "      <td>28</td>\n",
       "      <td>1</td>\n",
       "      <td>1</td>\n",
       "      <td>100</td>\n",
       "      <td>1</td>\n",
       "      <td>100</td>\n",
       "      <td>2</td>\n",
       "      <td>26</td>\n",
       "      <td>1</td>\n",
       "      <td>12</td>\n",
       "      <td>26400</td>\n",
       "      <td>1</td>\n",
       "      <td>11</td>\n",
       "      <td>8.0</td>\n",
       "      <td>0</td>\n",
       "      <td>1</td>\n",
       "      <td>0</td>\n",
       "      <td>1</td>\n",
       "      <td>10.181119</td>\n",
       "      <td>696960000</td>\n",
       "    </tr>\n",
       "  </tbody>\n",
       "</table>\n",
       "</div>"
      ],
      "text/plain": [
       "   YEAR  SAMPLE  SERIAL       CBSERIAL     HHWT        CLUSTER  STRATA  GQ  \\\n",
       "0  2019  201901     658  2019010040132   3096.0  2019000006581  200001   4   \n",
       "1  2019  201901   18460  2019001119914  17647.2  2019000184601   50001   1   \n",
       "2  2019  201901   48646  2019001015243   9288.0  2019000486461   80504   2   \n",
       "4  2019  201901  115520  2019000302438  13158.0  2019001155201  730206   1   \n",
       "5  2019  201901  183322  2019001010122  31734.0  2019001833221  830206   1   \n",
       "\n",
       "   PERNUM    PERWT  NCHILD  NCHLT5  SEX  AGE  MARST  RACE  RACED  HISPAN  \\\n",
       "0       1   3096.0       0       0    1   49      6     1    100       0   \n",
       "1       1  17647.2       0       0    2   51      5     1    100       0   \n",
       "2       3  12848.4       0       0    1   21      6     7    700       1   \n",
       "4       1  13158.0       1       0    1   50      1     1    100       1   \n",
       "5       2  39783.6       2       1    1   28      1     1    100       1   \n",
       "\n",
       "   HISPAND  EDUC  EDUCD  EMPSTAT  EMPSTATD  INCWAGE  VETSTAT  VETSTATD  \\\n",
       "0        0     2     26        1        10     1700        1        11   \n",
       "1        0     2     26        1        10    15000        1        11   \n",
       "2      100     2     26        1        10    14000        1        11   \n",
       "4      100     2     26        1        10    37500        1        11   \n",
       "5      100     2     26        1        12    26400        1        11   \n",
       "\n",
       "   EDUCDC  VET  WHITE  BLACK  MAR  INCWAGE_log   INCWAGESQ  \n",
       "0     8.0    0      1      0    0     7.438384     2890000  \n",
       "1     8.0    0      1      0    0     9.615805   225000000  \n",
       "2     8.0    0      0      0    0     9.546813   196000000  \n",
       "4     8.0    0      1      0    1    10.532096  1406250000  \n",
       "5     8.0    0      1      0    1    10.181119   696960000  "
      ]
     },
     "execution_count": 25,
     "metadata": {},
     "output_type": "execute_result"
    }
   ],
   "source": [
    "# check the data for our changes - the 2 new income variables will be found at the end \n",
    "acs_data.head()"
   ]
  },
  {
   "cell_type": "markdown",
   "metadata": {},
   "source": [
    "# 3. Performing data analysis and answering questions."
   ]
  },
  {
   "cell_type": "markdown",
   "metadata": {},
   "source": [
    "## Summary statistic (mean, sd) for age variable only"
   ]
  },
  {
   "cell_type": "code",
   "execution_count": 26,
   "metadata": {},
   "outputs": [
    {
     "data": {
      "text/plain": [
       "Index(['YEAR', 'SAMPLE', 'SERIAL', 'CBSERIAL', 'HHWT', 'CLUSTER', 'STRATA',\n",
       "       'GQ', 'PERNUM', 'PERWT', 'NCHILD', 'NCHLT5', 'SEX', 'AGE', 'MARST',\n",
       "       'RACE', 'RACED', 'HISPAN', 'HISPAND', 'EDUC', 'EDUCD', 'EMPSTAT',\n",
       "       'EMPSTATD', 'INCWAGE', 'VETSTAT', 'VETSTATD', 'EDUCDC', 'VET', 'WHITE',\n",
       "       'BLACK', 'MAR', 'INCWAGE_log', 'INCWAGESQ'],\n",
       "      dtype='object')"
      ]
     },
     "execution_count": 26,
     "metadata": {},
     "output_type": "execute_result"
    }
   ],
   "source": [
    "acs_data.columns"
   ]
  },
  {
   "cell_type": "code",
   "execution_count": 27,
   "metadata": {},
   "outputs": [
    {
     "data": {
      "text/plain": [
       "count    8800.000000\n",
       "mean       41.740909\n",
       "std        13.299873\n",
       "min        18.000000\n",
       "25%        30.000000\n",
       "50%        42.000000\n",
       "75%        53.000000\n",
       "max        65.000000\n",
       "Name: AGE, dtype: float64"
      ]
     },
     "execution_count": 27,
     "metadata": {},
     "output_type": "execute_result"
    }
   ],
   "source": [
    "acs_data['AGE'].describe()"
   ]
  },
  {
   "cell_type": "code",
   "execution_count": 28,
   "metadata": {},
   "outputs": [
    {
     "data": {
      "text/plain": [
       "41.74090909090909"
      ]
     },
     "execution_count": 28,
     "metadata": {},
     "output_type": "execute_result"
    }
   ],
   "source": [
    "acs_data['AGE'].mean()"
   ]
  },
  {
   "cell_type": "code",
   "execution_count": 29,
   "metadata": {
    "scrolled": true
   },
   "outputs": [
    {
     "data": {
      "text/plain": [
       "13.299872518768277"
      ]
     },
     "execution_count": 29,
     "metadata": {},
     "output_type": "execute_result"
    }
   ],
   "source": [
    "acs_data['AGE'].std()"
   ]
  },
  {
   "cell_type": "markdown",
   "metadata": {},
   "source": [
    "## Scatterplot for age vs income"
   ]
  },
  {
   "cell_type": "code",
   "execution_count": 30,
   "metadata": {},
   "outputs": [],
   "source": [
    "import matplotlib.pyplot as plt"
   ]
  },
  {
   "cell_type": "code",
   "execution_count": 31,
   "metadata": {
    "scrolled": true
   },
   "outputs": [
    {
     "data": {
      "text/plain": [
       "Text(0, 0.5, 'Income (dollars)')"
      ]
     },
     "execution_count": 31,
     "metadata": {},
     "output_type": "execute_result"
    },
    {
     "data": {
      "image/png": "[encoded data removed]",
      "text/plain": [
       "<Figure size 640x480 with 1 Axes>"
      ]
     },
     "metadata": {},
     "output_type": "display_data"
    }
   ],
   "source": [
    "plt.scatter(acs_data['AGE'], acs_data['INCWAGE'], alpha=0.2, s=25) \n",
    "# alpha = blending value, between 0 (transparent) and 1 (opaque)\n",
    "# s = size of the marker points\n",
    "plt.title('Age vs. Income')\n",
    "plt.xlabel('Age (years)')\n",
    "plt.ylabel('Income (dollars)')"
   ]
  },
  {
   "cell_type": "markdown",
   "metadata": {},
   "source": [
    "### On the graph of age vs. income, include a linear fit line specific to individuals who are married. "
   ]
  },
  {
   "cell_type": "markdown",
   "metadata": {},
   "source": [
    "1. Prepare the linear fit line"
   ]
  },
  {
   "cell_type": "code",
   "execution_count": 32,
   "metadata": {},
   "outputs": [],
   "source": [
    "from sklearn.linear_model import LinearRegression as lm\n",
    "\n",
    "#subset married individuals only from the acs_data\n",
    "acs_married_data = acs_data[acs_data['MAR'] == 1]\n",
    "\n",
    "#fit the linear regression prediction of age vs. income for individuals who are married\n",
    "y = acs_married_data[['INCWAGE']].values\n",
    "X = acs_married_data[['AGE' ]].values\n",
    "y_pred = lm().fit(X, y).predict(X)"
   ]
  },
  {
   "cell_type": "markdown",
   "metadata": {},
   "source": [
    "2. Plot"
   ]
  },
  {
   "cell_type": "code",
   "execution_count": 33,
   "metadata": {},
   "outputs": [
    {
     "data": {
      "text/plain": [
       "Text(0, 0.5, 'Income (dollars)')"
      ]
     },
     "execution_count": 33,
     "metadata": {},
     "output_type": "execute_result"
    },
    {
     "data": {
      "image/png": "[encoded data removed]",
      "text/plain": [
       "<Figure size 640x480 with 1 Axes>"
      ]
     },
     "metadata": {},
     "output_type": "display_data"
    }
   ],
   "source": [
    "# scatterplot of age vs. income\n",
    "plt.scatter(acs_data['AGE'], acs_data['INCWAGE'], alpha=0.2, s=25) \n",
    "# linear fit line\n",
    "plt.plot(X, y_pred, color= \"orange\", linewidth=3, label = \"Married\")\n",
    "\n",
    "plt.title('Age vs. Income')\n",
    "plt.legend()\n",
    "plt.xlabel('Age (years)')\n",
    "plt.ylabel('Income (dollars)')"
   ]
  },
  {
   "cell_type": "markdown",
   "metadata": {},
   "source": [
    "## Regressing income only on age and martial status"
   ]
  },
  {
   "cell_type": "code",
   "execution_count": 34,
   "metadata": {
    "scrolled": true
   },
   "outputs": [
    {
     "name": "stdout",
     "output_type": "stream",
     "text": [
      "                            OLS Regression Results                            \n",
      "==============================================================================\n",
      "Dep. Variable:                INCWAGE   R-squared:                       0.071\n",
      "Model:                            OLS   Adj. R-squared:                  0.071\n",
      "Method:                 Least Squares   F-statistic:                     338.1\n",
      "Date:                Sat, 20 Jan 2024   Prob (F-statistic):          3.29e-142\n",
      "Time:                        13:27:27   Log-Likelihood:            -1.1021e+05\n",
      "No. Observations:                8800   AIC:                         2.204e+05\n",
      "Df Residuals:                    8797   BIC:                         2.204e+05\n",
      "Df Model:                           2                                         \n",
      "Covariance Type:            nonrobust                                         \n",
      "==============================================================================\n",
      "                 coef    std err          t      P>|t|      [0.025      0.975]\n",
      "------------------------------------------------------------------------------\n",
      "Intercept   1.172e+04   2335.360      5.018      0.000    7141.476    1.63e+04\n",
      "AGE          829.2456     56.779     14.605      0.000     717.946     940.545\n",
      "MAR         2.307e+04   1520.749     15.169      0.000    2.01e+04     2.6e+04\n",
      "==============================================================================\n",
      "Omnibus:                     7867.516   Durbin-Watson:                   1.637\n",
      "Prob(Omnibus):                  0.000   Jarque-Bera (JB):           280616.746\n",
      "Skew:                           4.296   Prob(JB):                         0.00\n",
      "Kurtosis:                      29.296   Cond. No.                         144.\n",
      "==============================================================================\n",
      "\n",
      "Notes:\n",
      "[1] Standard Errors assume that the covariance matrix of the errors is correctly specified.\n"
     ]
    }
   ],
   "source": [
    "import statsmodels.formula.api as smf\n",
    "result = smf.ols('INCWAGE ~ AGE + MAR', data = acs_data).fit()\n",
    "print(result.summary())"
   ]
  },
  {
   "cell_type": "markdown",
   "metadata": {},
   "source": [
    "#### Discussion Questions:  \n",
    "(a) What fraction of the variation in wages does the model explain?  \n",
    "(b) What is the marginal difference in income for being one year older? Is this statistically significant? Is it practically significant? Briefly explain.  \n",
    "(e) Interpret the coefficient on marital status and its significance.  "
   ]
  },
  {
   "cell_type": "markdown",
   "metadata": {},
   "source": [
    "## Predictions"
   ]
  },
  {
   "cell_type": "markdown",
   "metadata": {},
   "source": [
    "As an example, what does our model predict the income for a 40-year old, married individual will be? "
   ]
  },
  {
   "cell_type": "code",
   "execution_count": 35,
   "metadata": {},
   "outputs": [],
   "source": [
    "# subsetting the data for 40-year-old married individuals only\n",
    "dat = acs_data.loc[\n",
    "    (acs_data['MAR'] == 1) & (acs_data['AGE'] == 40)\n",
    "]"
   ]
  },
  {
   "cell_type": "code",
   "execution_count": 36,
   "metadata": {},
   "outputs": [
    {
     "data": {
      "text/html": [
       "<div>\n",
       "<style scoped>\n",
       "    .dataframe tbody tr th:only-of-type {\n",
       "        vertical-align: middle;\n",
       "    }\n",
       "\n",
       "    .dataframe tbody tr th {\n",
       "        vertical-align: top;\n",
       "    }\n",
       "\n",
       "    .dataframe thead th {\n",
       "        text-align: right;\n",
       "    }\n",
       "</style>\n",
       "<table border=\"1\" class=\"dataframe\">\n",
       "  <thead>\n",
       "    <tr style=\"text-align: right;\">\n",
       "      <th></th>\n",
       "      <th>mean</th>\n",
       "      <th>mean_se</th>\n",
       "      <th>mean_ci_lower</th>\n",
       "      <th>mean_ci_upper</th>\n",
       "      <th>obs_ci_lower</th>\n",
       "      <th>obs_ci_upper</th>\n",
       "    </tr>\n",
       "  </thead>\n",
       "  <tbody>\n",
       "    <tr>\n",
       "      <th>0</th>\n",
       "      <td>67956.884241</td>\n",
       "      <td>1004.126899</td>\n",
       "      <td>65988.560865</td>\n",
       "      <td>69925.207617</td>\n",
       "      <td>-62412.19575</td>\n",
       "      <td>198325.964232</td>\n",
       "    </tr>\n",
       "  </tbody>\n",
       "</table>\n",
       "</div>"
      ],
      "text/plain": [
       "           mean      mean_se  mean_ci_lower  mean_ci_upper  obs_ci_lower  \\\n",
       "0  67956.884241  1004.126899   65988.560865   69925.207617  -62412.19575   \n",
       "\n",
       "    obs_ci_upper  \n",
       "0  198325.964232  "
      ]
     },
     "execution_count": 36,
     "metadata": {},
     "output_type": "execute_result"
    }
   ],
   "source": [
    "# Expectation for a 40-year-old married individual \n",
    "predictions = result.get_prediction(dat)\n",
    "\n",
    "predictions.summary_frame(alpha=0.05)[:1]\n",
    "# alpha : significance level for the confidence interval.\n",
    "# Fix alpha to 0.05 so that the confidence interval should have 95% coverage."
   ]
  },
  {
   "cell_type": "markdown",
   "metadata": {},
   "source": [
    "#### How do you think the model could be improved? Try fitting some different models and report the results of the model that best predicts wages that you can come up with. Use adjusted R2 as your measure of the model that produces the best prediction."
   ]
  },
  {
   "cell_type": "code",
   "execution_count": 37,
   "metadata": {},
   "outputs": [
    {
     "name": "stdout",
     "output_type": "stream",
     "text": [
      "                            OLS Regression Results                            \n",
      "==============================================================================\n",
      "Dep. Variable:            INCWAGE_log   R-squared:                       0.263\n",
      "Model:                            OLS   Adj. R-squared:                  0.263\n",
      "Method:                 Least Squares   F-statistic:                     523.1\n",
      "Date:                Sat, 20 Jan 2024   Prob (F-statistic):               0.00\n",
      "Time:                        13:27:27   Log-Likelihood:                -11985.\n",
      "No. Observations:                8800   AIC:                         2.398e+04\n",
      "Df Residuals:                    8793   BIC:                         2.403e+04\n",
      "Df Model:                           6                                         \n",
      "Covariance Type:            nonrobust                                         \n",
      "==============================================================================\n",
      "                 coef    std err          t      P>|t|      [0.025      0.975]\n",
      "------------------------------------------------------------------------------\n",
      "Intercept      8.8551      0.161     54.928      0.000       8.539       9.171\n",
      "AGE            0.0206      0.001     25.476      0.000       0.019       0.022\n",
      "MAR            0.3450      0.022     15.682      0.000       0.302       0.388\n",
      "SEX           -0.7912      0.105     -7.519      0.000      -0.997      -0.585\n",
      "EDUCDC         0.0841      0.011      7.631      0.000       0.063       0.106\n",
      "BLACK         -0.2021      0.036     -5.551      0.000      -0.273      -0.131\n",
      "EDUCDC:SEX     0.0274      0.007      3.805      0.000       0.013       0.042\n",
      "==============================================================================\n",
      "Omnibus:                     2243.294   Durbin-Watson:                   1.810\n",
      "Prob(Omnibus):                  0.000   Jarque-Bera (JB):             7748.991\n",
      "Skew:                          -1.264   Prob(JB):                         0.00\n",
      "Kurtosis:                       6.840   Cond. No.                         952.\n",
      "==============================================================================\n",
      "\n",
      "Notes:\n",
      "[1] Standard Errors assume that the covariance matrix of the errors is correctly specified.\n"
     ]
    }
   ],
   "source": [
    "result2 = smf.ols(\n",
    "    'INCWAGE_log ~ AGE + MAR + SEX + EDUCDC + BLACK + EDUCDC:SEX', \n",
    "    data = acs_data).fit()\n",
    "print(result2.summary())"
   ]
  },
  {
   "cell_type": "markdown",
   "metadata": {},
   "source": []
  }
 ],
 "metadata": {
  "kernelspec": {
   "display_name": "Python 3 (ipykernel)",
   "language": "python",
   "name": "python3"
  },
  "language_info": {
   "codemirror_mode": {
    "name": "ipython",
    "version": 3
   },
   "file_extension": ".py",
   "mimetype": "text/x-python",
   "name": "python",
   "nbconvert_exporter": "python",
   "pygments_lexer": "ipython3",
   "version": "3.10.9"
  }
 },
 "nbformat": 4,
 "nbformat_minor": 4
}
